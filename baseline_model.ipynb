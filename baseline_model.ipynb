{
 "cells": [
  {
   "cell_type": "code",
   "execution_count": 1,
   "metadata": {},
   "outputs": [],
   "source": [
    "import numpy as np\n",
    "import pandas as pd\n",
    "\n",
    "import matplotlib.pyplot as plt\n",
    "\n",
    "import bs4 as bs\n",
    "from datetime import datetime\n",
    "import time"
   ]
  },
  {
   "cell_type": "code",
   "execution_count": 2,
   "metadata": {},
   "outputs": [],
   "source": [
    "with open('datasets/AOL-user-ct-collection/user-ct-test-collection-01.txt') as file:\n",
    "    data_aol_1 = [line.strip().split('\\t') for line in file.readlines()]\n",
    "    \n",
    "with open('datasets/AOL-user-ct-collection/user-ct-test-collection-02.txt') as file:\n",
    "    data_aol_2 = [line.strip().split('\\t') for line in file.readlines()]\n",
    "    \n",
    "with open('datasets/AOL-user-ct-collection/user-ct-test-collection-03.txt') as file:\n",
    "    data_aol_3 = [line.strip().split('\\t') for line in file.readlines()]\n",
    "    \n",
    "with open('datasets/AOL-user-ct-collection/user-ct-test-collection-04.txt') as file:\n",
    "    data_aol_4 = [line.strip().split('\\t') for line in file.readlines()]\n",
    "    \n",
    "with open('datasets/AOL-user-ct-collection/user-ct-test-collection-05.txt') as file:\n",
    "    data_aol_5 = [line.strip().split('\\t') for line in file.readlines()]"
   ]
  },
  {
   "cell_type": "code",
   "execution_count": 3,
   "metadata": {},
   "outputs": [],
   "source": [
    "with open('datasets/AOL-user-ct-collection/user-ct-test-collection-06.txt') as file:\n",
    "    data_aol_6 = [line.strip().split('\\t') for line in file.readlines()]\n",
    "    \n",
    "with open('datasets/AOL-user-ct-collection/user-ct-test-collection-07.txt') as file:\n",
    "    data_aol_7 = [line.strip().split('\\t') for line in file.readlines()]\n",
    "    \n",
    "with open('datasets/AOL-user-ct-collection/user-ct-test-collection-08.txt') as file:\n",
    "    data_aol_8 = [line.strip().split('\\t') for line in file.readlines()]\n",
    "    \n",
    "with open('datasets/AOL-user-ct-collection/user-ct-test-collection-09.txt') as file:\n",
    "    data_aol_9 = [line.strip().split('\\t') for line in file.readlines()]\n",
    "    \n",
    "    \n",
    "with open('datasets/AOL-user-ct-collection/user-ct-test-collection-10.txt') as file:\n",
    "    data_aol_10 = [line.strip().split('\\t') for line in file.readlines()]\n"
   ]
  },
  {
   "cell_type": "markdown",
   "metadata": {},
   "source": [
    "Применим WordPunctTokenizer для разбиения на слова."
   ]
  },
  {
   "cell_type": "code",
   "execution_count": 4,
   "metadata": {},
   "outputs": [],
   "source": [
    "from nltk.tokenize import WordPunctTokenizer\n",
    "tokenizer = WordPunctTokenizer()\n",
    "\n",
    "for i in range(1, len(data_aol_1)):\n",
    "    data_aol_1[i][1] = ' '.join(tokenizer.tokenize(data_aol_1[i][1].lower()))\n",
    "\n",
    "for i in range(1, len(data_aol_2)):\n",
    "    data_aol_2[i][1] = ' '.join(tokenizer.tokenize(data_aol_2[i][1].lower()))\n",
    "\n",
    "for i in range(1, len(data_aol_3)):\n",
    "    data_aol_3[i][1] = ' '.join(tokenizer.tokenize(data_aol_3[i][1].lower()))\n",
    "\n",
    "for i in range(1, len(data_aol_4)):\n",
    "    data_aol_4[i][1] = ' '.join(tokenizer.tokenize(data_aol_4[i][1].lower()))\n",
    "\n",
    "for i in range(1, len(data_aol_5)):\n",
    "    data_aol_5[i][1] = ' '.join(tokenizer.tokenize(data_aol_5[i][1].lower()))\n",
    "\n",
    "for i in range(1, len(data_aol_6)):\n",
    "    data_aol_6[i][1] = ' '.join(tokenizer.tokenize(data_aol_6[i][1].lower()))\n",
    "\n",
    "for i in range(1, len(data_aol_7)):\n",
    "    data_aol_7[i][1] = ' '.join(tokenizer.tokenize(data_aol_7[i][1].lower()))\n",
    "    \n",
    "for i in range(1, len(data_aol_8)):\n",
    "    data_aol_8[i][1] = ' '.join(tokenizer.tokenize(data_aol_8[i][1].lower()))\n",
    "    \n",
    "for i in range(1, len(data_aol_9)):\n",
    "    data_aol_9[i][1] = ' '.join(tokenizer.tokenize(data_aol_9[i][1].lower()))\n",
    "    \n",
    "for i in range(1, len(data_aol_10)):\n",
    "    data_aol_10[i][1] = ' '.join(tokenizer.tokenize(data_aol_10[i][1].lower()))"
   ]
  },
  {
   "cell_type": "code",
   "execution_count": 5,
   "metadata": {},
   "outputs": [
    {
     "data": {
      "text/plain": [
       "[['AnonID', 'Query', 'QueryTime', 'ItemRank', 'ClickURL'],\n",
       " ['142', 'rentdirect . com', '2006-03-01 07:17:12'],\n",
       " ['142', 'www . prescriptionfortime . com', '2006-03-12 12:31:06'],\n",
       " ['142', 'staple . com', '2006-03-17 21:19:29'],\n",
       " ['142', 'staple . com', '2006-03-17 21:19:45'],\n",
       " ['142', 'www . newyorklawyersite . com', '2006-03-18 08:02:58'],\n",
       " ['142', 'www . newyorklawyersite . com', '2006-03-18 08:03:09'],\n",
       " ['142',\n",
       "  'westchester . gov',\n",
       "  '2006-03-20 03:55:57',\n",
       "  '1',\n",
       "  'http://www.westchestergov.com'],\n",
       " ['142', 'space . comhttp', '2006-03-24 20:51:24'],\n",
       " ['142', 'dfdf', '2006-03-24 22:23:07']]"
      ]
     },
     "execution_count": 5,
     "metadata": {},
     "output_type": "execute_result"
    }
   ],
   "source": [
    "data_aol_1[:10]"
   ]
  },
  {
   "cell_type": "code",
   "execution_count": 6,
   "metadata": {},
   "outputs": [],
   "source": [
    "data_aol = data_aol_1[1:] + data_aol_2[1:] + data_aol_3[1:] + data_aol_4[1:] + data_aol_5[1:] + data_aol_6[1:] + data_aol_7[1:] + data_aol_8[1:] + data_aol_9[1:]   "
   ]
  },
  {
   "cell_type": "code",
   "execution_count": 7,
   "metadata": {},
   "outputs": [],
   "source": [
    "data_aol_queries = [query[1] for query in data_aol]"
   ]
  },
  {
   "cell_type": "code",
   "execution_count": 8,
   "metadata": {},
   "outputs": [],
   "source": [
    "data_aol_queries_test =  [query[1] for query in data_aol_10]"
   ]
  },
  {
   "cell_type": "markdown",
   "metadata": {},
   "source": [
    "Посмотрим на распределение по кол-ву слов."
   ]
  },
  {
   "cell_type": "code",
   "execution_count": 9,
   "metadata": {},
   "outputs": [
    {
     "data": {
      "image/png": "[encoded data removed]",
      "text/plain": [
       "<Figure size 576x288 with 1 Axes>"
      ]
     },
     "metadata": {
      "needs_background": "light"
     },
     "output_type": "display_data"
    }
   ],
   "source": [
    "count_words = [len(query.split()) for query in data_aol_queries]\n",
    "plt.figure(figsize=(8, 4))\n",
    "plt.hist(count_words)\n",
    "plt.grid(ls=':')\n",
    "plt.show()"
   ]
  },
  {
   "cell_type": "code",
   "execution_count": 18,
   "metadata": {},
   "outputs": [
    {
     "data": {
      "text/plain": [
       "(333, 0, 7.0, 9.0)"
      ]
     },
     "execution_count": 18,
     "metadata": {},
     "output_type": "execute_result"
    }
   ],
   "source": [
    "np.max(count_words), np.min(count_words), np.percentile(count_words, 95), np.percentile(count_words, 99)"
   ]
  },
  {
   "cell_type": "code",
   "execution_count": 19,
   "metadata": {},
   "outputs": [
    {
     "data": {
      "text/plain": [
       "['12233161', '', '2006-05-23 21:24:05']"
      ]
     },
     "execution_count": 19,
     "metadata": {},
     "output_type": "execute_result"
    }
   ],
   "source": [
    "data_aol[np.argwhere(np.array(count_words) == 0)[0][0]]"
   ]
  },
  {
   "cell_type": "code",
   "execution_count": 10,
   "metadata": {},
   "outputs": [],
   "source": [
    "from tqdm import tqdm\n",
    "from collections import defaultdict, Counter"
   ]
  },
  {
   "cell_type": "markdown",
   "metadata": {},
   "source": [
    "Считаем насколько часто каждое слово встретилось перед предыдущими (n-1) словами.\n",
    "В нашем случаем будем рассматривать n = 2 или n = 3. \n",
    "\n",
    "К каждому запросу в конец добавим специальный символ EOS. А в \n",
    "начало несколько UNK, чтобы проводить подсчет для первых слов запроса."
   ]
  },
  {
   "cell_type": "code",
   "execution_count": 11,
   "metadata": {},
   "outputs": [],
   "source": [
    "UNK, EOS = \"_UNK_\", \"_EOS_\"\n",
    "\n",
    "def count_ngrams(lines, n):\n",
    "    counts = defaultdict(Counter)\n",
    "    # counts[(word1, word2)][word3] = how many times word3 occured after (word1, word2)\n",
    "\n",
    "    for line in lines:\n",
    "        line = (UNK + ' ')* (n - 1) + line + ' ' + EOS\n",
    "        words = line.split()\n",
    "        for i in range(n - 1, len(words)):\n",
    "            counts[tuple(words[i - n + 1: i])][words[i]] += 1\n",
    "    \n",
    "    return counts\n",
    "\n"
   ]
  },
  {
   "cell_type": "markdown",
   "metadata": {},
   "source": [
    "# N-gram Language Model"
   ]
  },
  {
   "cell_type": "markdown",
   "metadata": {},
   "source": [
    "Пишем класс для статистической n-граммной языковой модели. \n",
    "\n",
    "Она посчитывает вероятности вида $P(word_2 | word_1)$ при n = 2 и $P(word_3 | word_1, word_2)$ при n = 3."
   ]
  },
  {
   "cell_type": "code",
   "execution_count": 12,
   "metadata": {},
   "outputs": [],
   "source": [
    "class NGramLanguageModel:    \n",
    "    def __init__(self, lines, n):\n",
    "        self.n = n\n",
    "    \n",
    "        counts = count_ngrams(lines, self.n)\n",
    "        \n",
    "        self.probs = defaultdict(Counter)\n",
    "        # probs[(word1, word2)][word3] = P(word3 | word1, word2)\n",
    "        \n",
    "        for prev_words in counts.keys():\n",
    "            count_prefix = 0\n",
    "            for word in counts[prev_words].keys():\n",
    "                count_prefix += counts[prev_words][word]\n",
    "            for word in counts[prev_words].keys():\n",
    "                self.probs[prev_words][word] = counts[prev_words][word] / count_prefix\n",
    "            \n",
    "    def get_possible_next_tokens(self, prefix):\n",
    "        \"\"\"\n",
    "        :param prefix: string with space-separated prefix tokens\n",
    "        :returns: a dictionary {token : it's probability} for all tokens with positive probabilities\n",
    "        \"\"\"\n",
    "        prefix = prefix.split()\n",
    "        prefix = prefix[max(0, len(prefix) - self.n + 1):]\n",
    "        prefix = [ UNK ] * (self.n - 1 - len(prefix)) + prefix\n",
    "        return self.probs[tuple(prefix)]\n",
    "    \n",
    "    def get_next_token_prob(self, prefix, next_token):\n",
    "        \"\"\"\n",
    "        :param prefix: string with space-separated prefix tokens\n",
    "        :param next_token: the next token to predict probability for\n",
    "        :returns: P(next_token|prefix) a single number, 0 <= P <= 1\n",
    "        \"\"\"\n",
    "        return self.get_possible_next_tokens(prefix).get(next_token, 0)"
   ]
  },
  {
   "cell_type": "code",
   "execution_count": null,
   "metadata": {},
   "outputs": [],
   "source": []
  },
  {
   "cell_type": "markdown",
   "metadata": {},
   "source": [
    "Строим языковую модель для n = 2."
   ]
  },
  {
   "cell_type": "code",
   "execution_count": 72,
   "metadata": {},
   "outputs": [],
   "source": [
    "lm = NGramLanguageModel(data_aol_queries, n=2)"
   ]
  },
  {
   "cell_type": "markdown",
   "metadata": {},
   "source": [
    "Посмотрим на предсказания нашей модели."
   ]
  },
  {
   "cell_type": "code",
   "execution_count": 74,
   "metadata": {},
   "outputs": [
    {
     "data": {
      "text/plain": [
       "['_EOS_',\n",
       " 'arts',\n",
       " 'and',\n",
       " 'translation',\n",
       " 'translator',\n",
       " 'of',\n",
       " 'development',\n",
       " 'in',\n",
       " 'classes',\n",
       " 'for',\n",
       " 'learning',\n",
       " 'schools',\n",
       " 'pathology',\n",
       " 'books',\n",
       " 'javascript',\n",
       " 'disorder',\n",
       " 'pathologist',\n",
       " 'translations',\n",
       " 'lessons',\n",
       " 'sample',\n",
       " 'alphabet',\n",
       " 'courses',\n",
       " '.',\n",
       " 'is',\n",
       " 'delays',\n",
       " 'us',\n",
       " 'acquisition',\n",
       " 'lesson',\n",
       " 'programs',\n",
       " 'school',\n",
       " 'examples',\n",
       " 'dictionary',\n",
       " 'learners',\n",
       " 'used',\n",
       " 'interpreter',\n",
       " 'institute',\n",
       " 'newspapers',\n",
       " 'requirements',\n",
       " 'center',\n",
       " 'tools',\n",
       " 'converter',\n",
       " 'don',\n",
       " 'instruction',\n",
       " 'translators',\n",
       " 'to',\n",
       " 'pragmatics',\n",
       " 'being',\n",
       " 'pathologists',\n",
       " 'program',\n",
       " 'software',\n",
       " 'association',\n",
       " 'class',\n",
       " 'disorders',\n",
       " 'graphic',\n",
       " 'that',\n",
       " 'assessment',\n",
       " 'en',\n",
       " 'master',\n",
       " 'easier',\n",
       " 'trivia',\n",
       " 'therapist',\n",
       " '-',\n",
       " 'academy',\n",
       " 'speech',\n",
       " 'immersion',\n",
       " 'based',\n",
       " 'delay',\n",
       " 'tapes',\n",
       " 'cds',\n",
       " 'les',\n",
       " 'pictures',\n",
       " 'history',\n",
       " 'preference',\n",
       " 'posters',\n",
       " 'flash',\n",
       " 'chart',\n",
       " 'pack',\n",
       " 'cd',\n",
       " 'calculator',\n",
       " 'course',\n",
       " 'hearing',\n",
       " 'numbers',\n",
       " 'spoken',\n",
       " 'icon',\n",
       " 'tourist',\n",
       " 'chat',\n",
       " 'online',\n",
       " 'at',\n",
       " 'tool',\n",
       " 'chats',\n",
       " 'english',\n",
       " 'zaire',\n",
       " 'summer',\n",
       " 'bible',\n",
       " 'centers',\n",
       " 'writing',\n",
       " 'michael',\n",
       " '2001',\n",
       " 'conferences',\n",
       " 'dictionaries',\n",
       " '0',\n",
       " 'skills',\n",
       " 'interpretations',\n",
       " 'on',\n",
       " 'sheets',\n",
       " 'exchange',\n",
       " 'clip',\n",
       " 'study',\n",
       " 'acquistion',\n",
       " 'box',\n",
       " 'example',\n",
       " 'corrective',\n",
       " 'delayed',\n",
       " 'testing',\n",
       " 'therapists',\n",
       " 'you',\n",
       " 'usage',\n",
       " 'settings',\n",
       " 'i',\n",
       " 'group',\n",
       " 'log',\n",
       " 'rule',\n",
       " 'proficiency',\n",
       " 'fairy',\n",
       " 'mp3',\n",
       " 'graphics',\n",
       " 'audio',\n",
       " 'version',\n",
       " 'translater',\n",
       " 'diversity',\n",
       " 'bibles',\n",
       " 'aptitude',\n",
       " 'music',\n",
       " 'peculiarities',\n",
       " 'intervention',\n",
       " 'modifications',\n",
       " 'photos',\n",
       " 'voiceover',\n",
       " 'honor',\n",
       " 'during',\n",
       " 'milestones',\n",
       " 'song',\n",
       " 'garemin',\n",
       " 'tutorial',\n",
       " 'teachers',\n",
       " 'therapy',\n",
       " 'videos',\n",
       " 'required',\n",
       " 'linked',\n",
       " 'did',\n",
       " 'monterey',\n",
       " 'e',\n",
       " 'flow',\n",
       " 'jobs',\n",
       " 'does',\n",
       " 'letters',\n",
       " 'note',\n",
       " 'www',\n",
       " 'teacher',\n",
       " 'troy',\n",
       " 'from',\n",
       " 'worship',\n",
       " 'means',\n",
       " 'intensive',\n",
       " 'choice',\n",
       " 'different',\n",
       " 'he',\n",
       " 'printable',\n",
       " 'displayed',\n",
       " 'polish',\n",
       " 'definitions',\n",
       " 'mold',\n",
       " 'do',\n",
       " 'picture',\n",
       " 'words',\n",
       " 'specialist',\n",
       " 'download',\n",
       " 'processing',\n",
       " 'preferences',\n",
       " 'barriers',\n",
       " 'tshirts',\n",
       " 'ductionary',\n",
       " 'idioms',\n",
       " 'terms',\n",
       " 'free',\n",
       " 'poetry',\n",
       " 'imagery',\n",
       " 'packs',\n",
       " 'studies',\n",
       " 'putting',\n",
       " 'games',\n",
       " 'cartoon',\n",
       " 'quizzes',\n",
       " 'id',\n",
       " 'systems',\n",
       " 'teaching',\n",
       " 'organization',\n",
       " 'verbs',\n",
       " 'comprehension',\n",
       " 'conversion',\n",
       " 'conventions',\n",
       " 'asl',\n",
       " 'villages',\n",
       " 'barrier',\n",
       " 'dvd',\n",
       " '1943',\n",
       " 'into',\n",
       " 'durand',\n",
       " 'problems',\n",
       " 'network',\n",
       " 'interpreters',\n",
       " 'phonetic',\n",
       " 'how',\n",
       " 'abroad',\n",
       " 'transaltion',\n",
       " 'raith',\n",
       " 'system',\n",
       " 'if',\n",
       " 'by',\n",
       " 'exam',\n",
       " 'disc',\n",
       " 'toys',\n",
       " 'education',\n",
       " 'dept',\n",
       " 'phrases',\n",
       " 'tests',\n",
       " 'graded',\n",
       " 'thank',\n",
       " 'information',\n",
       " 'a',\n",
       " 'weather',\n",
       " 'websites',\n",
       " 'international',\n",
       " 'clothing',\n",
       " 'chicopee',\n",
       " 'agriculture',\n",
       " 'publishing',\n",
       " 'bar',\n",
       " 'proper',\n",
       " 'boro',\n",
       " 'empower',\n",
       " 'its',\n",
       " 'friends',\n",
       " 'women',\n",
       " 'libraries',\n",
       " 'art',\n",
       " 'test',\n",
       " 'journals',\n",
       " 'arithematic',\n",
       " 'facial',\n",
       " 'aol',\n",
       " 'the',\n",
       " 'observation',\n",
       " 'with',\n",
       " 'are',\n",
       " 'basics',\n",
       " 'italian',\n",
       " 'wedding',\n",
       " 'as',\n",
       " 'colleges',\n",
       " 'major',\n",
       " 'lyrics',\n",
       " 'servise',\n",
       " 'get',\n",
       " 'they',\n",
       " 'matters',\n",
       " 'extending',\n",
       " 'confusion',\n",
       " 'known',\n",
       " 'traslator',\n",
       " 'groups',\n",
       " 'kreyol',\n",
       " 'public',\n",
       " 'brain',\n",
       " 'bill',\n",
       " 'plugins',\n",
       " 'sign',\n",
       " 'san',\n",
       " 'humor',\n",
       " 'inventor',\n",
       " 'meetup',\n",
       " 'came',\n",
       " 'activities',\n",
       " 'notes',\n",
       " 'play',\n",
       " 'written',\n",
       " 'lab',\n",
       " 'og',\n",
       " 'fair',\n",
       " 'logos',\n",
       " 'wisconsin',\n",
       " '..',\n",
       " 'use',\n",
       " 'files',\n",
       " 'umass',\n",
       " 'hebrew',\n",
       " 'case',\n",
       " 'constructs',\n",
       " 'college',\n",
       " 'ease',\n",
       " 'animals',\n",
       " 'support',\n",
       " 'island',\n",
       " 'humphries',\n",
       " 'fast',\n",
       " 'methods',\n",
       " 'scale',\n",
       " 'reviews',\n",
       " 'gabon',\n",
       " 'central',\n",
       " 'cameroon',\n",
       " 'disciplines',\n",
       " '&',\n",
       " 'projects',\n",
       " 'deficits',\n",
       " 'arm',\n",
       " 'materials',\n",
       " 'curriculum',\n",
       " 'department',\n",
       " 'society',\n",
       " \"'\",\n",
       " 'symbols',\n",
       " 'kanada',\n",
       " 'disorderhttp',\n",
       " 'rights',\n",
       " 'country',\n",
       " 'alphebet',\n",
       " 'usa',\n",
       " 'normalize',\n",
       " 'rome',\n",
       " 'slogans',\n",
       " 'technologies',\n",
       " 'occ',\n",
       " 'rules',\n",
       " 'winter',\n",
       " 'literacy',\n",
       " 'learner',\n",
       " 'c',\n",
       " 'activites',\n",
       " 'homework',\n",
       " 'elementary',\n",
       " 'students',\n",
       " 'french',\n",
       " 'spanish',\n",
       " 'skill',\n",
       " 'dissertations',\n",
       " 'commentary',\n",
       " 'their',\n",
       " 'statistics',\n",
       " 'childrens',\n",
       " 'criteria',\n",
       " 'state',\n",
       " 'basic',\n",
       " 'characteristics',\n",
       " 'clicues',\n",
       " 'offered',\n",
       " 'characters',\n",
       " 'ronna',\n",
       " 'field',\n",
       " 'ka',\n",
       " 'plus',\n",
       " 'research',\n",
       " 'devepment',\n",
       " 'samples',\n",
       " 'audibles',\n",
       " 'literature',\n",
       " 'before',\n",
       " 'but',\n",
       " 'setting',\n",
       " 'searh',\n",
       " 'website',\n",
       " 'getting',\n",
       " 'news',\n",
       " 'form',\n",
       " 'phonograph',\n",
       " 'phone',\n",
       " 'review',\n",
       " 'stars',\n",
       " 'karaoke',\n",
       " 'definition',\n",
       " 'between',\n",
       " 'new',\n",
       " 'services',\n",
       " 'font',\n",
       " 'basque',\n",
       " 'sound',\n",
       " 'specialists',\n",
       " 'camp',\n",
       " 'show',\n",
       " 'this',\n",
       " 'email',\n",
       " 'foreign',\n",
       " 'dance',\n",
       " 'chiopee',\n",
       " 'aloff',\n",
       " 'prepare',\n",
       " 'content',\n",
       " 'frühlingsfreude',\n",
       " 'fort',\n",
       " 'int',\n",
       " 'accepted',\n",
       " 'scholarships',\n",
       " 'realaudio',\n",
       " 'readingp',\n",
       " 'reading',\n",
       " 'tranlator',\n",
       " 'superstision',\n",
       " 'superstition',\n",
       " 'preferances',\n",
       " 'map',\n",
       " 'questions',\n",
       " 'prefernces',\n",
       " 'scool',\n",
       " 'resource',\n",
       " 'jerusalem',\n",
       " 'jesus',\n",
       " 'cartooclimate',\n",
       " 'camaroon',\n",
       " 'broken',\n",
       " 'chicago',\n",
       " 'sampleprograms',\n",
       " 'arithematicsample',\n",
       " 'one',\n",
       " 'two',\n",
       " 'book',\n",
       " 'data',\n",
       " 'bittorent',\n",
       " 'examination',\n",
       " 'ranslators',\n",
       " 'help',\n",
       " 'vhs',\n",
       " 'tigerius',\n",
       " 'print',\n",
       " 'science',\n",
       " 'acquisiton',\n",
       " 'good',\n",
       " 'manual',\n",
       " 'sheet',\n",
       " 'christian',\n",
       " 'sermons',\n",
       " 'alphbet',\n",
       " 'mechanics',\n",
       " 'so',\n",
       " 'line',\n",
       " 'hau',\n",
       " 'disorde',\n",
       " 'fourth',\n",
       " 'tutors',\n",
       " 'portfolio',\n",
       " 'student',\n",
       " 'video',\n",
       " '--',\n",
       " 'pronunciation',\n",
       " 'family',\n",
       " 'room',\n",
       " '20',\n",
       " 'develpment',\n",
       " 'word',\n",
       " 'modernism',\n",
       " 'touris',\n",
       " 'rossetta',\n",
       " 'anastasia',\n",
       " 'instructors',\n",
       " 'named',\n",
       " 'interpreator',\n",
       " 'project',\n",
       " 'shall',\n",
       " 'stereotyping',\n",
       " 'clothes',\n",
       " 'festival',\n",
       " 'interpreting',\n",
       " 'bridges',\n",
       " '20of',\n",
       " 'everywhere',\n",
       " 'difficulty',\n",
       " 'fonts',\n",
       " 'names',\n",
       " 'special',\n",
       " 'printouts',\n",
       " 'pathalogist',\n",
       " 'perception',\n",
       " 'idol',\n",
       " 'roundup',\n",
       " 'standards',\n",
       " 'pashtoon',\n",
       " 'self',\n",
       " 'pamela',\n",
       " 'learn',\n",
       " 'translatoer',\n",
       " 'interperter',\n",
       " 'newspaper',\n",
       " 'publications',\n",
       " 'cursrss',\n",
       " 'children',\n",
       " 'circle',\n",
       " 'short',\n",
       " 'translate',\n",
       " 'patholist',\n",
       " 'vowels',\n",
       " 'ceu',\n",
       " 'war',\n",
       " 'making',\n",
       " 'makers',\n",
       " 'steps',\n",
       " 'kindergarten',\n",
       " 'translor',\n",
       " 'interpitations',\n",
       " 'essay',\n",
       " 'past',\n",
       " 'evening',\n",
       " 'paper',\n",
       " 'spoke',\n",
       " 'world',\n",
       " 'aquisition',\n",
       " 'stories',\n",
       " 'unonsciously',\n",
       " 'institutes',\n",
       " 'orlando',\n",
       " 'weina',\n",
       " 'rona',\n",
       " 'through',\n",
       " 'pictorial',\n",
       " 'beginnings',\n",
       " 'helps',\n",
       " 'service',\n",
       " 'was',\n",
       " 'pls',\n",
       " 'impirment',\n",
       " 'handshape',\n",
       " 'l',\n",
       " 'tarnslation',\n",
       " 'iroquois',\n",
       " 'drama',\n",
       " 'awards',\n",
       " 'puzzles',\n",
       " 'regrets',\n",
       " 'round',\n",
       " 'convertor',\n",
       " 'communication',\n",
       " 'an',\n",
       " 'tranlation',\n",
       " 'interpretering',\n",
       " 'come',\n",
       " 'stimulation',\n",
       " 'transulator',\n",
       " 'affect',\n",
       " 'helping',\n",
       " 'kristen',\n",
       " 'translated',\n",
       " 'training',\n",
       " 'los',\n",
       " 'la',\n",
       " 'exams',\n",
       " 'tutorials',\n",
       " 'changes',\n",
       " 'prefernse',\n",
       " 'preferance',\n",
       " 'islands',\n",
       " 'asscociation',\n",
       " 'workshop',\n",
       " 'jacksonville',\n",
       " 'dating',\n",
       " 'quotes',\n",
       " 'vocabulary',\n",
       " 'scholls',\n",
       " 'translaters',\n",
       " 'scottish',\n",
       " 'coure',\n",
       " 'chapters',\n",
       " 'sites',\n",
       " 'reeks',\n",
       " 'medical',\n",
       " 'sofware',\n",
       " 'englishnederlandsportuguêsdeutschfrançaisitalianoespañol',\n",
       " 'place',\n",
       " 'songs',\n",
       " 'pathalogy',\n",
       " 'textbooks',\n",
       " 'patholoy',\n",
       " 'experience',\n",
       " 'band']"
      ]
     },
     "execution_count": 74,
     "metadata": {},
     "output_type": "execute_result"
    }
   ],
   "source": [
    "token_probs = lm.get_possible_next_tokens('language')\n",
    "sorted(token_probs.keys(), key=token_probs.get, reverse=True)"
   ]
  },
  {
   "cell_type": "markdown",
   "metadata": {},
   "source": [
    "И напишем функцию, возвращающую наболее вероятное слова по префиксу."
   ]
  },
  {
   "cell_type": "code",
   "execution_count": 13,
   "metadata": {},
   "outputs": [],
   "source": [
    "def get_next_token(lm, prefix):\n",
    "    token_probs = lm.get_possible_next_tokens(prefix)\n",
    "    return np.array(list(token_probs.keys()))[np.argmax(list(token_probs.values()))]"
   ]
  },
  {
   "cell_type": "markdown",
   "metadata": {},
   "source": [
    "Видим, что в нашем случае наиболее вероятное - закончить запрос."
   ]
  },
  {
   "cell_type": "code",
   "execution_count": 76,
   "metadata": {},
   "outputs": [
    {
     "data": {
      "text/plain": [
       "'com'"
      ]
     },
     "execution_count": 76,
     "metadata": {},
     "output_type": "execute_result"
    }
   ],
   "source": [
    "get_next_token(lm, '.')"
   ]
  },
  {
   "cell_type": "code",
   "execution_count": 78,
   "metadata": {},
   "outputs": [
    {
     "data": {
      "text/plain": [
       "'com'"
      ]
     },
     "execution_count": 78,
     "metadata": {},
     "output_type": "execute_result"
    }
   ],
   "source": [
    "get_next_token(lm, 'www .')"
   ]
  },
  {
   "cell_type": "code",
   "execution_count": 79,
   "metadata": {},
   "outputs": [
    {
     "data": {
      "text/plain": [
       "'to'"
      ]
     },
     "execution_count": 79,
     "metadata": {},
     "output_type": "execute_result"
    }
   ],
   "source": [
    "get_next_token(lm, 'how')"
   ]
  },
  {
   "cell_type": "markdown",
   "metadata": {},
   "source": [
    "Ну ничего так, но глуповато : смотрим только на один токен назад."
   ]
  },
  {
   "cell_type": "markdown",
   "metadata": {},
   "source": [
    "Теперь посчитаем метрику - перплексию."
   ]
  },
  {
   "cell_type": "code",
   "execution_count": 14,
   "metadata": {},
   "outputs": [],
   "source": [
    "def perplexity(lm, lines, min_logprob=np.log(10 ** -50.)):\n",
    "    log_perplexity = 0\n",
    "    count_words = 0\n",
    "    for line in lines:\n",
    "        sent = line.split()\n",
    "        prefix = [UNK] * (lm.n - 1)\n",
    "        prob = lm.get_next_token_prob(' '.join(prefix), sent[0])\n",
    "        if prob > 0:\n",
    "            addition = np.log(prob)\n",
    "            if addition < min_logprob:\n",
    "                addition = min_logprob\n",
    "            log_perplexity += addition\n",
    "        else:\n",
    "            log_perplexity += min_logprob\n",
    "\n",
    "        count_words += len(sent) + 1\n",
    "        for i, token in enumerate(sent[:-1]):\n",
    "            prefix = prefix[1:] + [token]\n",
    "            prob = lm.get_next_token_prob(' '.join(prefix), sent[i + 1])\n",
    "            if prob > 0:\n",
    "                addition = np.log(prob)\n",
    "                if addition < min_logprob:\n",
    "                    addition = min_logprob\n",
    "                log_perplexity += addition\n",
    "            else:\n",
    "                log_perplexity += min_logprob\n",
    "            \n",
    "        prefix = prefix[1:] + [sent[-1]]\n",
    "        prob = lm.get_next_token_prob(' '.join(prefix), EOS)\n",
    "        if prob > 0:\n",
    "            addition = np.log(prob)\n",
    "            if addition < min_logprob:\n",
    "                addition = min_logprob\n",
    "            log_perplexity += addition\n",
    "        else:\n",
    "            log_perplexity += min_logprob\n",
    "            \n",
    "    return np.exp(-log_perplexity / count_words)"
   ]
  },
  {
   "cell_type": "code",
   "execution_count": 89,
   "metadata": {},
   "outputs": [
    {
     "data": {
      "text/plain": [
       "232788250.5037612"
      ]
     },
     "execution_count": 89,
     "metadata": {},
     "output_type": "execute_result"
    }
   ],
   "source": [
    "perplexity(lm, data_aol_queries_test)"
   ]
  },
  {
   "cell_type": "markdown",
   "metadata": {},
   "source": [
    "Посмотрим на результат модели на 3-граммах"
   ]
  },
  {
   "cell_type": "code",
   "execution_count": 90,
   "metadata": {},
   "outputs": [],
   "source": [
    "lm = NGramLanguageModel(data_aol_queries, n=3)"
   ]
  },
  {
   "cell_type": "code",
   "execution_count": 91,
   "metadata": {},
   "outputs": [
    {
     "data": {
      "text/plain": [
       "'google'"
      ]
     },
     "execution_count": 91,
     "metadata": {},
     "output_type": "execute_result"
    }
   ],
   "source": [
    "get_next_token(lm, 'www .')"
   ]
  },
  {
   "cell_type": "code",
   "execution_count": 92,
   "metadata": {},
   "outputs": [
    {
     "data": {
      "text/plain": [
       "762957792024751.1"
      ]
     },
     "execution_count": 92,
     "metadata": {},
     "output_type": "execute_result"
    }
   ],
   "source": [
    "perplexity(lm, data_aol_queries_test)"
   ]
  },
  {
   "cell_type": "markdown",
   "metadata": {},
   "source": [
    "Перплексия взрывается"
   ]
  },
  {
   "cell_type": "markdown",
   "metadata": {},
   "source": [
    "## Kneser-Ney Language Model\n",
    "\n",
    "Теперь к нашей модели применим сглаживание Кнейзера-Нея. Для этого напишем похожий класс.\n",
    "Кажется, что для нашей задачи сглаживание очень нужно так как многие вопросы встречаются только один раз и могут вообще больше никогда не встретиться."
   ]
  },
  {
   "cell_type": "code",
   "execution_count": 15,
   "metadata": {},
   "outputs": [],
   "source": [
    "# We will need a special function that reverses our counts dictionary\n",
    "def reverse_counts(counts):\n",
    "    rev = defaultdict(Counter)\n",
    "    for prefix in counts:\n",
    "        for key, value in counts[prefix].items():\n",
    "            rev[key][prefix[0]] += value\n",
    "    return rev\n",
    "    \n",
    "\n",
    "class KneserNeyLanguageModel(NGramLanguageModel): \n",
    "    \"\"\" this code is an example, no need to change anything \"\"\"\n",
    "    def __init__(self, lines, n, delta=1.0):\n",
    "        self.n = n\n",
    "        \n",
    "        # In case of unigrams we should still count for bigrams\n",
    "        self.counts = count_ngrams(lines, max(self.n, 2))\n",
    "        self.vocab = set(token for token_counts in self.counts.values() for token in token_counts)\n",
    "        self.probs = defaultdict(Counter)\n",
    "        self.delta = delta\n",
    "    \n",
    "        if n >= 2:\n",
    "            self.prev_lm = KneserNeyLanguageModel(lines, n - 1, delta=delta)\n",
    "            for prefix in self.counts:\n",
    "                token_counts = self.counts[prefix]\n",
    "                total_count = np.sum(list(token_counts.values()))\n",
    "                lambd = delta / total_count * len(token_counts)\n",
    "                self.probs[prefix] = {token: np.max(token_counts[token] - delta, 0) / total_count\n",
    "                                      + lambd * self.prev_lm.get_next_token_prob(' '.join(prefix[1:]), token)\n",
    "                                              for token in token_counts}\n",
    "        else:\n",
    "            # See https://nlp.stanford.edu/~wcmac/papers/20050421-smoothing-tutorial.pdf\n",
    "            # We have to reverse the tokens to efficiently compute N_1+\n",
    "            self.counts1 = count_ngrams(lines, 1) # Will need later\n",
    "            rev_counts = reverse_counts(self.counts)\n",
    "            sum_words = sum([len(rev_counts[postfix]) for postfix in rev_counts])\n",
    "            for word in self.vocab:\n",
    "                self.probs[tuple()][word] = len(rev_counts[word]) / sum_words\n",
    "\n",
    "    def get_possible_next_tokens(self, prefix):\n",
    "        token_probs = super().get_possible_next_tokens(prefix)\n",
    "        missing_prob_total = 1.0 - sum(token_probs.values())\n",
    "        missing_prob = missing_prob_total / max(1, len(self.vocab) - len(token_probs))\n",
    "        return {token: token_probs.get(token, missing_prob) for token in self.vocab}\n",
    "    \n",
    "    def get_next_token_prob(self, prefix, next_token):\n",
    "        token_probs = super().get_possible_next_tokens(prefix)\n",
    "        if next_token in token_probs:\n",
    "            return token_probs[next_token]\n",
    "        else:\n",
    "            # If n is equal to 1 and we haven't met this prefix, then the probability should be 0\n",
    "            if self.n == 1:\n",
    "                return 0\n",
    "            \n",
    "            # Pad the sequence if necessary\n",
    "            prefix_p = tuple(prefix.strip().split())\n",
    "            if len(prefix_p) < self.n - 1:\n",
    "                prefix_p = (UNK,) * (self.n - 1 - len(prefix_p))  + prefix_p\n",
    "            token_counts = self.counts[prefix_p]\n",
    "            total_count = np.sum(list(token_counts.values()))\n",
    "            \n",
    "            if total_count > 0:\n",
    "                # If we haven't met this prefix, just apply backoff!\n",
    "                lambd = self.delta / total_count * len(token_counts)\n",
    "                return lambd * self.prev_lm.get_next_token_prob(' '.join(prefix_p[1:]), next_token)\n",
    "            else:\n",
    "                # Otherwise, make normalized backoff\n",
    "                return self.prev_lm.get_next_token_prob(' '.join(prefix_p[1:]), next_token)"
   ]
  },
  {
   "cell_type": "code",
   "execution_count": 16,
   "metadata": {},
   "outputs": [],
   "source": [
    "lm = KneserNeyLanguageModel(data_aol_queries, n=3)"
   ]
  },
  {
   "cell_type": "code",
   "execution_count": 18,
   "metadata": {},
   "outputs": [
    {
     "data": {
      "text/plain": [
       "'com'"
      ]
     },
     "execution_count": 18,
     "metadata": {},
     "output_type": "execute_result"
    }
   ],
   "source": [
    "get_next_token(lm, 'www .')"
   ]
  },
  {
   "cell_type": "code",
   "execution_count": 22,
   "metadata": {},
   "outputs": [
    {
     "data": {
      "text/plain": [
       "1748.3296772504434"
      ]
     },
     "execution_count": 22,
     "metadata": {},
     "output_type": "execute_result"
    }
   ],
   "source": [
    "perplexity(lm, data_aol_queries_test[:100000])"
   ]
  },
  {
   "cell_type": "markdown",
   "metadata": {},
   "source": [
    "Перплексия стала гораздо лучше. "
   ]
  },
  {
   "cell_type": "code",
   "execution_count": 5,
   "metadata": {},
   "outputs": [
    {
     "data": {
      "text/html": [
       "<div>\n",
       "<style scoped>\n",
       "    .dataframe tbody tr th:only-of-type {\n",
       "        vertical-align: middle;\n",
       "    }\n",
       "\n",
       "    .dataframe tbody tr th {\n",
       "        vertical-align: top;\n",
       "    }\n",
       "\n",
       "    .dataframe thead th {\n",
       "        text-align: right;\n",
       "    }\n",
       "</style>\n",
       "<table border=\"1\" class=\"dataframe\">\n",
       "  <thead>\n",
       "    <tr style=\"text-align: right;\">\n",
       "      <th></th>\n",
       "      <th>model</th>\n",
       "      <th>perplexity</th>\n",
       "    </tr>\n",
       "  </thead>\n",
       "  <tbody>\n",
       "    <tr>\n",
       "      <th>0</th>\n",
       "      <td>n = 2</td>\n",
       "      <td>2.327883e+08</td>\n",
       "    </tr>\n",
       "    <tr>\n",
       "      <th>1</th>\n",
       "      <td>n = 3</td>\n",
       "      <td>7.629578e+14</td>\n",
       "    </tr>\n",
       "    <tr>\n",
       "      <th>2</th>\n",
       "      <td>Kneser-Ney smooting, n = 3</td>\n",
       "      <td>1.892584e+05</td>\n",
       "    </tr>\n",
       "  </tbody>\n",
       "</table>\n",
       "</div>"
      ],
      "text/plain": [
       "                        model    perplexity\n",
       "0                       n = 2  2.327883e+08\n",
       "1                       n = 3  7.629578e+14\n",
       "2  Kneser-Ney smooting, n = 3  1.892584e+05"
      ]
     },
     "execution_count": 5,
     "metadata": {},
     "output_type": "execute_result"
    }
   ],
   "source": [
    "df = pd.DataFrame()\n",
    "df['model'] = ['n = 2', 'n = 3', 'Kneser-Ney smooting, n = 3']\n",
    "df['perplexity'] = [232788250.5037612, 762957792024751.1, 189258.402469]\n",
    "\n",
    "df.head()"
   ]
  }
 ],
 "metadata": {
  "kernelspec": {
   "display_name": "Python 3",
   "language": "python",
   "name": "python3"
  },
  "language_info": {
   "codemirror_mode": {
    "name": "ipython",
    "version": 3
   },
   "file_extension": ".py",
   "mimetype": "text/x-python",
   "name": "python",
   "nbconvert_exporter": "python",
   "pygments_lexer": "ipython3",
   "version": "3.7.2"
  }
 },
 "nbformat": 4,
 "nbformat_minor": 2
}
