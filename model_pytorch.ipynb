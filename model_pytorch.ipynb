{
 "cells": [
  {
   "cell_type": "code",
   "execution_count": 1,
   "metadata": {},
   "outputs": [],
   "source": [
    "import pandas as pd\n",
    "import numpy as np\n",
    "import bs4 as bs\n",
    "from datetime import datetime\n",
    "import time\n",
    "\n",
    "from IPython.display import clear_output\n",
    "from tqdm import tqdm, trange"
   ]
  },
  {
   "cell_type": "markdown",
   "metadata": {},
   "source": [
    "Скачаем данные"
   ]
  },
  {
   "cell_type": "code",
   "execution_count": 423,
   "metadata": {},
   "outputs": [],
   "source": [
    "with open('AOL-user-ct-collection/user-ct-test-collection-01.txt') as file:\n",
    "    data_aol = [line.strip().split('\\t') for line in file.readlines()][1:]\n",
    "    \n",
    "with open('AOL-user-ct-collection/user-ct-test-collection-02.txt') as file:\n",
    "    data_aol += [line.strip().split('\\t') for line in file.readlines()][1:]\n",
    "    \n",
    "with open('AOL-user-ct-collection/user-ct-test-collection-03.txt') as file:\n",
    "    data_aol += [line.strip().split('\\t') for line in file.readlines()][1:]\n",
    "    \n",
    "with open('AOL-user-ct-collection/user-ct-test-collection-04.txt') as file:\n",
    "    data_aol += [line.strip().split('\\t') for line in file.readlines()][1:]\n",
    "    \n",
    "with open('AOL-user-ct-collection/user-ct-test-collection-05.txt') as file:\n",
    "    data_aol += [line.strip().split('\\t') for line in file.readlines()][1:]\n",
    "    \n",
    "with open('AOL-user-ct-collection/user-ct-test-collection-06.txt') as file:\n",
    "    data_aol += [line.strip().split('\\t') for line in file.readlines()][1:]\n",
    "    \n",
    "with open('AOL-user-ct-collection/user-ct-test-collection-07.txt') as file:\n",
    "    data_aol += [line.strip().split('\\t') for line in file.readlines()][1:]\n",
    "    \n",
    "with open('AOL-user-ct-collection/user-ct-test-collection-08.txt') as file:\n",
    "    data_aol += [line.strip().split('\\t') for line in file.readlines()][1:]\n",
    "    \n",
    "with open('AOL-user-ct-collection/user-ct-test-collection-09.txt') as file:\n",
    "    data_aol += [line.strip().split('\\t') for line in file.readlines()][1:]\n",
    "    \n",
    "with open('AOL-user-ct-collection/user-ct-test-collection-10.txt') as file:\n",
    "    data_aol_test = [line.strip().split('\\t') for line in file.readlines()][1:]"
   ]
  },
  {
   "cell_type": "markdown",
   "metadata": {},
   "source": [
    "Посмотрим на уникальное количество пользователей."
   ]
  },
  {
   "cell_type": "code",
   "execution_count": 60,
   "metadata": {},
   "outputs": [
    {
     "name": "stdout",
     "output_type": "stream",
     "text": [
      "Count of unique users in train = 591773, Count of unique users in test = 65654\n"
     ]
    }
   ],
   "source": [
    "unique_users_train, count_users_train = np.unique([line[0] for line in data_aol], return_counts=True)\n",
    "unique_users_test, count_users_test = np.unique([line[0] for line in data_aol_test], return_counts=True)\n",
    "print('Count of unique users in train = {}, Count of unique users in test = {}'.format(len(unique_users_train),\n",
    "                                                                                       len(unique_users_test)))"
   ]
  },
  {
   "cell_type": "markdown",
   "metadata": {},
   "source": [
    "Посмотрим на пересечения юзеров между трейном и тестом. Пересечение пустое. Остюда можно сделать вывод, что разбиение на тест и трейн корректно. "
   ]
  },
  {
   "cell_type": "code",
   "execution_count": 61,
   "metadata": {},
   "outputs": [
    {
     "data": {
      "text/plain": [
       "array([], dtype='<U8')"
      ]
     },
     "execution_count": 61,
     "metadata": {},
     "output_type": "execute_result"
    }
   ],
   "source": [
    "np.intersect1d(unique_users_train, unique_users_test)"
   ]
  },
  {
   "cell_type": "markdown",
   "metadata": {},
   "source": [
    "Токинизируем запросы при помощи WordPunctTokenizer."
   ]
  },
  {
   "cell_type": "code",
   "execution_count": 6,
   "metadata": {},
   "outputs": [],
   "source": [
    "from nltk.tokenize import WordPunctTokenizer\n",
    "tokenizer = WordPunctTokenizer()\n",
    "\n",
    "for i in range(1, len(data_aol)):\n",
    "    data_aol[i][1] = ' '.join(tokenizer.tokenize(data_aol[i][1].lower()))\n",
    "    dtime = datetime.strptime(data_aol[i][2], \"%Y-%m-%d %H:%M:%S\")\n",
    "    data_aol[i][2] = time.mktime(dtime.timetuple())\n",
    "\n",
    "for i in range(1, len(data_aol_test)):\n",
    "    data_aol_test[i][1] = ' '.join(tokenizer.tokenize(data_aol_test[i][1].lower()))\n",
    "    dtime = datetime.strptime(data_aol_test[i][2], \"%Y-%m-%d %H:%M:%S\")\n",
    "    data_aol_test[i][2] = time.mktime(dtime.timetuple())"
   ]
  },
  {
   "cell_type": "markdown",
   "metadata": {},
   "source": []
  },
  {
   "cell_type": "code",
   "execution_count": 2,
   "metadata": {},
   "outputs": [],
   "source": [
    "#save/load\n",
    "\n",
    "# import pickle \n",
    "\n",
    "# with open('data_aol.pickle', 'wb') as f:\n",
    "#     pickle.dump(data_aol, f)\n",
    "\n",
    "# with open('data_aol_test.pickle', 'wb') as f:\n",
    "#     pickle.dump(data_aol_test, f)\n",
    "    \n",
    "# with open('data_aol.pickle', 'rb') as f:\n",
    "#     data_aol = pickle.load(f)\n",
    "        \n",
    "# with open('data_aol_test.pickle', 'rb') as f:\n",
    "#     data_aol_test = pickle.load(f)"
   ]
  },
  {
   "cell_type": "markdown",
   "metadata": {},
   "source": [
    "Наша будущая модель будет предсказывать продолжение запроса по уже написанной части предсказываемого запроса и по текущей сессии. Под текущей сессией я решила понимать запросы, расположенные друг от друга не больше, чем на пол часа. При этом я рассматриваю только максимум 6 предыдущих запросов. <br>\n",
    "Таким образом, в качестве одного объекта, который будем подавать в модель, нужно взять последовательность запросов (не больше 6) из одной сессии одного юзера. При этом мы не хотим брать объект вида один запрос. Найдем подходящие индексы, чтобы потом быстрее семплить при построении батча."
   ]
  },
  {
   "cell_type": "code",
   "execution_count": 4,
   "metadata": {},
   "outputs": [],
   "source": [
    "max_query_sequence_len = 6\n",
    "session_time = 30 * 60 # 30 minutes\n",
    "\n",
    "count_prev_good_indeces = [0]\n",
    "prev_time = data_aol[0][2]\n",
    "prev_user_id = data_aol[0][0]\n",
    "\n",
    "cur_good_count = 1\n",
    "for i in range(1, len(data_aol)):\n",
    "    if data_aol[i][2] - prev_time < session_time and data_aol[i][0] == prev_user_id:\n",
    "        count_prev_good_indeces.append(cur_good_count)\n",
    "        cur_good_count += 1\n",
    "    else:\n",
    "        count_prev_good_indeces.append(0)\n",
    "        cur_good_count = 1\n",
    "    prev_user_id = data_aol[i][0]\n",
    "    prev_time = data_aol[i][2]"
   ]
  },
  {
   "cell_type": "code",
   "execution_count": 5,
   "metadata": {},
   "outputs": [],
   "source": [
    "count_prev_good_indeces = np.array(count_prev_good_indeces)\n",
    "good_last_indeces_for_batch = np.where(count_prev_good_indeces != 0)[0]\n",
    "\n",
    "count_prev_good_indeces_limited = np.min((count_prev_good_indeces + 1, \n",
    "                                          np.array([max_query_sequence_len] * len(data_aol))), axis=0)\n",
    "count_prev_good_indeces_limited  = count_prev_good_indeces + 1"
   ]
  },
  {
   "cell_type": "markdown",
   "metadata": {},
   "source": [
    "То же самое сделаю и для теста."
   ]
  },
  {
   "cell_type": "code",
   "execution_count": 6,
   "metadata": {},
   "outputs": [],
   "source": [
    "#TEST\n",
    "\n",
    "count_prev_good_indeces_test = [0]\n",
    "prev_time = data_aol_test[0][2]\n",
    "prev_user_id = data_aol_test[0][0]\n",
    "\n",
    "cur_good_count = 1\n",
    "for i in range(1, len(data_aol_test)):\n",
    "    if data_aol_test[i][2] - prev_time < session_time and data_aol_test[i][0] == prev_user_id:\n",
    "        count_prev_good_indeces_test.append(cur_good_count)\n",
    "        cur_good_count += 1\n",
    "    else:\n",
    "        count_prev_good_indeces_test.append(0)\n",
    "        cur_good_count = 1\n",
    "    prev_user_id = data_aol_test[i][0]\n",
    "    prev_time = data_aol_test[i][2]\n",
    "    \n",
    "count_prev_good_indeces_test = np.array(count_prev_good_indeces_test)\n",
    "good_last_indeces_for_batch_test = np.where(count_prev_good_indeces_test != 0)[0]\n",
    "\n",
    "count_prev_good_indeces_limited_test = np.min((count_prev_good_indeces_test + 1, \n",
    "                                          np.array([max_query_sequence_len] * len(data_aol_test))), axis=0)\n",
    "count_prev_good_indeces_limited_test  = count_prev_good_indeces_test + 1"
   ]
  },
  {
   "cell_type": "markdown",
   "metadata": {},
   "source": [
    "Процентное соотношение хороших индексов ко всем. Под хорошими индексами понимаются индексы запросов, перед которыми есть хотя бы какое-то количество запросов в текущей сессии. Остальные запросы нам нет смысла рассматривать, так как мы решаем задачу персонализированных предсказаний. "
   ]
  },
  {
   "cell_type": "code",
   "execution_count": 19,
   "metadata": {},
   "outputs": [
    {
     "data": {
      "text/plain": [
       "0.6995085727871232"
      ]
     },
     "execution_count": 19,
     "metadata": {},
     "output_type": "execute_result"
    }
   ],
   "source": [
    "(np.array(count_prev_good_indeces) != 0).sum() / len(count_prev_good_indeces)\n"
   ]
  },
  {
   "cell_type": "markdown",
   "metadata": {},
   "source": [
    "Уникальное количество слов во всех запросах просто огромное : превышает 3 миллиона. Поэтому мы, конечно, можем скачать уже готовую модель эмбеддингов и решать по сути задачу классификации на \"размер словаря\" классов, но для этого потребуются какие-то невероятные вычислительные мощности. Поэтому вместо обычных слов будем использовать BPE-токены. BPE-токены частые слова оставят неизменными, а редкие слова разобъют на несколько подслов, которые уже более часто встречаются."
   ]
  },
  {
   "cell_type": "code",
   "execution_count": null,
   "metadata": {},
   "outputs": [],
   "source": [
    "# for loading embedding model\n",
    "# import gensim.downloader \n",
    "# gensim.downloader.info()['models'].keys() \n",
    "# model_wv = gensim.downloader.load('fasttext-wiki-news-subwords-300')"
   ]
  },
  {
   "cell_type": "code",
   "execution_count": 6,
   "metadata": {},
   "outputs": [],
   "source": [
    "from subword_nmt.learn_bpe import learn_bpe\n",
    "from subword_nmt.apply_bpe import BPE\n",
    "\n",
    "# split and tokenize the data\n",
    "with open('train.en', 'w') as f_src:\n",
    "    for line in data_aol:\n",
    "        f_src.write(line[1] + '\\n')\n",
    "    for line in data_aol_test:\n",
    "        f_src.write(line[1] + '\\n')\n",
    "    \n",
    "# build and apply bpe vocs\n",
    "learn_bpe(open('./train.en'), open('bpe_rules.en', 'w'), num_symbols=40000)\n",
    "bpe = BPE(open('./bpe_rules.en'))\n",
    "\n",
    "with open('train.bpe.en', 'w') as f_out:\n",
    "    for line in open('train.en'):\n",
    "        f_out.write(bpe.process_line(line.strip()) + '\\n')"
   ]
  },
  {
   "cell_type": "markdown",
   "metadata": {},
   "source": [
    "Перепишем весь наш датасет в терминах BPE токенов. Теперь у нас появились словосочетания типа rent@@ direct, что означает, что мы разбили слово rentdirect на 2 более частых токена."
   ]
  },
  {
   "cell_type": "code",
   "execution_count": 7,
   "metadata": {},
   "outputs": [],
   "source": [
    "for i in range(len(data_aol)):\n",
    "    data_aol[i][1] = bpe.process_line(data_aol[i][1].strip())\n",
    "for i in range(len(data_aol_test)):\n",
    "    data_aol_test[i][1] = bpe.process_line(data_aol_test[i][1].strip())"
   ]
  },
  {
   "cell_type": "code",
   "execution_count": 64,
   "metadata": {},
   "outputs": [
    {
     "data": {
      "text/plain": [
       "['142', 'rent@@ direct . com', 1141186632.0]"
      ]
     },
     "execution_count": 64,
     "metadata": {},
     "output_type": "execute_result"
    }
   ],
   "source": [
    "data_aol[0]"
   ]
  },
  {
   "cell_type": "code",
   "execution_count": 3,
   "metadata": {},
   "outputs": [],
   "source": [
    "import pickle \n",
    "\n",
    "# with open('data_aol_bpe.pickle', 'wb') as f:\n",
    "#     pickle.dump(data_aol, f)\n",
    "\n",
    "# with open('data_aol_test_bpe.pickle', 'wb') as f:\n",
    "#     pickle.dump(data_aol_test, f)\n",
    "    \n",
    "with open('data_aol_bpe.pickle', 'rb') as f:\n",
    "    data_aol = pickle.load(f)\n",
    "        \n",
    "with open('data_aol_test_bpe.pickle', 'rb') as f:\n",
    "    data_aol_test = pickle.load(f)"
   ]
  },
  {
   "cell_type": "markdown",
   "metadata": {},
   "source": [
    "Посчитаем кол-во уникальных слов. К токенам также добавим токены BOS (begin of sentence), EOS (end if sentence), UNK (unknown), PAD (padding)."
   ]
  },
  {
   "cell_type": "code",
   "execution_count": 7,
   "metadata": {},
   "outputs": [],
   "source": [
    "all_words = set(' '.join((open('./train.bpe.en').read().split('\\n'))).split())"
   ]
  },
  {
   "cell_type": "code",
   "execution_count": 8,
   "metadata": {},
   "outputs": [],
   "source": [
    "all_words.add('BOS')\n",
    "all_words.add('EOS')\n",
    "all_words.add('UNK')\n",
    "all_words.add('PAD')"
   ]
  },
  {
   "cell_type": "code",
   "execution_count": 241,
   "metadata": {},
   "outputs": [
    {
     "data": {
      "text/plain": [
       "50148"
      ]
     },
     "execution_count": 241,
     "metadata": {},
     "output_type": "execute_result"
    }
   ],
   "source": [
    "len(all_words)"
   ]
  },
  {
   "cell_type": "markdown",
   "metadata": {},
   "source": [
    "Составим отображение из слов в индексы и обратно"
   ]
  },
  {
   "cell_type": "code",
   "execution_count": 9,
   "metadata": {},
   "outputs": [],
   "source": [
    "words_to_indeces = dict(zip(list(all_words), np.arange(len(all_words))))\n",
    "indeces_to_words = dict(zip(np.arange(len(all_words)), list(all_words)))"
   ]
  },
  {
   "cell_type": "markdown",
   "metadata": {},
   "source": [
    "Сохраняем/считываем все данные, полученные ранее."
   ]
  },
  {
   "cell_type": "code",
   "execution_count": 2,
   "metadata": {},
   "outputs": [],
   "source": [
    "import pickle\n",
    "\n",
    "# with open('data_aol_tr.pickle', 'wb') as f:\n",
    "#     pickle.dump(data_aol, f)\n",
    "\n",
    "# with open('good_last_indeces_for_batch_tr.pickle', 'wb') as f:\n",
    "#     pickle.dump(good_last_indeces_for_batch, f)\n",
    "    \n",
    "# with open('data_aol_test_tr.pickle', 'wb') as f:\n",
    "#     pickle.dump(data_aol_test, f)\n",
    "\n",
    "# with open('good_last_indeces_for_batch_test_tr.pickle', 'wb') as f:\n",
    "#     pickle.dump(good_last_indeces_for_batch_test, f)\n",
    "    \n",
    "# with open('count_prev_good_indeces_limited_test_tr.pickle', 'wb') as f:\n",
    "#     pickle.dump(count_prev_good_indeces_limited_test, f)\n",
    "    \n",
    "# with open('words_to_indeces_tr.pickle', 'wb') as f:\n",
    "#     pickle.dump(words_to_indeces, f)\n",
    "    \n",
    "# with open('indeces_to_words_tr.pickle', 'wb') as f:\n",
    "#     pickle.dump(indeces_to_words, f)\n",
    "    \n",
    "# with open('all_words_tr.pickle', 'wb') as f:\n",
    "#     pickle.dump(all_words, f)\n",
    "    \n",
    "# with open('count_prev_good_indeces_limited_tr.pickle', 'wb') as f:\n",
    "#     pickle.dump(count_prev_good_indeces_limited, f)\n",
    "    \n",
    "\n",
    "with open('data_aol_tr.pickle', 'rb') as f:\n",
    "    data_aol = pickle.load(f)\n",
    "\n",
    "with open('good_last_indeces_for_batch_tr.pickle', 'rb') as f:\n",
    "    good_last_indeces_for_batch = pickle.load(f)\n",
    "    \n",
    "with open('data_aol_test_tr.pickle', 'rb') as f:\n",
    "    data_aol_test = pickle.load(f)\n",
    "\n",
    "with open('good_last_indeces_for_batch_test_tr.pickle', 'rb') as f:\n",
    "    good_last_indeces_for_batch_test = pickle.load(f)\n",
    "    \n",
    "with open('count_prev_good_indeces_limited_test_tr.pickle', 'rb') as f:\n",
    "    count_prev_good_indeces_limited_test = pickle.load(f)\n",
    "    \n",
    "with open('words_to_indeces_tr.pickle', 'rb') as f:\n",
    "    words_to_indeces = pickle.load(f)\n",
    "    \n",
    "with open('indeces_to_words_tr.pickle', 'rb') as f:\n",
    "    indeces_to_words = pickle.load(f)\n",
    "    \n",
    "with open('all_words_tr.pickle', 'rb') as f:\n",
    "    all_words = pickle.load(f)\n",
    "    \n",
    "with open('count_prev_good_indeces_limited_tr.pickle', 'rb') as f:\n",
    "    count_prev_good_indeces_limited = pickle.load(f)"
   ]
  },
  {
   "cell_type": "markdown",
   "metadata": {},
   "source": [
    "## Генерация батча"
   ]
  },
  {
   "cell_type": "markdown",
   "metadata": {},
   "source": [
    "Напишем функцию для генерации батча. В качестве одного объекта нужно взять последовательность запросов (не больше 6) из одной сессии одного юзера. Здесь же превращаем все эти запросы в матричку, которую уже принимает на вход модель.\n",
    "\n",
    "Также напишем функцию, возвращающую объекты, необходимые модели для предсказания : get_data_for_prediction. Эта функция возвращает матрицы, соответствующие предыдущим запросам сессии, матрицу, соответствующую началу предсказываемого запроса и настоящий предсказываемый запрос, чтобы потом было удобно сравниваться."
   ]
  },
  {
   "cell_type": "code",
   "execution_count": 3,
   "metadata": {},
   "outputs": [],
   "source": [
    "#define parameters\n",
    "vocab_size = len(all_words)\n",
    "emb_size = 300\n",
    "batch_size = 15\n",
    "max_query_sequence_len = 6\n",
    "session_time = 30 * 60 # 30 minutes\n",
    "max_word_count_without_eos = 8\n",
    "max_word_count = max_word_count_without_eos + 1\n",
    "\n",
    "eos_ix = words_to_indeces['EOS']\n",
    "bos_ix = words_to_indeces['BOS']\n",
    "pad_ix = words_to_indeces['PAD']\n",
    "unk_ix = words_to_indeces['UNK']\n",
    "\n",
    "# embedding for BOS - np.ones(emb_size)\n",
    "# embedding for EOS - np.zeros(emb_size)\n",
    "\n",
    "# empty_query_emb = np.vstack((np.ones((1, emb_size)), np.zeros((max_word_count - 1, emb_size))))[None]\n",
    "\n",
    "# empty_query_emb = np.zeros((max_word_count - 1, emb_size))[None]\n",
    "# empty_query_target = np.array([bos_ix] + [eos_ix] * (max_word_count - 1))[None]\n",
    "\n",
    "# empty_query_emb = np.array([bos_ix] + [eos_ix] * (max_word_count_without_eos - 1))[None]\n",
    "empty_query_emb = np.array([pad_ix] * (max_word_count))[None]\n",
    "\n",
    "def data_to_matrices(data, good_last_indeces, count_prev_good_indeces_limited, \n",
    "                     emb_size=300, min_count_prev_queries=1, max_batch_size=136):\n",
    "    prev_counts = count_prev_good_indeces_limited[good_last_indeces]\n",
    "    begin_indeces = good_last_indeces - prev_counts + 1\n",
    "\n",
    "    new_data = []\n",
    "    \n",
    "    for i in range(len(begin_indeces)):\n",
    "        query_sequence = [data[j][1] for j in range(begin_indeces[i], good_last_indeces[i] + 1)]\n",
    "        current_sequence_of_queries = []\n",
    "        prev_line = ''\n",
    "        for line in query_sequence:\n",
    "            #delete repeating queries\n",
    "            if line == prev_line:\n",
    "                continue\n",
    "            if len(current_sequence_of_queries) == max_query_sequence_len:\n",
    "                break\n",
    "            \n",
    "            prev_line = line\n",
    "            query_words = []\n",
    "#             query_words.append(np.ones(emb_size)) # BOS word\n",
    "            query_targets = []\n",
    "            for word in line.split()[:max_word_count_without_eos]:\n",
    "\n",
    "                if word in all_words:\n",
    "                    query_words.append(words_to_indeces[word])\n",
    "                else:\n",
    "                    query_words.append(unk_ix)\n",
    "                    \n",
    "            query_words.append(eos_ix)\n",
    "            count_additional_words = max_word_count - len(query_words)\n",
    "            if count_additional_words > 0:\n",
    "                query_words += list(np.ones(count_additional_words).astype(int) * pad_ix)\n",
    "            # add EOS word at the end of sentence\n",
    "#             query_targets.append(eos_ix)\n",
    "            current_sequence_of_queries.append(np.array(query_words))\n",
    "        if len(current_sequence_of_queries) <= min_count_prev_queries:\n",
    "            continue\n",
    "        count_additional_queries = max_query_sequence_len - len(current_sequence_of_queries)\n",
    "        if (count_additional_queries > 0):\n",
    "#             current_sequence_of_queries = list(np.tile(empty_query_emb, reps=(count_additional_queries, 1, 1))) + current_sequence_of_queries\n",
    "            current_sequence_of_queries = list(np.tile(empty_query_emb, reps=(count_additional_queries, 1))) + current_sequence_of_queries\n",
    "\n",
    "            \n",
    "        assert len(current_sequence_of_queries) == max_query_sequence_len\n",
    "        new_data.append(current_sequence_of_queries)\n",
    "\n",
    "    return np.array(new_data)[:max_batch_size]\n",
    "\n",
    "\n",
    "def test_queries_to_matrices(batch_prev_queries, batch_next_queries, count_words, return_answers=False):\n",
    "    \n",
    "    #prev_queries to matrix\n",
    "    prev_queries_matrix = []\n",
    "    for prev_queries in batch_prev_queries:\n",
    "        current_sequence_of_queries = []\n",
    "        for query in prev_queries[-(max_query_sequence_len - 1):]:\n",
    "            query_words = []\n",
    "            for word in query.split()[:max_word_count_without_eos]:\n",
    "                if word in all_words:\n",
    "                    query_words.append(words_to_indeces[word])\n",
    "                else:\n",
    "                    query_words.append(unk_ix)\n",
    "                    \n",
    "            query_words.append(eos_ix)\n",
    "            count_additional_words = max_word_count - len(query_words)\n",
    "            if count_additional_words > 0:\n",
    "                query_words += list(np.ones(count_additional_words).astype(int) * pad_ix)\n",
    "            current_sequence_of_queries.append(np.array(query_words))\n",
    "            \n",
    "        count_additional_queries = max_query_sequence_len - len(current_sequence_of_queries) - 1\n",
    "        if (count_additional_queries > 0):\n",
    "            current_sequence_of_queries = list(np.tile(empty_query_emb, reps=(count_additional_queries, 1))) + current_sequence_of_queries\n",
    "        prev_queries_matrix.append(current_sequence_of_queries)\n",
    "    \n",
    "    #next_queries to matrix\n",
    "    next_queries_matrix = []\n",
    "    for next_query in batch_next_queries:\n",
    "        query_words = []\n",
    "    \n",
    "        for word in next_query.split()[:count_words]:\n",
    "            if word in all_words:\n",
    "                query_words.append(words_to_indeces[word])\n",
    "            else:\n",
    "                query_words.append(unk_ix)\n",
    "        count_additional_words = count_words - len(query_words)\n",
    "        if count_additional_words > 0:\n",
    "            query_words += list(np.ones(count_additional_words).astype(int) * pad_ix)\n",
    "        next_queries_matrix.append(query_words)\n",
    "        \n",
    "    if return_answers:\n",
    "        return np.array(prev_queries_matrix), np.array(next_queries_matrix), batch_next_queries\n",
    "    else:\n",
    "        return np.array(prev_queries_matrix), np.array(next_queries_matrix), None\n",
    "\n",
    "    \n",
    "def get_one_batch(data, good_last_indeces_for_batch, batch_size=32, emb_size=300):\n",
    "    batch_end_indeces = np.random.choice(good_last_indeces_for_batch, batch_size, replace=False)\n",
    "    \n",
    "    return data_to_matrices(data, batch_end_indeces, emb_size)\n",
    "\n",
    "\n",
    "def get_batch_generator(data, good_last_indeces_for_batch, batch_size=32, emb_size=300, \n",
    "                        min_count_prev_queries=1, max_batch_size=136):\n",
    "    while True:\n",
    "        \n",
    "        batch_end_indeces = np.random.choice(good_last_indeces_for_batch, batch_size, replace=False)\n",
    "    \n",
    "        yield data_to_matrices(data, batch_end_indeces, count_prev_good_indeces_limited, \n",
    "                               emb_size, min_count_prev_queries, max_batch_size)\n",
    "        \n",
    "\n",
    "def get_val_batch_generator(data, good_last_indeces, count_prev_good_indeces_limited,\n",
    "                            batch_size=32, emb_size=300):\n",
    "    indices = np.arange(len(good_last_indeces))\n",
    "    \n",
    "    for start in range(0, len(indices), batch_size):\n",
    "        ix = indices[start: start + batch_size]\n",
    "        yield data_to_matrices(data, good_last_indeces[ix], count_prev_good_indeces_limited, emb_size)\n",
    "\n",
    "\n",
    "def get_data_for_prediction(data_test, good_last_indeces, count_prev_good_indeces_limited, \n",
    "                            count_words, batch_size, shuffle=False, return_answers=True, \n",
    "                            min_count_prev_queries=1):\n",
    "    \n",
    "    prev_counts = count_prev_good_indeces_limited[good_last_indeces]\n",
    "    begin_indeces = good_last_indeces - prev_counts + 1\n",
    "        \n",
    "    all_prev_queries = []\n",
    "    all_next_queries = []\n",
    "    for i in range(len(begin_indeces)):\n",
    "        if good_last_indeces[i] - begin_indeces[i] <= min_count_prev_queries:\n",
    "            continue\n",
    "            \n",
    "        query_sequence_prev = [data_test[j][1] for j in range(begin_indeces[i], good_last_indeces[i])]\n",
    "        \n",
    "        query_next = data_test[good_last_indeces[i]][1]\n",
    "        \n",
    "        all_prev_queries.append(query_sequence_prev)\n",
    "        all_next_queries.append(query_next)\n",
    "        \n",
    "    all_prev_queries = np.array(all_prev_queries)\n",
    "    all_next_queries = np.array(all_next_queries)\n",
    "        \n",
    "    if shuffle:\n",
    "        indices = np.random.permutations(np.arange(len(good_last_indeces)))\n",
    "    else:\n",
    "        indices = np.arange(len(good_last_indeces))\n",
    "        \n",
    "    for start in range(0, len(indices), batch_size):\n",
    "        ix = indices[start: start + batch_size]\n",
    "        yield test_queries_to_matrices(all_prev_queries[ix], all_next_queries[ix], \n",
    "                                       count_words, return_answers=return_answers)\n",
    "        "
   ]
  },
  {
   "cell_type": "markdown",
   "metadata": {},
   "source": [
    "Приступим к написанию модели из статьи https://arxiv.org/pdf/1507.02221.pdf. В отличие от модели из статьи я использую свой эмбеддинг слой, так как предобученных эмбеддингов для BPE токенов нет (в статье не написано какие эмбеддинги они использовали).  Модель из статьи состоит из трейх разных уровней : уровень запроса, уровень сессии и декодера. Для каждого из уровней напишем свой класс. <br>\n",
    "Заметим, что декодер должен уметь делать пословные предсказания и брать только что предсказаное слово на вход в следующий момент времени (для предсказания)."
   ]
  },
  {
   "cell_type": "code",
   "execution_count": 4,
   "metadata": {},
   "outputs": [],
   "source": [
    "import torch, torch.nn as nn\n",
    "import torch.nn.functional as F"
   ]
  },
  {
   "cell_type": "code",
   "execution_count": 5,
   "metadata": {},
   "outputs": [],
   "source": [
    "class QueryLevelRNN(nn.Module):\n",
    "    def __init__(self, vocab_len=len(all_words), embedding_size=300, rnn_num_units=1000):\n",
    "        super(self.__class__,self).__init__()\n",
    "        self.embeddings = nn.Embedding(num_embeddings=vocab_len, embedding_dim=embedding_size)\n",
    "        self.num_units = rnn_num_units\n",
    "        self.rnn = nn.GRU(input_size=embedding_size, hidden_size=rnn_num_units)\n",
    "        \n",
    "    def forward(self, x):\n",
    "        batch_size = x.shape[0]\n",
    "        x = self.embeddings(x)\n",
    "        x = x.transpose(0, 1)\n",
    "        init_h = torch.zeros(1, batch_size, self.num_units).to(device)\n",
    "        output_h, last_h = self.rnn(x, init_h)\n",
    "        return last_h[0]  ## chech if it returns (1, batch, hidden_size)\n",
    "    \n",
    "class SessionLevelRNN(nn.Module):\n",
    "    def __init__(self, embedding_size=1000, rnn_num_units=1500):\n",
    "        super(self.__class__,self).__init__()\n",
    "        self.num_units = rnn_num_units\n",
    "        self.rnn = nn.GRU(input_size=embedding_size, hidden_size=rnn_num_units)\n",
    "        \n",
    "    def forward(self, x):\n",
    "        batch_size = x.shape[0]\n",
    "        x = x.transpose(0, 1)\n",
    "        init_h = torch.zeros(1, batch_size, self.num_units).to(device)\n",
    "        output_h, last_h = self.rnn(x, init_h)\n",
    "        return output_h ## check if returns (seq_len, batch, hidden_size)\n",
    "    \n",
    "class DecoderCell(nn.Module):\n",
    "    def __init__(self, embedding_size=300, rnn_num_units=1000, init_state_size=1500):\n",
    "        super(self.__class__,self).__init__()\n",
    "        self.num_units = rnn_num_units\n",
    "        self.init_transform = nn.Linear(init_state_size, rnn_num_units)\n",
    "        self.gru_cell = nn.GRUCell(embedding_size, rnn_num_units)\n",
    "        self.transform_state = nn.Linear(rnn_num_units, embedding_size)\n",
    "        self.transform_word = nn.Linear(embedding_size, embedding_size, bias=False)\n",
    "        \n",
    "    def forward(self, x, prev_state, embedding_layer):\n",
    "        vocab_emb_matrix = embedding_layer.weight\n",
    "        next_h = self.gru_cell(x, prev_state)\n",
    "        w = self.transform_state(next_h) + self.transform_word(x)\n",
    "        logits = torch.matmul(vocab_emb_matrix, w.transpose(0, 1)).transpose(0, 1)\n",
    "        return next_h, logits\n",
    "    \n",
    "    def initial_state(self, session_state):\n",
    "        return nn.Tanh()(self.init_transform(session_state))\n",
    "    \n",
    "    \n",
    "def rnn_loop(rnn_cell, batch_ix, session_state, embedding_layer):\n",
    "    batch_size, max_length = batch_ix.size()\n",
    "    hid_state = rnn_cell.initial_state(session_state)\n",
    "    \n",
    "    batch_ix = batch_ix.transpose(0,1)\n",
    "    \n",
    "    #add ones(zeros) in the beggining\n",
    "    batch_ix = torch.cat([torch.ones((1, batch_size), dtype=torch.long).to(device) * bos_ix, batch_ix], dim=0)\n",
    "    \n",
    "    \n",
    "    all_logits = []\n",
    "\n",
    "    for x_t in batch_ix:\n",
    "        hid_state, logits_next = rnn_cell(embedding_layer(x_t), hid_state, embedding_layer)  # <-- here we call your one-step code\n",
    "        all_logits.append(logits_next)\n",
    "        \n",
    "    return torch.stack(all_logits, dim=1)"
   ]
  },
  {
   "cell_type": "markdown",
   "metadata": {},
   "source": [
    "Объединим все уровни в одну модель."
   ]
  },
  {
   "cell_type": "code",
   "execution_count": 6,
   "metadata": {},
   "outputs": [],
   "source": [
    "class Model(nn.Module):\n",
    "    def __init__(self, vocab_len=len(all_words), embedding_size=200, query_num_units=1000, \n",
    "                 session_num_units=1500, decoder_num_units=1000):\n",
    "        super(self.__class__,self).__init__()\n",
    "        \n",
    "        self.query_level = QueryLevelRNN(vocab_len, embedding_size, query_num_units).to(device)\n",
    "        self.session_level = SessionLevelRNN(query_num_units, session_num_units).to(device)\n",
    "        self.decoder = DecoderCell(embedding_size, decoder_num_units, session_num_units).to(device)\n",
    "        \n",
    "    def forward(self, queries):\n",
    "        queries_embeddings = []\n",
    "        for i in range(queries.shape[1]):\n",
    "            queries_embeddings.append(self.query_level(queries[:, i]))\n",
    "            \n",
    "        queries_embeddings = torch.stack(queries_embeddings, dim=1)\n",
    "        \n",
    "        session_states = self.session_level(queries_embeddings)\n",
    "        all_logits = []\n",
    "        for i in range(1, queries.shape[1]):\n",
    "            cur_session_embedding = session_states[i]\n",
    "            \n",
    "            ## give all words from next query without last word\n",
    "            logits = rnn_loop(self.decoder, queries[:,i], cur_session_embedding, self.query_level.embeddings)\n",
    "            all_logits.append(logits)\n",
    "            \n",
    "        return torch.stack(all_logits, dim=1)\n",
    "        \n",
    "            \n",
    "    def predict(self, previous_queries, current_words):\n",
    "        batch_size = previous_queries.shape[0]\n",
    "        \n",
    "        queries_embeddings = []\n",
    "        for i in range(previous_queries.shape[1]):\n",
    "            queries_embeddings.append(self.query_level(previous_queries[:, i])[:,None])\n",
    "            \n",
    "        queries_embeddings = torch.cat(queries_embeddings, dim=1)\n",
    "        \n",
    "        session_states = self.session_level(queries_embeddings)\n",
    "        session_last_state = session_states[-1]\n",
    "        \n",
    "        hid_state = self.decoder.initial_state(session_last_state)\n",
    "        \n",
    "        current_words = current_words.transpose(0,1)\n",
    "    \n",
    "        #add bos in the begining\n",
    "        current_words = torch.cat([torch.ones((1, batch_size), dtype=torch.long).to(device) * bos_ix, current_words], dim=0)\n",
    "        \n",
    "        all_logits = []\n",
    "\n",
    "        for x_t in current_words:\n",
    "            hid_state, logits_next = self.decoder(self.query_level.embeddings(x_t), hid_state, self.query_level.embeddings)\n",
    "        \n",
    "        all_logits.append(logits_next.cpu().detach().numpy())\n",
    "        next_word = logits_next.max(1)[1]\n",
    "        words = [next_word.cpu().numpy()]\n",
    "        \n",
    "        for i in range(max_word_count - current_words.shape[0]):\n",
    "            hid_state, logits_next = self.decoder(self.query_level.embeddings(next_word), hid_state, self.query_level.embeddings)\n",
    "            all_logits.append(logits_next.cpu().detach().numpy())\n",
    "            next_word = logits_next.max(1)[1]\n",
    "            words.append(next_word.cpu().numpy())\n",
    "        \n",
    "        return all_logits, words"
   ]
  },
  {
   "cell_type": "code",
   "execution_count": 7,
   "metadata": {},
   "outputs": [],
   "source": [
    "device = torch.device('cuda' if torch.cuda.is_available() else 'cpu')"
   ]
  },
  {
   "cell_type": "code",
   "execution_count": 15,
   "metadata": {},
   "outputs": [],
   "source": [
    "model = Model().to(device)"
   ]
  },
  {
   "cell_type": "markdown",
   "metadata": {},
   "source": [
    "Напишем функцию подсчета лосса. Заметим, что важно не учитывать токен PAD при подсчете лосса, так как иначе мы научимся только почти всегда предсказывать токен PAD (в силу того, что его много)."
   ]
  },
  {
   "cell_type": "code",
   "execution_count": 67,
   "metadata": {},
   "outputs": [
    {
     "name": "stderr",
     "output_type": "stream",
     "text": [
      "/home/shakhrayv/.virtualenvs/lenas_py3.7/lib/python3.7/site-packages/torch/nn/_reduction.py:49: UserWarning: size_average and reduce args will be deprecated, please use reduction='mean' instead.\n",
      "  warnings.warn(warning.format(ret))\n"
     ]
    }
   ],
   "source": [
    "criterion = nn.CrossEntropyLoss(ignore_index=int(pad_ix), size_average = True)\n",
    "\n",
    "def compute_loss(model, queries, vocab_len=len(all_words), return_logits=False, **flags):\n",
    "    targets = torch.LongTensor(queries).to(device)\n",
    "    queries = torch.LongTensor(queries).to(device)\n",
    "    batchs_size, queries_count, time = queries.shape\n",
    "    \n",
    "    targets = torch.cat((targets, torch.ones(batchs_size, queries_count, 1, dtype=torch.long).to(device) * eos_ix), dim=2)\n",
    "    #delete first query (we won't predict it)\n",
    "    targets = targets[:,1:]\n",
    "    logits = model(queries)\n",
    "\n",
    "    if return_logits:\n",
    "        return criterion(logits.contiguous().view(-1, vocab_len), targets.contiguous().view(-1,)), logits\n",
    "#         return F.cross_entropy(logits.contiguous().view(-1, vocab_len), targets.contiguous().view(-1,)), logits\n",
    "    else:\n",
    "        return criterion(logits.contiguous().view(-1, vocab_len), targets.contiguous().view(-1,))\n",
    "#         return F.cross_entropy(logits.contiguous().view(-1, vocab_len), targets.contiguous().view(-1,))"
   ]
  },
  {
   "cell_type": "markdown",
   "metadata": {},
   "source": [
    "Обучаемся. Последующие несколько ячеек - обучение."
   ]
  },
  {
   "cell_type": "code",
   "execution_count": null,
   "metadata": {},
   "outputs": [
    {
     "data": {
      "application/vnd.jupyter.widget-view+json": {
       "model_id": "bee2a74c664a46caad1947b78d0a7857",
       "version_major": 2,
       "version_minor": 0
      },
      "text/plain": [
       "HBox(children=(IntProgress(value=0, max=10000), HTML(value='')))"
      ]
     },
     "metadata": {},
     "output_type": "display_data"
    },
    {
     "name": "stdout",
     "output_type": "stream",
     "text": [
      "Epoch 1 (10000 iteration) of 10 took 8444.271s\n",
      "  training loss (in-iteration): \t0.369836\n",
      "  validation loss (in-iteration): \t0.311349\n"
     ]
    },
    {
     "data": {
      "application/vnd.jupyter.widget-view+json": {
       "model_id": "c4132e7029394c148f38377e649fb579",
       "version_major": 2,
       "version_minor": 0
      },
      "text/plain": [
       "HBox(children=(IntProgress(value=0, max=10000), HTML(value='')))"
      ]
     },
     "metadata": {},
     "output_type": "display_data"
    },
    {
     "name": "stdout",
     "output_type": "stream",
     "text": [
      "Epoch 2 (20000 iteration) of 10 took 8451.308s\n",
      "  training loss (in-iteration): \t0.329902\n",
      "  validation loss (in-iteration): \t0.279879\n"
     ]
    },
    {
     "data": {
      "application/vnd.jupyter.widget-view+json": {
       "model_id": "ada6c18798ed4a649edd08debdfbf06c",
       "version_major": 2,
       "version_minor": 0
      },
      "text/plain": [
       "HBox(children=(IntProgress(value=0, max=10000), HTML(value='')))"
      ]
     },
     "metadata": {},
     "output_type": "display_data"
    }
   ],
   "source": [
    "batch_generator = get_batch_generator(data_aol, good_last_indeces_for_batch, batch_size=64)\n",
    "\n",
    "for epoch in range(epochs):\n",
    "    start_time = time.time()\n",
    "    for iteration in tqdm_notebook(range(steps_per_epoch)):\n",
    "        \n",
    "        batch_queries = next(batch_generator)\n",
    "        \n",
    "        loss, logits = compute_loss(model, batch_queries, return_logits=True)\n",
    "        loss.backward()\n",
    "        opt.step()\n",
    "        opt.zero_grad()\n",
    "        \n",
    "        train_loss.append(loss.cpu().data.numpy())\n",
    "    \n",
    "\n",
    "    val_queries = get_val_batch_generator(data_aol_test, good_last_indeces_for_batch_test[:3000], \n",
    "                                          count_prev_good_indeces_limited_test,\n",
    "                                          batch_size=32, emb_size=300)\n",
    "    \n",
    "    count = 0\n",
    "    for batch_queries in val_queries:\n",
    "        loss, logits = compute_loss(model, batch_queries, return_logits=True)\n",
    "        val_loss.append(loss.cpu().data.numpy())\n",
    "        count += 1\n",
    "    \n",
    "    print(\"Epoch {} ({} iteration) of {} took {:.3f}s\".format(\n",
    "        epoch + 1, (epoch + 1) * steps_per_epoch, epochs, time.time() - start_time))\n",
    "    print(\"  training loss (in-iteration): \\t{:.6f}\".format(\n",
    "        np.mean(train_loss[-steps_per_epoch :])))\n",
    "    print(\"  validation loss (in-iteration): \\t{:.6f}\".format(\n",
    "        np.mean(val_loss[-count:])))"
   ]
  },
  {
   "cell_type": "code",
   "execution_count": null,
   "metadata": {},
   "outputs": [
    {
     "data": {
      "application/vnd.jupyter.widget-view+json": {
       "model_id": "c6d7f019d1aa445fa5fe74836183b71b",
       "version_major": 2,
       "version_minor": 0
      },
      "text/plain": [
       "HBox(children=(IntProgress(value=0, max=10000), HTML(value='')))"
      ]
     },
     "metadata": {},
     "output_type": "display_data"
    },
    {
     "name": "stdout",
     "output_type": "stream",
     "text": [
      "Epoch 1 (10000 iteration) of 10 took 8429.673s\n",
      "  training loss (in-iteration): \t0.288248\n",
      "  validation loss (in-iteration): \t0.280234\n"
     ]
    },
    {
     "data": {
      "application/vnd.jupyter.widget-view+json": {
       "model_id": "568d1ae2070d429a9335406afc5c5e42",
       "version_major": 2,
       "version_minor": 0
      },
      "text/plain": [
       "HBox(children=(IntProgress(value=0, max=10000), HTML(value='')))"
      ]
     },
     "metadata": {},
     "output_type": "display_data"
    },
    {
     "name": "stdout",
     "output_type": "stream",
     "text": [
      "Epoch 2 (20000 iteration) of 10 took 8468.521s\n",
      "  training loss (in-iteration): \t0.273591\n",
      "  validation loss (in-iteration): \t0.256403\n"
     ]
    },
    {
     "data": {
      "application/vnd.jupyter.widget-view+json": {
       "model_id": "1de99d70ad5249419ae5226dc9e6ef82",
       "version_major": 2,
       "version_minor": 0
      },
      "text/plain": [
       "HBox(children=(IntProgress(value=0, max=10000), HTML(value='')))"
      ]
     },
     "metadata": {},
     "output_type": "display_data"
    },
    {
     "name": "stdout",
     "output_type": "stream",
     "text": [
      "Epoch 3 (30000 iteration) of 10 took 8442.152s\n",
      "  training loss (in-iteration): \t0.256440\n",
      "  validation loss (in-iteration): \t0.290331\n"
     ]
    },
    {
     "data": {
      "application/vnd.jupyter.widget-view+json": {
       "model_id": "899c8b506b6f4b96b2a7555d0b395907",
       "version_major": 2,
       "version_minor": 0
      },
      "text/plain": [
       "HBox(children=(IntProgress(value=0, max=10000), HTML(value='')))"
      ]
     },
     "metadata": {},
     "output_type": "display_data"
    },
    {
     "name": "stdout",
     "output_type": "stream",
     "text": [
      "Epoch 4 (40000 iteration) of 10 took 8461.927s\n",
      "  training loss (in-iteration): \t0.249340\n",
      "  validation loss (in-iteration): \t0.204597\n"
     ]
    },
    {
     "data": {
      "application/vnd.jupyter.widget-view+json": {
       "model_id": "39d50261ef0d4241a213ec793c2722f1",
       "version_major": 2,
       "version_minor": 0
      },
      "text/plain": [
       "HBox(children=(IntProgress(value=0, max=10000), HTML(value='')))"
      ]
     },
     "metadata": {},
     "output_type": "display_data"
    },
    {
     "name": "stdout",
     "output_type": "stream",
     "text": [
      "Epoch 5 (50000 iteration) of 10 took 8471.234s\n",
      "  training loss (in-iteration): \t0.240497\n",
      "  validation loss (in-iteration): \t0.221385\n"
     ]
    },
    {
     "data": {
      "application/vnd.jupyter.widget-view+json": {
       "model_id": "456ebbf8159242c79eb9fba2a6e92cbe",
       "version_major": 2,
       "version_minor": 0
      },
      "text/plain": [
       "HBox(children=(IntProgress(value=0, max=10000), HTML(value='')))"
      ]
     },
     "metadata": {},
     "output_type": "display_data"
    },
    {
     "name": "stdout",
     "output_type": "stream",
     "text": [
      "Epoch 6 (60000 iteration) of 10 took 8459.908s\n",
      "  training loss (in-iteration): \t0.234936\n",
      "  validation loss (in-iteration): \t0.202633\n"
     ]
    },
    {
     "data": {
      "application/vnd.jupyter.widget-view+json": {
       "model_id": "ad5a31947c08498c94279435f9b442a8",
       "version_major": 2,
       "version_minor": 0
      },
      "text/plain": [
       "HBox(children=(IntProgress(value=0, max=10000), HTML(value='')))"
      ]
     },
     "metadata": {},
     "output_type": "display_data"
    },
    {
     "name": "stderr",
     "output_type": "stream",
     "text": [
      "IOPub message rate exceeded.\n",
      "The notebook server will temporarily stop sending output\n",
      "to the client in order to avoid crashing it.\n",
      "To change this limit, set the config variable\n",
      "`--NotebookApp.iopub_msg_rate_limit`.\n",
      "\n",
      "Current values:\n",
      "NotebookApp.iopub_msg_rate_limit=1000.0 (msgs/sec)\n",
      "NotebookApp.rate_limit_window=3.0 (secs)\n",
      "\n",
      "IOPub message rate exceeded.\n",
      "The notebook server will temporarily stop sending output\n",
      "to the client in order to avoid crashing it.\n",
      "To change this limit, set the config variable\n",
      "`--NotebookApp.iopub_msg_rate_limit`.\n",
      "\n",
      "Current values:\n",
      "NotebookApp.iopub_msg_rate_limit=1000.0 (msgs/sec)\n",
      "NotebookApp.rate_limit_window=3.0 (secs)\n",
      "\n",
      "IOPub message rate exceeded.\n",
      "The notebook server will temporarily stop sending output\n",
      "to the client in order to avoid crashing it.\n",
      "To change this limit, set the config variable\n",
      "`--NotebookApp.iopub_msg_rate_limit`.\n",
      "\n",
      "Current values:\n",
      "NotebookApp.iopub_msg_rate_limit=1000.0 (msgs/sec)\n",
      "NotebookApp.rate_limit_window=3.0 (secs)\n",
      "\n",
      "IOPub message rate exceeded.\n",
      "The notebook server will temporarily stop sending output\n",
      "to the client in order to avoid crashing it.\n",
      "To change this limit, set the config variable\n",
      "`--NotebookApp.iopub_msg_rate_limit`.\n",
      "\n",
      "Current values:\n",
      "NotebookApp.iopub_msg_rate_limit=1000.0 (msgs/sec)\n",
      "NotebookApp.rate_limit_window=3.0 (secs)\n",
      "\n"
     ]
    }
   ],
   "source": [
    "batch_generator = get_batch_generator(data_aol, good_last_indeces_for_batch, batch_size=64)\n",
    "\n",
    "for epoch in range(epochs):\n",
    "    start_time = time.time()\n",
    "    for iteration in tqdm_notebook(range(steps_per_epoch)):\n",
    "        \n",
    "        batch_queries = next(batch_generator)\n",
    "        \n",
    "        loss, logits = compute_loss(model, batch_queries, return_logits=True)\n",
    "        loss.backward()\n",
    "        opt.step()\n",
    "        opt.zero_grad()\n",
    "        \n",
    "        train_loss.append(loss.cpu().data.numpy())\n",
    "    \n",
    "\n",
    "    val_queries = get_val_batch_generator(data_aol_test, good_last_indeces_for_batch_test[:3000], \n",
    "                                          count_prev_good_indeces_limited_test,\n",
    "                                          batch_size=32, emb_size=300)\n",
    "    \n",
    "    count = 0\n",
    "    for batch_queries in val_queries:\n",
    "        loss, logits = compute_loss(model, batch_queries, return_logits=True)\n",
    "        val_loss.append(loss.cpu().data.numpy())\n",
    "        count += 1\n",
    "    \n",
    "    print(\"Epoch {} ({} iteration) of {} took {:.3f}s\".format(\n",
    "        epoch + 1, (epoch + 1) * steps_per_epoch, epochs, time.time() - start_time))\n",
    "    print(\"  training loss (in-iteration): \\t{:.6f}\".format(\n",
    "        np.mean(train_loss[-steps_per_epoch :])))\n",
    "    print(\"  validation loss (in-iteration): \\t{:.6f}\".format(\n",
    "        np.mean(val_loss[-count:])))"
   ]
  },
  {
   "cell_type": "code",
   "execution_count": 250,
   "metadata": {},
   "outputs": [
    {
     "data": {
      "application/vnd.jupyter.widget-view+json": {
       "model_id": "11802d7d6e8a47fc80cacd90577e458e",
       "version_major": 2,
       "version_minor": 0
      },
      "text/plain": [
       "HBox(children=(IntProgress(value=0, max=5000), HTML(value='')))"
      ]
     },
     "metadata": {},
     "output_type": "display_data"
    },
    {
     "name": "stderr",
     "output_type": "stream",
     "text": [
      "IOPub message rate exceeded.\n",
      "The notebook server will temporarily stop sending output\n",
      "to the client in order to avoid crashing it.\n",
      "To change this limit, set the config variable\n",
      "`--NotebookApp.iopub_msg_rate_limit`.\n",
      "\n",
      "Current values:\n",
      "NotebookApp.iopub_msg_rate_limit=1000.0 (msgs/sec)\n",
      "NotebookApp.rate_limit_window=3.0 (secs)\n",
      "\n"
     ]
    },
    {
     "name": "stdout",
     "output_type": "stream",
     "text": [
      "Epoch 2 (10000 iteration) of 10 took 4607.510s\n",
      "  training loss (in-iteration): \t0.091005\n",
      "  validation loss (in-iteration): \t0.123855\n"
     ]
    },
    {
     "data": {
      "application/vnd.jupyter.widget-view+json": {
       "model_id": "5bd3b9eb6e204a108a51939aa125dae7",
       "version_major": 2,
       "version_minor": 0
      },
      "text/plain": [
       "HBox(children=(IntProgress(value=0, max=5000), HTML(value='')))"
      ]
     },
     "metadata": {},
     "output_type": "display_data"
    },
    {
     "name": "stderr",
     "output_type": "stream",
     "text": [
      "IOPub message rate exceeded.\n",
      "The notebook server will temporarily stop sending output\n",
      "to the client in order to avoid crashing it.\n",
      "To change this limit, set the config variable\n",
      "`--NotebookApp.iopub_msg_rate_limit`.\n",
      "\n",
      "Current values:\n",
      "NotebookApp.iopub_msg_rate_limit=1000.0 (msgs/sec)\n",
      "NotebookApp.rate_limit_window=3.0 (secs)\n",
      "\n",
      "IOPub message rate exceeded.\n",
      "The notebook server will temporarily stop sending output\n",
      "to the client in order to avoid crashing it.\n",
      "To change this limit, set the config variable\n",
      "`--NotebookApp.iopub_msg_rate_limit`.\n",
      "\n",
      "Current values:\n",
      "NotebookApp.iopub_msg_rate_limit=1000.0 (msgs/sec)\n",
      "NotebookApp.rate_limit_window=3.0 (secs)\n",
      "\n",
      "IOPub message rate exceeded.\n",
      "The notebook server will temporarily stop sending output\n",
      "to the client in order to avoid crashing it.\n",
      "To change this limit, set the config variable\n",
      "`--NotebookApp.iopub_msg_rate_limit`.\n",
      "\n",
      "Current values:\n",
      "NotebookApp.iopub_msg_rate_limit=1000.0 (msgs/sec)\n",
      "NotebookApp.rate_limit_window=3.0 (secs)\n",
      "\n"
     ]
    },
    {
     "name": "stdout",
     "output_type": "stream",
     "text": [
      "Epoch 7 (35000 iteration) of 10 took 4603.863s\n",
      "  training loss (in-iteration): \t0.089689\n",
      "  validation loss (in-iteration): \t0.137750\n"
     ]
    },
    {
     "data": {
      "application/vnd.jupyter.widget-view+json": {
       "model_id": "2873d254d2944ee8967d2097d438caf3",
       "version_major": 2,
       "version_minor": 0
      },
      "text/plain": [
       "HBox(children=(IntProgress(value=0, max=5000), HTML(value='')))"
      ]
     },
     "metadata": {},
     "output_type": "display_data"
    },
    {
     "name": "stderr",
     "output_type": "stream",
     "text": [
      "IOPub message rate exceeded.\n",
      "The notebook server will temporarily stop sending output\n",
      "to the client in order to avoid crashing it.\n",
      "To change this limit, set the config variable\n",
      "`--NotebookApp.iopub_msg_rate_limit`.\n",
      "\n",
      "Current values:\n",
      "NotebookApp.iopub_msg_rate_limit=1000.0 (msgs/sec)\n",
      "NotebookApp.rate_limit_window=3.0 (secs)\n",
      "\n",
      "IOPub message rate exceeded.\n",
      "The notebook server will temporarily stop sending output\n",
      "to the client in order to avoid crashing it.\n",
      "To change this limit, set the config variable\n",
      "`--NotebookApp.iopub_msg_rate_limit`.\n",
      "\n",
      "Current values:\n",
      "NotebookApp.iopub_msg_rate_limit=1000.0 (msgs/sec)\n",
      "NotebookApp.rate_limit_window=3.0 (secs)\n",
      "\n"
     ]
    },
    {
     "ename": "KeyboardInterrupt",
     "evalue": "",
     "output_type": "error",
     "traceback": [
      "\u001b[0;31m---------------------------------------------------------------------------\u001b[0m",
      "\u001b[0;31mKeyboardInterrupt\u001b[0m                         Traceback (most recent call last)",
      "\u001b[0;32m<ipython-input-250-932087ffbf9f>\u001b[0m in \u001b[0;36m<module>\u001b[0;34m\u001b[0m\n\u001b[1;32m      6\u001b[0m     \u001b[0;32mfor\u001b[0m \u001b[0miteration\u001b[0m \u001b[0;32min\u001b[0m \u001b[0mtqdm_notebook\u001b[0m\u001b[0;34m(\u001b[0m\u001b[0mrange\u001b[0m\u001b[0;34m(\u001b[0m\u001b[0msteps_per_epoch\u001b[0m\u001b[0;34m)\u001b[0m\u001b[0;34m)\u001b[0m\u001b[0;34m:\u001b[0m\u001b[0;34m\u001b[0m\u001b[0;34m\u001b[0m\u001b[0m\n\u001b[1;32m      7\u001b[0m \u001b[0;34m\u001b[0m\u001b[0m\n\u001b[0;32m----> 8\u001b[0;31m         \u001b[0mbatch_queries\u001b[0m \u001b[0;34m=\u001b[0m \u001b[0mnext\u001b[0m\u001b[0;34m(\u001b[0m\u001b[0mbatch_generator\u001b[0m\u001b[0;34m)\u001b[0m\u001b[0;34m\u001b[0m\u001b[0;34m\u001b[0m\u001b[0m\n\u001b[0m\u001b[1;32m      9\u001b[0m \u001b[0;34m\u001b[0m\u001b[0m\n\u001b[1;32m     10\u001b[0m         \u001b[0mloss\u001b[0m\u001b[0;34m,\u001b[0m \u001b[0mlogits\u001b[0m \u001b[0;34m=\u001b[0m \u001b[0mcompute_loss\u001b[0m\u001b[0;34m(\u001b[0m\u001b[0mmodel\u001b[0m\u001b[0;34m,\u001b[0m \u001b[0mbatch_queries\u001b[0m\u001b[0;34m,\u001b[0m \u001b[0mreturn_logits\u001b[0m\u001b[0;34m=\u001b[0m\u001b[0;32mTrue\u001b[0m\u001b[0;34m)\u001b[0m\u001b[0;34m\u001b[0m\u001b[0;34m\u001b[0m\u001b[0m\n",
      "\u001b[0;32m<ipython-input-40-21b9664eed3e>\u001b[0m in \u001b[0;36mget_batch_generator\u001b[0;34m(data, good_last_indeces_for_batch, batch_size, emb_size)\u001b[0m\n\u001b[1;32m    128\u001b[0m     \u001b[0;32mwhile\u001b[0m \u001b[0;32mTrue\u001b[0m\u001b[0;34m:\u001b[0m\u001b[0;34m\u001b[0m\u001b[0;34m\u001b[0m\u001b[0m\n\u001b[1;32m    129\u001b[0m \u001b[0;34m\u001b[0m\u001b[0m\n\u001b[0;32m--> 130\u001b[0;31m         \u001b[0mbatch_end_indeces\u001b[0m \u001b[0;34m=\u001b[0m \u001b[0mnp\u001b[0m\u001b[0;34m.\u001b[0m\u001b[0mrandom\u001b[0m\u001b[0;34m.\u001b[0m\u001b[0mchoice\u001b[0m\u001b[0;34m(\u001b[0m\u001b[0mgood_last_indeces_for_batch\u001b[0m\u001b[0;34m,\u001b[0m \u001b[0mbatch_size\u001b[0m\u001b[0;34m,\u001b[0m \u001b[0mreplace\u001b[0m\u001b[0;34m=\u001b[0m\u001b[0;32mFalse\u001b[0m\u001b[0;34m)\u001b[0m\u001b[0;34m\u001b[0m\u001b[0;34m\u001b[0m\u001b[0m\n\u001b[0m\u001b[1;32m    131\u001b[0m \u001b[0;34m\u001b[0m\u001b[0m\n\u001b[1;32m    132\u001b[0m         \u001b[0;32myield\u001b[0m \u001b[0mdata_to_matrices\u001b[0m\u001b[0;34m(\u001b[0m\u001b[0mdata\u001b[0m\u001b[0;34m,\u001b[0m \u001b[0mbatch_end_indeces\u001b[0m\u001b[0;34m,\u001b[0m \u001b[0mcount_prev_good_indeces_limited\u001b[0m\u001b[0;34m,\u001b[0m \u001b[0memb_size\u001b[0m\u001b[0;34m)\u001b[0m\u001b[0;34m\u001b[0m\u001b[0;34m\u001b[0m\u001b[0m\n",
      "\u001b[0;31mKeyboardInterrupt\u001b[0m: "
     ]
    }
   ],
   "source": [
    "batch_generator = get_batch_generator(data_aol, good_last_indeces_for_batch, batch_size=128)\n",
    "epochs = 10\n",
    "steps_per_epoch = 5000\n",
    "for epoch in range(epochs):\n",
    "    start_time = time.time()\n",
    "    for iteration in tqdm_notebook(range(steps_per_epoch)):\n",
    "        \n",
    "        batch_queries = next(batch_generator)\n",
    "        \n",
    "        loss, logits = compute_loss(model, batch_queries, return_logits=True)\n",
    "        loss.backward()\n",
    "        opt.step()\n",
    "        opt.zero_grad()\n",
    "        \n",
    "        train_loss.append(loss.cpu().data.numpy())\n",
    "    \n",
    "\n",
    "    val_queries = get_val_batch_generator(data_aol_test, good_last_indeces_for_batch_test[:100000], \n",
    "                                          count_prev_good_indeces_limited_test,\n",
    "                                          batch_size=32, emb_size=300)\n",
    "    \n",
    "    count = 0\n",
    "    for batch_queries in val_queries:\n",
    "        loss, logits = compute_loss(model, batch_queries, return_logits=True)\n",
    "        val_loss.append(loss.cpu().data.numpy())\n",
    "        count += 1\n",
    "    \n",
    "    print(\"Epoch {} ({} iteration) of {} took {:.3f}s\".format(\n",
    "        epoch + 1, (epoch + 1) * steps_per_epoch, epochs, time.time() - start_time))\n",
    "    print(\"  training loss (in-iteration): \\t{:.6f}\".format(\n",
    "        np.mean(train_loss[-steps_per_epoch :])))\n",
    "    print(\"  validation loss (in-iteration): \\t{:.6f}\".format(\n",
    "        np.mean(val_loss[-count:])))"
   ]
  },
  {
   "cell_type": "code",
   "execution_count": 251,
   "metadata": {},
   "outputs": [
    {
     "name": "stdout",
     "output_type": "stream",
     "text": [
      "Epoch 10 (50000 iteration) of 10 took 846.671s\n",
      "  training loss (in-iteration): \t0.088184\n",
      "  validation loss (in-iteration): \t0.130126\n"
     ]
    }
   ],
   "source": [
    "val_queries = get_val_batch_generator(data_aol_test, good_last_indeces_for_batch_test[:100000], \n",
    "                                      count_prev_good_indeces_limited_test,\n",
    "                                      batch_size=32, emb_size=300) \n",
    "count = 0\n",
    "for batch_queries in val_queries:\n",
    "    loss, logits = compute_loss(model, batch_queries, return_logits=True)\n",
    "    val_loss.append(loss.cpu().data.numpy())\n",
    "    count += 1\n",
    "\n",
    "print(\"Epoch {} ({} iteration) of {} took {:.3f}s\".format(\n",
    "    epoch + 1, (epoch + 1) * steps_per_epoch, epochs, time.time() - start_time))\n",
    "print(\"  training loss (in-iteration): \\t{:.6f}\".format(\n",
    "    np.mean(train_loss[-steps_per_epoch :])))\n",
    "print(\"  validation loss (in-iteration): \\t{:.6f}\".format(\n",
    "    np.mean(val_loss[-count:])))"
   ]
  },
  {
   "cell_type": "markdown",
   "metadata": {},
   "source": [
    "Сохраним модель"
   ]
  },
  {
   "cell_type": "code",
   "execution_count": 249,
   "metadata": {},
   "outputs": [],
   "source": [
    "torch.save(model, 'trained_model_3.pth')\n",
    "\n",
    "# model = torch.load(PATH)\n",
    "# model.eval()"
   ]
  },
  {
   "cell_type": "code",
   "execution_count": 220,
   "metadata": {},
   "outputs": [
    {
     "name": "stdout",
     "output_type": "stream",
     "text": [
      "Epoch 10 (50000 iteration) of 10 took 27066.297s\n",
      "  training loss (in-iteration): \t0.100864\n",
      "  validation loss (in-iteration): \t0.127759\n"
     ]
    }
   ],
   "source": [
    "val_queries = get_val_batch_generator(data_aol_test, good_last_indeces_for_batch_test[:100000], \n",
    "                                      count_prev_good_indeces_limited_test,\n",
    "                                      batch_size=32, emb_size=300) \n",
    "count = 0\n",
    "for batch_queries in val_queries:\n",
    "    loss, logits = compute_loss(model, batch_queries, return_logits=True)\n",
    "    val_loss.append(loss.cpu().data.numpy())\n",
    "    count += 1\n",
    "\n",
    "print(\"Epoch {} ({} iteration) of {} took {:.3f}s\".format(\n",
    "    epoch + 1, (epoch + 1) * steps_per_epoch, epochs, time.time() - start_time))\n",
    "print(\"  training loss (in-iteration): \\t{:.6f}\".format(\n",
    "    np.mean(train_loss[-steps_per_epoch :])))\n",
    "print(\"  validation loss (in-iteration): \\t{:.6f}\".format(\n",
    "    np.mean(val_loss[-count:])))"
   ]
  },
  {
   "cell_type": "markdown",
   "metadata": {},
   "source": [
    "# Attention\n",
    "\n",
    "Добавим self-attention на уровне сессии. То есть состояние, которое получает на вход RNN-ка уровня сессии будет являться не состоянием, которое вернула RNN на предыдущем шаге, а attention-механизм от всех предыдущих состояний RNN уровня сессии и текущего запроса. <br>\n",
    "В качестве attention скора я выбрала concat. Пусть $s_j$ - выходное состояние RNN уровня сессии на этапе j (имеет информацию о первых j запросах), а $q_t$ - эмбеддинг запроса под номером t ($t > j$), полученный при помощи первого уровня - уровня запроса .Тогда $score(s_j, q_t) = v^T tanh(W[s_j;q_t])$, что и называется concat скором.\n",
    "После этого вычисляются коэффициенты $\\alpha = softmax((score(s_1, q_t), ..., score(s_{t-1}, q_t)))$ и новое состояние RNN уровня сессии, которое подается на вход RNN на следующем этапе вычисляется так : $$new\\_s_t = \\sum_{j=0}^{t - 1} \\alpha_j s_j$$\n"
   ]
  },
  {
   "cell_type": "code",
   "execution_count": 8,
   "metadata": {},
   "outputs": [],
   "source": [
    "class SessionLevelRNNCell(nn.Module):\n",
    "    def __init__(self, embedding_size=1000, rnn_num_units=1500, attention_size=500):\n",
    "        super(self.__class__,self).__init__()\n",
    "        self.num_units = rnn_num_units\n",
    "        self.rnn_cell = nn.GRUCell(input_size=embedding_size, hidden_size=rnn_num_units)\n",
    "        self.linear_attention = nn.Linear(rnn_num_units + embedding_size, attention_size)\n",
    "        self.v_attention = nn.Linear(attention_size, 1, bias=False)\n",
    "        \n",
    "        \n",
    "    def forward(self, x, prev_state):\n",
    "        next_h = self.rnn_cell(x, prev_state)\n",
    "        return next_h\n",
    "       \n",
    "    def initial_state(self, batch_size):\n",
    "        return torch.zeros(batch_size, self.num_units).to(device)\n",
    "\n",
    "\n",
    "def attention_function(q_t, s_j, linear_attention, v_attention):\n",
    "    dot = nn.Tanh()(linear_attention(torch.cat([q_t, s_j], dim=1)))\n",
    "    \n",
    "    return v_attention(dot)\n",
    "\n",
    "def rnn_loop_session(rnn_cell, batch_ix):\n",
    "    batch_size, max_length = batch_ix.size()[:2]\n",
    "    hid_state = rnn_cell.initial_state(batch_size)\n",
    "    batch_ix = batch_ix.transpose(0,1)\n",
    "    \n",
    "    hid_state = rnn_cell(batch_ix[0], hid_state)\n",
    "    hidden_states = [hid_state]\n",
    "    \n",
    "    \n",
    "    for t, q_t in enumerate(batch_ix[1:]):\n",
    "        # compute alphas\n",
    "        alphas = []\n",
    "        for j in range(t + 1):\n",
    "            alphas.append(attention_function(q_t, hidden_states[j], \n",
    "                                             rnn_cell.linear_attention, \n",
    "                                             rnn_cell.v_attention))\n",
    "            \n",
    "        # normalize alphas to sum to 1\n",
    "        alphas = nn.Softmax()(torch.cat(alphas, dim=1))\n",
    "        \n",
    "        #compute new state\n",
    "        new_hidden_state = torch.zeros(batch_size, rnn_cell.num_units).to(device)\n",
    "        \n",
    "        for j in range(t):\n",
    "            new_hidden_state += alphas[:,t][:,None] * hidden_states[j]\n",
    "        \n",
    "        hid_state = new_hidden_state\n",
    "        \n",
    "        hid_state = rnn_cell(q_t, hid_state)\n",
    "        hidden_states.append(hid_state)\n",
    "    \n",
    "    return torch.stack(hidden_states, dim=0)"
   ]
  },
  {
   "cell_type": "markdown",
   "metadata": {},
   "source": [
    "Нода beam-search-а. Что это и зачем будет рассказано позже. "
   ]
  },
  {
   "cell_type": "code",
   "execution_count": 9,
   "metadata": {},
   "outputs": [],
   "source": [
    "class BeamNode(object):\n",
    "    def __init__(self, parent_node, cur_state, pred_word, cost):\n",
    "        super(BeamNode, self).__init__()\n",
    "        self.pred_word = pred_word\n",
    "        self.parent_node = parent_node # parent Node, None for root\n",
    "        self.cur_state = cur_state # recurrent layer hidden state\n",
    "        self.cum_cost = parent_node.cum_cost + cost if parent_node else cost # e.g. -log(p) of sequence up to current node (including)\n",
    "        self.length = 1 if parent_node is None else parent_node.length + 1\n",
    "        self._sequence = None\n",
    "    \n",
    "    def to_sequence(self):\n",
    "        # Return sequence of nodes from root to current node.\n",
    "        if not self._sequence:\n",
    "            self._sequence = []\n",
    "            current_node = self\n",
    "            while current_node:\n",
    "                self._sequence.append(current_node)\n",
    "                current_node = current_node.parent_node\n",
    "            self._sequence = self._sequence[::-1]\n",
    "        return self._sequence\n",
    "\n",
    "    def to_sequence_of_values(self):\n",
    "        return [int(s.pred_word.cpu().numpy()) for s in self.to_sequence()]\n",
    "    "
   ]
  },
  {
   "cell_type": "code",
   "execution_count": 10,
   "metadata": {},
   "outputs": [],
   "source": [
    "class ModelAttention(nn.Module):\n",
    "    def __init__(self, vocab_len=len(all_words), embedding_size=200, query_num_units=1000, \n",
    "                 session_num_units=1500, decoder_num_units=1000, attention_size=500):\n",
    "        super(self.__class__,self).__init__()\n",
    "        \n",
    "        self.query_level = QueryLevelRNN(vocab_len, embedding_size, query_num_units).to(device)\n",
    "        self.session_level = SessionLevelRNNCell(query_num_units, session_num_units, attention_size).to(device)\n",
    "        self.decoder = DecoderCell(embedding_size, decoder_num_units, session_num_units).to(device)\n",
    "        \n",
    "        \n",
    "    def forward(self, queries):\n",
    "        queries_embeddings = []\n",
    "        for i in range(queries.shape[1]):\n",
    "            queries_embeddings.append(self.query_level(queries[:, i]))\n",
    "            \n",
    "        queries_embeddings = torch.stack(queries_embeddings, dim=1)\n",
    "        \n",
    "        session_states = rnn_loop_session(self.session_level, queries_embeddings)\n",
    "\n",
    "        all_logits = []\n",
    "        for i in range(1, queries.shape[1]):\n",
    "            cur_session_embedding = session_states[i]\n",
    "            ## give all words from next query without last word\n",
    "            logits = rnn_loop(self.decoder, queries[:,i], cur_session_embedding, self.query_level.embeddings)\n",
    "            all_logits.append(logits)\n",
    "            \n",
    "        return torch.stack(all_logits, dim=1)\n",
    "        \n",
    "            \n",
    "    def predict(self, previous_queries, current_words):\n",
    "        batch_size = previous_queries.shape[0]\n",
    "        \n",
    "        queries_embeddings = []\n",
    "        for i in range(previous_queries.shape[1]):\n",
    "            queries_embeddings.append(self.query_level(previous_queries[:, i])[:,None])\n",
    "            \n",
    "        queries_embeddings = torch.cat(queries_embeddings, dim=1)\n",
    "        \n",
    "        session_states = rnn_loop_session(self.session_level, queries_embeddings)\n",
    "\n",
    "        session_last_state = session_states[-1]\n",
    "        \n",
    "        hid_state = self.decoder.initial_state(session_last_state)\n",
    "        \n",
    "        current_words = current_words.transpose(0,1)\n",
    "    \n",
    "        #add bos in the begining\n",
    "        current_words = torch.cat([torch.ones((1, batch_size), dtype=torch.long).to(device) * bos_ix, current_words], dim=0)\n",
    "        \n",
    "        all_logits = []\n",
    "\n",
    "        for x_t in current_words:\n",
    "            hid_state, logits_next = self.decoder(self.query_level.embeddings(x_t), hid_state, self.query_level.embeddings)\n",
    "        \n",
    "        all_logits.append(logits_next.cpu().detach().numpy())\n",
    "        next_word = logits_next.max(1)[1]\n",
    "        words = [next_word.cpu().numpy()]\n",
    "        \n",
    "        for i in range(max_word_count - current_words.shape[0]):\n",
    "            hid_state, logits_next = self.decoder(self.query_level.embeddings(next_word), hid_state, self.query_level.embeddings)\n",
    "            all_logits.append(logits_next.cpu().detach().numpy())\n",
    "            next_word = logits_next.max(1)[1]\n",
    "            words.append(next_word.cpu().numpy())\n",
    "        \n",
    "        return all_logits, words\n",
    "    \n",
    "    \n",
    "    def predict_beam_search(self, previous_queries, current_words, beam_width=4, num_hypotheses=1):\n",
    "        batch_size = previous_queries.shape[0]\n",
    "        count_prev_words = current_words.shape[1]\n",
    "\n",
    "        queries_embeddings = []\n",
    "        for i in range(previous_queries.shape[1]):\n",
    "            queries_embeddings.append(self.query_level(previous_queries[:, i])[:,None])\n",
    "\n",
    "        queries_embeddings = torch.cat(queries_embeddings, dim=1)\n",
    "\n",
    "        session_states = rnn_loop_session(self.session_level, queries_embeddings)\n",
    "        session_last_state = session_states[-1]\n",
    "\n",
    "        hid_state = self.decoder.initial_state(session_last_state)\n",
    "\n",
    "        current_words = current_words.transpose(0,1)\n",
    "\n",
    "        #add bos in the begining\n",
    "        current_words = torch.cat([torch.ones((1, batch_size), dtype=torch.long).to(device) * bos_ix, current_words], dim=0)\n",
    "\n",
    "        all_logits = []\n",
    "        for x_t in current_words[:-1]:\n",
    "            hid_state, logits_next = self.decoder(self.query_level.embeddings(x_t), hid_state, \n",
    "                                                  self.query_level.embeddings)\n",
    "\n",
    "\n",
    "        hypotheses_words = []\n",
    "        hypotheses = []\n",
    "        for i in range(batch_size):\n",
    "            words, nodes = self.beam_search(hid_state[i], current_words[-1,i],\n",
    "                                            beam_width=beam_width, num_hypotheses=num_hypotheses, \n",
    "                                            max_length=(max_word_count - count_prev_words))\n",
    "            \n",
    "            hypotheses_words.append(words)\n",
    "            hypotheses.append(nodes)\n",
    "\n",
    "        return hypotheses_words, hypotheses\n",
    "    \n",
    "    def beam_search(self, init_state, init_word, beam_width=4, num_hypotheses=1, max_length=9):\n",
    "        next_fringe = [BeamNode(parent_node=None, cur_state=init_state, pred_word=init_word, cost=0.0)]\n",
    "        hypotheses = []\n",
    "\n",
    "        for _ in range(max_length):\n",
    "\n",
    "            fringe = []\n",
    "            for node in next_fringe:\n",
    "                if node.pred_word == eos_ix:\n",
    "                    hypotheses.append(node)\n",
    "                else:\n",
    "                    fringe.append(node)\n",
    "\n",
    "            if not fringe:\n",
    "                break\n",
    "                \n",
    "            preds_words = torch.cat([node.pred_word[None] for node in fringe], dim=0)\n",
    "\n",
    "            hid_states = torch.stack([node.cur_state for node in fringe], dim=0)\n",
    "\n",
    "            hid_state, logits_next = self.decoder(self.query_level.embeddings(preds_words), hid_states, \n",
    "                                                  self.query_level.embeddings)\n",
    "\n",
    "            log_probs = nn.LogSoftmax()(logits_next)\n",
    "            log_probs_next, words_next = log_probs.topk(beam_width, dim=1, sorted=False)\n",
    "\n",
    "            next_fringe = []\n",
    "\n",
    "            for log_probs_next_n, words_next_n, hid_state_n, node_prev in zip(log_probs_next, words_next, \n",
    "                                                                              hid_state, fringe):\n",
    "\n",
    "                for word, log_prob in zip(words_next_n, log_probs_next_n):\n",
    "                    new_node = BeamNode(parent_node=node_prev, cur_state=hid_state_n, \n",
    "                                        pred_word=word, cost=-log_prob)\n",
    "                    if new_node.length == max_length + 1:\n",
    "                        hypotheses.append(new_node)\n",
    "                    next_fringe.append(new_node)\n",
    "\n",
    "\n",
    "            next_fringe = sorted(next_fringe, key=lambda node: node.cum_cost)[:beam_width] # may move this into loop to save memory\n",
    "\n",
    "        hypotheses.sort(key=lambda node: node.cum_cost)\n",
    "\n",
    "        return [end_node.to_sequence_of_values() for end_node in hypotheses[:num_hypotheses]], [end_node.to_sequence() for end_node in hypotheses[:num_hypotheses]]"
   ]
  },
  {
   "cell_type": "code",
   "execution_count": 15,
   "metadata": {},
   "outputs": [],
   "source": [
    "model = ModelAttention().to(device)"
   ]
  },
  {
   "cell_type": "markdown",
   "metadata": {},
   "source": [
    "Обучаем модель"
   ]
  },
  {
   "cell_type": "code",
   "execution_count": 53,
   "metadata": {},
   "outputs": [
    {
     "data": {
      "application/vnd.jupyter.widget-view+json": {
       "model_id": "19acffc2a17446288f85ceeb8a5b81b7",
       "version_major": 2,
       "version_minor": 0
      },
      "text/plain": [
       "HBox(children=(IntProgress(value=0, max=5000), HTML(value='')))"
      ]
     },
     "metadata": {},
     "output_type": "display_data"
    },
    {
     "name": "stderr",
     "output_type": "stream",
     "text": [
      "/home/shakhrayv/.virtualenvs/lenas_py3.7/lib/python3.7/site-packages/ipykernel_launcher.py:43: UserWarning: Implicit dimension choice for softmax has been deprecated. Change the call to include dim=X as an argument.\n",
      "IOPub message rate exceeded.\n",
      "The notebook server will temporarily stop sending output\n",
      "to the client in order to avoid crashing it.\n",
      "To change this limit, set the config variable\n",
      "`--NotebookApp.iopub_msg_rate_limit`.\n",
      "\n",
      "Current values:\n",
      "NotebookApp.iopub_msg_rate_limit=1000.0 (msgs/sec)\n",
      "NotebookApp.rate_limit_window=3.0 (secs)\n",
      "\n",
      "IOPub message rate exceeded.\n",
      "The notebook server will temporarily stop sending output\n",
      "to the client in order to avoid crashing it.\n",
      "To change this limit, set the config variable\n",
      "`--NotebookApp.iopub_msg_rate_limit`.\n",
      "\n",
      "Current values:\n",
      "NotebookApp.iopub_msg_rate_limit=1000.0 (msgs/sec)\n",
      "NotebookApp.rate_limit_window=3.0 (secs)\n",
      "\n",
      "IOPub message rate exceeded.\n",
      "The notebook server will temporarily stop sending output\n",
      "to the client in order to avoid crashing it.\n",
      "To change this limit, set the config variable\n",
      "`--NotebookApp.iopub_msg_rate_limit`.\n",
      "\n",
      "Current values:\n",
      "NotebookApp.iopub_msg_rate_limit=1000.0 (msgs/sec)\n",
      "NotebookApp.rate_limit_window=3.0 (secs)\n",
      "\n"
     ]
    },
    {
     "name": "stdout",
     "output_type": "stream",
     "text": [
      "\n",
      "Epoch 6 (30000 iteration) of 10 took 4557.624s\n",
      "  training loss (in-iteration): \t0.079599\n",
      "  validation loss (in-iteration): \t0.074495\n"
     ]
    },
    {
     "data": {
      "application/vnd.jupyter.widget-view+json": {
       "model_id": "c158a32a91d64fc1bcb9509ffc9ce4b0",
       "version_major": 2,
       "version_minor": 0
      },
      "text/plain": [
       "HBox(children=(IntProgress(value=0, max=5000), HTML(value='')))"
      ]
     },
     "metadata": {},
     "output_type": "display_data"
    },
    {
     "name": "stderr",
     "output_type": "stream",
     "text": [
      "IOPub message rate exceeded.\n",
      "The notebook server will temporarily stop sending output\n",
      "to the client in order to avoid crashing it.\n",
      "To change this limit, set the config variable\n",
      "`--NotebookApp.iopub_msg_rate_limit`.\n",
      "\n",
      "Current values:\n",
      "NotebookApp.iopub_msg_rate_limit=1000.0 (msgs/sec)\n",
      "NotebookApp.rate_limit_window=3.0 (secs)\n",
      "\n"
     ]
    },
    {
     "name": "stdout",
     "output_type": "stream",
     "text": [
      "\n",
      "Epoch 8 (40000 iteration) of 10 took 4567.522s\n",
      "  training loss (in-iteration): \t0.067072\n",
      "  validation loss (in-iteration): \t0.062544\n"
     ]
    },
    {
     "data": {
      "application/vnd.jupyter.widget-view+json": {
       "model_id": "5646decdcd8241fc82f9aeda8c5bd8f9",
       "version_major": 2,
       "version_minor": 0
      },
      "text/plain": [
       "HBox(children=(IntProgress(value=0, max=5000), HTML(value='')))"
      ]
     },
     "metadata": {},
     "output_type": "display_data"
    },
    {
     "name": "stderr",
     "output_type": "stream",
     "text": [
      "IOPub message rate exceeded.\n",
      "The notebook server will temporarily stop sending output\n",
      "to the client in order to avoid crashing it.\n",
      "To change this limit, set the config variable\n",
      "`--NotebookApp.iopub_msg_rate_limit`.\n",
      "\n",
      "Current values:\n",
      "NotebookApp.iopub_msg_rate_limit=1000.0 (msgs/sec)\n",
      "NotebookApp.rate_limit_window=3.0 (secs)\n",
      "\n",
      "IOPub message rate exceeded.\n",
      "The notebook server will temporarily stop sending output\n",
      "to the client in order to avoid crashing it.\n",
      "To change this limit, set the config variable\n",
      "`--NotebookApp.iopub_msg_rate_limit`.\n",
      "\n",
      "Current values:\n",
      "NotebookApp.iopub_msg_rate_limit=1000.0 (msgs/sec)\n",
      "NotebookApp.rate_limit_window=3.0 (secs)\n",
      "\n"
     ]
    }
   ],
   "source": [
    "batch_generator = get_batch_generator(data_aol, good_last_indeces_for_batch, batch_size=128)\n",
    "\n",
    "for epoch in range(epochs):\n",
    "    start_time = time.time()\n",
    "    for iteration in tqdm_notebook(range(steps_per_epoch)):\n",
    "        \n",
    "        batch_queries = next(batch_generator)\n",
    "        if not len(batch_queries):\n",
    "            continue\n",
    "            \n",
    "        loss = compute_loss(model, batch_queries, return_logits=False)\n",
    "        loss.backward()\n",
    "        opt.step()\n",
    "        opt.zero_grad()\n",
    "        \n",
    "        train_loss.append(loss.cpu().data.numpy())\n",
    "    \n",
    "\n",
    "    val_queries = get_val_batch_generator(data_aol_test, good_last_indeces_for_batch_test[:100000], \n",
    "                                          count_prev_good_indeces_limited_test,\n",
    "                                          batch_size=64, emb_size=300)\n",
    "    \n",
    "    count = 0\n",
    "    for batch_queries in val_queries:\n",
    "        if not len(batch_queries):\n",
    "            continue\n",
    "        loss = compute_loss(model, batch_queries, return_logits=False)\n",
    "        val_loss.append(loss.cpu().data.numpy())\n",
    "        count += 1\n",
    "    \n",
    "    print(\"Epoch {} ({} iteration) of {} took {:.3f}s\".format(\n",
    "        epoch + 1, (epoch + 1) * steps_per_epoch, epochs, time.time() - start_time))\n",
    "    print(\"  training loss (in-iteration): \\t{:.6f}\".format(\n",
    "        np.mean(train_loss[-steps_per_epoch :])))\n",
    "    print(\"  validation loss (in-iteration): \\t{:.6f}\".format(\n",
    "        np.mean(val_loss[-count:])))"
   ]
  },
  {
   "cell_type": "code",
   "execution_count": 55,
   "metadata": {},
   "outputs": [
    {
     "data": {
      "application/vnd.jupyter.widget-view+json": {
       "model_id": "2c791a9b7df34913bde2be50c44ba6f0",
       "version_major": 2,
       "version_minor": 0
      },
      "text/plain": [
       "HBox(children=(IntProgress(value=0, max=5000), HTML(value='')))"
      ]
     },
     "metadata": {},
     "output_type": "display_data"
    },
    {
     "name": "stderr",
     "output_type": "stream",
     "text": [
      "/home/shakhrayv/.virtualenvs/lenas_py3.7/lib/python3.7/site-packages/ipykernel_launcher.py:43: UserWarning: Implicit dimension choice for softmax has been deprecated. Change the call to include dim=X as an argument.\n"
     ]
    },
    {
     "name": "stdout",
     "output_type": "stream",
     "text": [
      "\n",
      "Epoch 1 (5000 iteration) of 10 took 4563.373s\n",
      "  training loss (in-iteration): \t0.055275\n",
      "  validation loss (in-iteration): \t0.058100\n"
     ]
    },
    {
     "data": {
      "application/vnd.jupyter.widget-view+json": {
       "model_id": "7edafb7eddd443678f17bb9b603f5002",
       "version_major": 2,
       "version_minor": 0
      },
      "text/plain": [
       "HBox(children=(IntProgress(value=0, max=5000), HTML(value='')))"
      ]
     },
     "metadata": {},
     "output_type": "display_data"
    },
    {
     "name": "stdout",
     "output_type": "stream",
     "text": [
      "\n",
      "Epoch 2 (10000 iteration) of 10 took 4566.526s\n",
      "  training loss (in-iteration): \t0.053705\n",
      "  validation loss (in-iteration): \t0.050826\n"
     ]
    },
    {
     "data": {
      "application/vnd.jupyter.widget-view+json": {
       "model_id": "c3a31ee45a274417b8753de4a171323c",
       "version_major": 2,
       "version_minor": 0
      },
      "text/plain": [
       "HBox(children=(IntProgress(value=0, max=5000), HTML(value='')))"
      ]
     },
     "metadata": {},
     "output_type": "display_data"
    },
    {
     "name": "stdout",
     "output_type": "stream",
     "text": [
      "\n",
      "Epoch 3 (15000 iteration) of 10 took 4558.100s\n",
      "  training loss (in-iteration): \t0.050076\n",
      "  validation loss (in-iteration): \t0.046923\n"
     ]
    },
    {
     "data": {
      "application/vnd.jupyter.widget-view+json": {
       "model_id": "b2437d5815cf4902958ad0b53fc6a2b2",
       "version_major": 2,
       "version_minor": 0
      },
      "text/plain": [
       "HBox(children=(IntProgress(value=0, max=5000), HTML(value='')))"
      ]
     },
     "metadata": {},
     "output_type": "display_data"
    },
    {
     "name": "stdout",
     "output_type": "stream",
     "text": [
      "\n",
      "Epoch 4 (20000 iteration) of 10 took 4567.519s\n",
      "  training loss (in-iteration): \t0.048213\n",
      "  validation loss (in-iteration): \t0.045220\n"
     ]
    },
    {
     "data": {
      "application/vnd.jupyter.widget-view+json": {
       "model_id": "5fca4f9d9db748b2894bf5f26710f193",
       "version_major": 2,
       "version_minor": 0
      },
      "text/plain": [
       "HBox(children=(IntProgress(value=0, max=5000), HTML(value='')))"
      ]
     },
     "metadata": {},
     "output_type": "display_data"
    },
    {
     "name": "stdout",
     "output_type": "stream",
     "text": [
      "\n",
      "Epoch 5 (25000 iteration) of 10 took 4563.240s\n",
      "  training loss (in-iteration): \t0.045775\n",
      "  validation loss (in-iteration): \t0.049193\n"
     ]
    },
    {
     "data": {
      "application/vnd.jupyter.widget-view+json": {
       "model_id": "690e606f4a7c49cc97ac15f1e98354c2",
       "version_major": 2,
       "version_minor": 0
      },
      "text/plain": [
       "HBox(children=(IntProgress(value=0, max=5000), HTML(value='')))"
      ]
     },
     "metadata": {},
     "output_type": "display_data"
    },
    {
     "name": "stdout",
     "output_type": "stream",
     "text": [
      "\n",
      "Epoch 6 (30000 iteration) of 10 took 4561.560s\n",
      "  training loss (in-iteration): \t0.044302\n",
      "  validation loss (in-iteration): \t0.044828\n"
     ]
    },
    {
     "data": {
      "application/vnd.jupyter.widget-view+json": {
       "model_id": "8a80146820f14c6f94ff52537d258194",
       "version_major": 2,
       "version_minor": 0
      },
      "text/plain": [
       "HBox(children=(IntProgress(value=0, max=5000), HTML(value='')))"
      ]
     },
     "metadata": {},
     "output_type": "display_data"
    },
    {
     "name": "stderr",
     "output_type": "stream",
     "text": [
      "IOPub message rate exceeded.\n",
      "The notebook server will temporarily stop sending output\n",
      "to the client in order to avoid crashing it.\n",
      "To change this limit, set the config variable\n",
      "`--NotebookApp.iopub_msg_rate_limit`.\n",
      "\n",
      "Current values:\n",
      "NotebookApp.iopub_msg_rate_limit=1000.0 (msgs/sec)\n",
      "NotebookApp.rate_limit_window=3.0 (secs)\n",
      "\n"
     ]
    },
    {
     "name": "stdout",
     "output_type": "stream",
     "text": [
      "\n",
      "Epoch 7 (35000 iteration) of 10 took 4565.101s\n",
      "  training loss (in-iteration): \t0.043300\n",
      "  validation loss (in-iteration): \t0.042068\n"
     ]
    },
    {
     "data": {
      "application/vnd.jupyter.widget-view+json": {
       "model_id": "17d6551c53d74be4ba29ae5f3af820a6",
       "version_major": 2,
       "version_minor": 0
      },
      "text/plain": [
       "HBox(children=(IntProgress(value=0, max=5000), HTML(value='')))"
      ]
     },
     "metadata": {},
     "output_type": "display_data"
    },
    {
     "name": "stderr",
     "output_type": "stream",
     "text": [
      "IOPub message rate exceeded.\n",
      "The notebook server will temporarily stop sending output\n",
      "to the client in order to avoid crashing it.\n",
      "To change this limit, set the config variable\n",
      "`--NotebookApp.iopub_msg_rate_limit`.\n",
      "\n",
      "Current values:\n",
      "NotebookApp.iopub_msg_rate_limit=1000.0 (msgs/sec)\n",
      "NotebookApp.rate_limit_window=3.0 (secs)\n",
      "\n",
      "IOPub message rate exceeded.\n",
      "The notebook server will temporarily stop sending output\n",
      "to the client in order to avoid crashing it.\n",
      "To change this limit, set the config variable\n",
      "`--NotebookApp.iopub_msg_rate_limit`.\n",
      "\n",
      "Current values:\n",
      "NotebookApp.iopub_msg_rate_limit=1000.0 (msgs/sec)\n",
      "NotebookApp.rate_limit_window=3.0 (secs)\n",
      "\n"
     ]
    }
   ],
   "source": [
    "batch_generator = get_batch_generator(data_aol, good_last_indeces_for_batch, batch_size=128)\n",
    "\n",
    "for epoch in range(epochs):\n",
    "    start_time = time.time()\n",
    "    for iteration in tqdm_notebook(range(steps_per_epoch)):\n",
    "        \n",
    "        batch_queries = next(batch_generator)\n",
    "        if not len(batch_queries):\n",
    "            continue\n",
    "            \n",
    "        loss = compute_loss(model, batch_queries, return_logits=False)\n",
    "        loss.backward()\n",
    "        opt.step()\n",
    "        opt.zero_grad()\n",
    "        \n",
    "        train_loss.append(loss.cpu().data.numpy())\n",
    "    \n",
    "\n",
    "    val_queries = get_val_batch_generator(data_aol_test, good_last_indeces_for_batch_test[:100000], \n",
    "                                          count_prev_good_indeces_limited_test,\n",
    "                                          batch_size=64, emb_size=300)\n",
    "    \n",
    "    count = 0\n",
    "    for batch_queries in val_queries:\n",
    "        if not len(batch_queries):\n",
    "            continue\n",
    "        loss = compute_loss(model, batch_queries, return_logits=False)\n",
    "        val_loss.append(loss.cpu().data.numpy())\n",
    "        count += 1\n",
    "    \n",
    "    print(\"Epoch {} ({} iteration) of {} took {:.3f}s\".format(\n",
    "        epoch + 1, (epoch + 1) * steps_per_epoch, epochs, time.time() - start_time))\n",
    "    print(\"  training loss (in-iteration): \\t{:.6f}\".format(\n",
    "        np.mean(train_loss[-steps_per_epoch :])))\n",
    "    print(\"  validation loss (in-iteration): \\t{:.6f}\".format(\n",
    "        np.mean(val_loss[-count:])))"
   ]
  },
  {
   "cell_type": "code",
   "execution_count": 15,
   "metadata": {},
   "outputs": [
    {
     "data": {
      "application/vnd.jupyter.widget-view+json": {
       "model_id": "f26d10fbdc5c43e682faafc6517fb1db",
       "version_major": 2,
       "version_minor": 0
      },
      "text/plain": [
       "HBox(children=(IntProgress(value=0, max=5000), HTML(value='')))"
      ]
     },
     "metadata": {},
     "output_type": "display_data"
    },
    {
     "name": "stderr",
     "output_type": "stream",
     "text": [
      "/home/shakhrayv/.virtualenvs/lenas_py3.7/lib/python3.7/site-packages/ipykernel_launcher.py:41: UserWarning: Implicit dimension choice for softmax has been deprecated. Change the call to include dim=X as an argument.\n"
     ]
    },
    {
     "name": "stdout",
     "output_type": "stream",
     "text": [
      "\n",
      "Epoch 1 (5000 iteration) of 10 took 4698.014s\n",
      "  training loss (in-iteration): \t0.026656\n",
      "  validation loss (in-iteration): \t0.030010\n"
     ]
    },
    {
     "data": {
      "application/vnd.jupyter.widget-view+json": {
       "model_id": "db05c287192749ae841400ccdc2cdbe1",
       "version_major": 2,
       "version_minor": 0
      },
      "text/plain": [
       "HBox(children=(IntProgress(value=0, max=5000), HTML(value='')))"
      ]
     },
     "metadata": {},
     "output_type": "display_data"
    },
    {
     "name": "stdout",
     "output_type": "stream",
     "text": [
      "\n",
      "Epoch 2 (10000 iteration) of 10 took 4701.227s\n",
      "  training loss (in-iteration): \t0.026951\n",
      "  validation loss (in-iteration): \t0.029880\n"
     ]
    },
    {
     "data": {
      "application/vnd.jupyter.widget-view+json": {
       "model_id": "9af8c459df2c489db0d1aa5f9962eb64",
       "version_major": 2,
       "version_minor": 0
      },
      "text/plain": [
       "HBox(children=(IntProgress(value=0, max=5000), HTML(value='')))"
      ]
     },
     "metadata": {},
     "output_type": "display_data"
    },
    {
     "name": "stdout",
     "output_type": "stream",
     "text": [
      "\n",
      "Epoch 3 (15000 iteration) of 10 took 4703.050s\n",
      "  training loss (in-iteration): \t0.026247\n",
      "  validation loss (in-iteration): \t0.028640\n"
     ]
    },
    {
     "data": {
      "application/vnd.jupyter.widget-view+json": {
       "model_id": "7ac5945cc28b4f138822a6385dc01e10",
       "version_major": 2,
       "version_minor": 0
      },
      "text/plain": [
       "HBox(children=(IntProgress(value=0, max=5000), HTML(value='')))"
      ]
     },
     "metadata": {},
     "output_type": "display_data"
    },
    {
     "name": "stderr",
     "output_type": "stream",
     "text": [
      "IOPub message rate exceeded.\n",
      "The notebook server will temporarily stop sending output\n",
      "to the client in order to avoid crashing it.\n",
      "To change this limit, set the config variable\n",
      "`--NotebookApp.iopub_msg_rate_limit`.\n",
      "\n",
      "Current values:\n",
      "NotebookApp.iopub_msg_rate_limit=1000.0 (msgs/sec)\n",
      "NotebookApp.rate_limit_window=3.0 (secs)\n",
      "\n"
     ]
    },
    {
     "name": "stdout",
     "output_type": "stream",
     "text": [
      "\n",
      "Epoch 5 (25000 iteration) of 10 took 4699.495s\n",
      "  training loss (in-iteration): \t0.024044\n",
      "  validation loss (in-iteration): \t0.028068\n"
     ]
    },
    {
     "data": {
      "application/vnd.jupyter.widget-view+json": {
       "model_id": "521c6940a2bb4213a6572afc621e7f1f",
       "version_major": 2,
       "version_minor": 0
      },
      "text/plain": [
       "HBox(children=(IntProgress(value=0, max=5000), HTML(value='')))"
      ]
     },
     "metadata": {},
     "output_type": "display_data"
    },
    {
     "name": "stderr",
     "output_type": "stream",
     "text": [
      "IOPub message rate exceeded.\n",
      "The notebook server will temporarily stop sending output\n",
      "to the client in order to avoid crashing it.\n",
      "To change this limit, set the config variable\n",
      "`--NotebookApp.iopub_msg_rate_limit`.\n",
      "\n",
      "Current values:\n",
      "NotebookApp.iopub_msg_rate_limit=1000.0 (msgs/sec)\n",
      "NotebookApp.rate_limit_window=3.0 (secs)\n",
      "\n",
      "IOPub message rate exceeded.\n",
      "The notebook server will temporarily stop sending output\n",
      "to the client in order to avoid crashing it.\n",
      "To change this limit, set the config variable\n",
      "`--NotebookApp.iopub_msg_rate_limit`.\n",
      "\n",
      "Current values:\n",
      "NotebookApp.iopub_msg_rate_limit=1000.0 (msgs/sec)\n",
      "NotebookApp.rate_limit_window=3.0 (secs)\n",
      "\n",
      "IOPub message rate exceeded.\n",
      "The notebook server will temporarily stop sending output\n",
      "to the client in order to avoid crashing it.\n",
      "To change this limit, set the config variable\n",
      "`--NotebookApp.iopub_msg_rate_limit`.\n",
      "\n",
      "Current values:\n",
      "NotebookApp.iopub_msg_rate_limit=1000.0 (msgs/sec)\n",
      "NotebookApp.rate_limit_window=3.0 (secs)\n",
      "\n"
     ]
    },
    {
     "name": "stdout",
     "output_type": "stream",
     "text": [
      "\n",
      "Epoch 10 (50000 iteration) of 10 took 4691.346s\n",
      "  training loss (in-iteration): \t0.020712\n",
      "  validation loss (in-iteration): \t0.031169\n"
     ]
    }
   ],
   "source": [
    "from tqdm import tqdm_notebook\n",
    "import time\n",
    "\n",
    "opt = torch.optim.Adam(model.parameters())\n",
    "\n",
    "epochs = 10\n",
    "steps_per_epoch = 5000\n",
    "\n",
    "train_loss = []\n",
    "val_loss = []\n",
    "\n",
    "\n",
    "batch_generator = get_batch_generator(data_aol, good_last_indeces_for_batch, batch_size=256, \n",
    "                                      min_count_prev_queries=2, max_batch_size=128)\n",
    "\n",
    "for epoch in range(epochs):\n",
    "    start_time = time.time()\n",
    "    for iteration in tqdm_notebook(range(steps_per_epoch)):\n",
    "        \n",
    "        batch_queries = next(batch_generator)\n",
    "        if not len(batch_queries):\n",
    "            continue\n",
    "            \n",
    "        loss = compute_loss(model, batch_queries, return_logits=False)\n",
    "        loss.backward()\n",
    "        opt.step()\n",
    "        opt.zero_grad()\n",
    "        \n",
    "        train_loss.append(loss.cpu().data.numpy())\n",
    "    \n",
    "\n",
    "    val_queries = get_val_batch_generator(data_aol_test, good_last_indeces_for_batch_test[:100000], \n",
    "                                          count_prev_good_indeces_limited_test,\n",
    "                                          batch_size=64, emb_size=300)\n",
    "    \n",
    "    count = 0\n",
    "    for batch_queries in val_queries:\n",
    "        if not len(batch_queries):\n",
    "            continue\n",
    "        loss = compute_loss(model, batch_queries, return_logits=False)\n",
    "        val_loss.append(loss.cpu().data.numpy())\n",
    "        count += 1\n",
    "    \n",
    "    print(\"Epoch {} ({} iteration) of {} took {:.3f}s\".format(\n",
    "        epoch + 1, (epoch + 1) * steps_per_epoch, epochs, time.time() - start_time))\n",
    "    print(\"  training loss (in-iteration): \\t{:.6f}\".format(\n",
    "        np.mean(train_loss[-steps_per_epoch :])))\n",
    "    print(\"  validation loss (in-iteration): \\t{:.6f}\".format(\n",
    "        np.mean(val_loss[-count:])))"
   ]
  },
  {
   "cell_type": "code",
   "execution_count": 61,
   "metadata": {},
   "outputs": [
    {
     "data": {
      "application/vnd.jupyter.widget-view+json": {
       "model_id": "8fdae155daff4f8c842c3606e6e26b7f",
       "version_major": 2,
       "version_minor": 0
      },
      "text/plain": [
       "HBox(children=(IntProgress(value=0, max=5000), HTML(value='')))"
      ]
     },
     "metadata": {},
     "output_type": "display_data"
    },
    {
     "name": "stderr",
     "output_type": "stream",
     "text": [
      "/home/shakhrayv/.virtualenvs/lenas_py3.7/lib/python3.7/site-packages/ipykernel_launcher.py:41: UserWarning: Implicit dimension choice for softmax has been deprecated. Change the call to include dim=X as an argument.\n",
      "IOPub message rate exceeded.\n",
      "The notebook server will temporarily stop sending output\n",
      "to the client in order to avoid crashing it.\n",
      "To change this limit, set the config variable\n",
      "`--NotebookApp.iopub_msg_rate_limit`.\n",
      "\n",
      "Current values:\n",
      "NotebookApp.iopub_msg_rate_limit=1000.0 (msgs/sec)\n",
      "NotebookApp.rate_limit_window=3.0 (secs)\n",
      "\n"
     ]
    },
    {
     "name": "stdout",
     "output_type": "stream",
     "text": [
      "\n",
      "Epoch 1 (5000 iteration) of 1 took 4725.586s\n",
      "  training loss (in-iteration): \t0.019545\n",
      "  validation loss (in-iteration): \t0.025158\n"
     ]
    }
   ],
   "source": [
    "batch_generator = get_batch_generator(data_aol, good_last_indeces_for_batch, batch_size=256, \n",
    "                                      min_count_prev_queries=2, max_batch_size=136)\n",
    "\n",
    "\n",
    "for epoch in range(epochs):\n",
    "    start_time = time.time()\n",
    "    for iteration in tqdm_notebook(range(steps_per_epoch)):\n",
    "        \n",
    "        batch_queries = next(batch_generator)\n",
    "        if not len(batch_queries):\n",
    "            continue\n",
    "            \n",
    "        loss = compute_loss(model, batch_queries, return_logits=False)\n",
    "        loss.backward()\n",
    "        opt.step()\n",
    "        opt.zero_grad()\n",
    "        \n",
    "        train_loss.append(loss.cpu().data.numpy())\n",
    "    \n",
    "\n",
    "    val_queries = get_val_batch_generator(data_aol_test, good_last_indeces_for_batch_test[:100000], \n",
    "                                          count_prev_good_indeces_limited_test,\n",
    "                                          batch_size=64, emb_size=300)\n",
    "    \n",
    "    count = 0\n",
    "    for batch_queries in val_queries:\n",
    "        if not len(batch_queries):\n",
    "            continue\n",
    "        loss = compute_loss(model, batch_queries, return_logits=False)\n",
    "        val_loss.append(loss.cpu().data.numpy())\n",
    "        count += 1\n",
    "    \n",
    "    print(\"Epoch {} ({} iteration) of {} took {:.3f}s\".format(\n",
    "        epoch + 1, (epoch + 1) * steps_per_epoch, epochs, time.time() - start_time))\n",
    "    print(\"  training loss (in-iteration): \\t{:.6f}\".format(\n",
    "        np.mean(train_loss[-steps_per_epoch :])))\n",
    "    print(\"  validation loss (in-iteration): \\t{:.6f}\".format(\n",
    "        np.mean(val_loss[-count:])))"
   ]
  },
  {
   "cell_type": "markdown",
   "metadata": {},
   "source": [
    "**Лосс на валидации стал больше, чем в 5 раза меньше, чем был!!** Сохраняем модель."
   ]
  },
  {
   "cell_type": "code",
   "execution_count": 62,
   "metadata": {},
   "outputs": [
    {
     "name": "stderr",
     "output_type": "stream",
     "text": [
      "/home/shakhrayv/.virtualenvs/lenas_py3.7/lib/python3.7/site-packages/torch/serialization.py:251: UserWarning: Couldn't retrieve source code for container of type ModelAttention. It won't be checked for correctness upon loading.\n",
      "  \"type \" + obj.__name__ + \". It won't be checked \"\n",
      "/home/shakhrayv/.virtualenvs/lenas_py3.7/lib/python3.7/site-packages/torch/serialization.py:251: UserWarning: Couldn't retrieve source code for container of type QueryLevelRNN. It won't be checked for correctness upon loading.\n",
      "  \"type \" + obj.__name__ + \". It won't be checked \"\n",
      "/home/shakhrayv/.virtualenvs/lenas_py3.7/lib/python3.7/site-packages/torch/serialization.py:251: UserWarning: Couldn't retrieve source code for container of type SessionLevelRNNCell. It won't be checked for correctness upon loading.\n",
      "  \"type \" + obj.__name__ + \". It won't be checked \"\n",
      "/home/shakhrayv/.virtualenvs/lenas_py3.7/lib/python3.7/site-packages/torch/serialization.py:251: UserWarning: Couldn't retrieve source code for container of type DecoderCell. It won't be checked for correctness upon loading.\n",
      "  \"type \" + obj.__name__ + \". It won't be checked \"\n"
     ]
    }
   ],
   "source": [
    "torch.save(model, 'trained_model_self_attention_0.025158.pth')\n",
    "torch.save(model.state_dict(), 'trained_model_self_attention_0.025158_dict.pth')\n",
    "# model = torch.load('trained_model_two_attentions_2.pth')\n",
    "# model.eval()"
   ]
  },
  {
   "cell_type": "markdown",
   "metadata": {},
   "source": [
    "# Attention in decoder\n",
    "Attention over queries embeddings\n",
    "Еще больше внимания!\n",
    "Кроме self-attention-а, добавленного ранее, добаивим еще attention в декодере. Этот attention будет при генерации очередного слова запроса смотреть на эмбеддинги предыдущих запросов. Таким образом, это поможет обращать больше внимания на все предыдущие запросы (а не отдавать большое предпочтение одному предыдущему, так как про него мы помним лучше всего). Здесь в качестве attention-скора я выбрала general score."
   ]
  },
  {
   "cell_type": "code",
   "execution_count": 11,
   "metadata": {},
   "outputs": [],
   "source": [
    "def decoder_attention_function(w, q_j, linear_attention):\n",
    "    return torch.sum(linear_attention(w) * q_j, dim=1)\n",
    "    \n",
    "\n",
    "class DecoderCellAttention(nn.Module):\n",
    "    def __init__(self, embedding_size=300, rnn_num_units=1000, init_state_size=1500, query_num_units=1000):\n",
    "        super(self.__class__,self).__init__()\n",
    "        self.num_units = rnn_num_units\n",
    "        self.query_num_units = query_num_units\n",
    "        self.init_transform = nn.Linear(init_state_size, rnn_num_units)\n",
    "        self.gru_cell = nn.GRUCell(embedding_size + embedding_size, rnn_num_units)\n",
    "        self.transform_state = nn.Linear(rnn_num_units, embedding_size)\n",
    "        self.transform_word = nn.Linear(embedding_size, embedding_size, bias=False)\n",
    "        self.linear_attention = nn.Linear(embedding_size, query_num_units)\n",
    "        \n",
    "        self.linear_query_transform = nn.Linear(query_num_units, embedding_size)\n",
    "        \n",
    "        \n",
    "    def forward(self, x, prev_state, embedding_layer, prev_queries_embeddings):\n",
    "        \n",
    "        batch_size, count_prev_queries = prev_queries_embeddings.shape[:2]\n",
    "        prev_queries_embeddings = prev_queries_embeddings.transpose(0, 1)\n",
    "        \n",
    "        #compute alphas\n",
    "        alphas = []\n",
    "        \n",
    "        for q_j in prev_queries_embeddings:\n",
    "            alphas.append(decoder_attention_function(x, q_j, self.linear_attention))\n",
    "            \n",
    "        alphas = nn.Softmax()(torch.stack(alphas, dim=1))\n",
    "        \n",
    "        # compute attention addition\n",
    "        addition_queries = torch.zeros(batch_size, self.query_num_units).to(device)\n",
    "        for j in range(count_prev_queries):\n",
    "            addition_queries += alphas[:,j][:,None] * prev_queries_embeddings[j]\n",
    "            \n",
    "        # concat addition info to word\n",
    "        new_x = torch.cat([x, self.linear_query_transform(addition_queries)], dim=1)\n",
    "       \n",
    "        # compute logits\n",
    "        vocab_emb_matrix = embedding_layer.weight\n",
    "        next_h = self.gru_cell(new_x, prev_state)\n",
    "        w = self.transform_state(next_h) + self.transform_word(x)\n",
    "        logits = torch.matmul(vocab_emb_matrix, w.transpose(0, 1)).transpose(0, 1)\n",
    "        return next_h, logits\n",
    "    \n",
    "    def initial_state(self, session_state):\n",
    "        return nn.Tanh()(self.init_transform(session_state))\n",
    "    \n",
    "    \n",
    "    \n",
    "def rnn_loop_decoder(rnn_cell, batch_ix, session_state, embedding_layer, prev_queries_embeddings):\n",
    "    \"\"\"\n",
    "    Computes log P(next_character) for all time-steps in lines_ix\n",
    "    :param lines_ix: an int32 matrix of shape [batch, time], output of to_matrix(lines)\n",
    "    \"\"\"\n",
    "    batch_size, max_length = batch_ix.size()\n",
    "    hid_state = rnn_cell.initial_state(session_state)\n",
    "    \n",
    "    batch_ix = batch_ix.transpose(0,1)\n",
    "    \n",
    "    #add ones(zeros) in the beggining\n",
    "    batch_ix = torch.cat([torch.ones((1, batch_size), dtype=torch.long).to(device) * bos_ix, batch_ix], dim=0)\n",
    "    \n",
    "    \n",
    "    all_logits = []\n",
    "\n",
    "    for x_t in batch_ix:\n",
    "        hid_state, logits_next = rnn_cell(embedding_layer(x_t), hid_state, \n",
    "                                          embedding_layer, prev_queries_embeddings)\n",
    "        all_logits.append(logits_next)\n",
    "        \n",
    "    return torch.stack(all_logits, dim=1)"
   ]
  },
  {
   "cell_type": "code",
   "execution_count": 12,
   "metadata": {},
   "outputs": [],
   "source": [
    "class ModelTwoAttention(nn.Module):\n",
    "    def __init__(self, vocab_len=len(all_words), embedding_size=200, query_num_units=1000, \n",
    "                 session_num_units=1500, decoder_num_units=1000, attention_size=500):\n",
    "        super(self.__class__,self).__init__()\n",
    "        \n",
    "        self.query_level = QueryLevelRNN(vocab_len, embedding_size, query_num_units).to(device)\n",
    "        self.session_level = SessionLevelRNNCell(query_num_units, session_num_units, attention_size).to(device)\n",
    "        self.decoder = DecoderCellAttention(embedding_size, decoder_num_units, session_num_units).to(device)\n",
    "        \n",
    "        \n",
    "    def forward(self, queries):\n",
    "        queries_embeddings = []\n",
    "        for i in range(queries.shape[1]):\n",
    "            queries_embeddings.append(self.query_level(queries[:, i]))\n",
    "            \n",
    "        queries_embeddings = torch.stack(queries_embeddings, dim=1)\n",
    "        \n",
    "        session_states = rnn_loop_session(self.session_level, queries_embeddings)\n",
    "\n",
    "        all_logits = []\n",
    "        for i in range(1, queries.shape[1]):\n",
    "            cur_session_embedding = session_states[i]\n",
    "            ## give all words from next query without last word\n",
    "            logits = rnn_loop_decoder(self.decoder, queries[:,i], cur_session_embedding, \n",
    "                                      self.query_level.embeddings, queries_embeddings[:,:i])\n",
    "            all_logits.append(logits)\n",
    "            \n",
    "        return torch.stack(all_logits, dim=1)\n",
    "        \n",
    "            \n",
    "    def predict(self, previous_queries, current_words):\n",
    "        batch_size = previous_queries.shape[0]\n",
    "        \n",
    "        queries_embeddings = []\n",
    "        for i in range(previous_queries.shape[1]):\n",
    "            queries_embeddings.append(self.query_level(previous_queries[:, i])[:,None])\n",
    "            \n",
    "        queries_embeddings = torch.cat(queries_embeddings, dim=1)\n",
    "        \n",
    "#         session_states = self.session_level(queries_embeddings)\n",
    "        session_states = rnn_loop_session(self.session_level, queries_embeddings)\n",
    "        session_last_state = session_states[-1]\n",
    "        \n",
    "        hid_state = self.decoder.initial_state(session_last_state)\n",
    "        \n",
    "        current_words = current_words.transpose(0,1)\n",
    "    \n",
    "        #add bos in the begining\n",
    "        current_words = torch.cat([torch.ones((1, batch_size), dtype=torch.long).to(device) * bos_ix, current_words], dim=0)\n",
    "        \n",
    "        all_logits = []\n",
    "        for x_t in current_words:\n",
    "            hid_state, logits_next = self.decoder(self.query_level.embeddings(x_t), hid_state, \n",
    "                                                  self.query_level.embeddings, queries_embeddings)\n",
    "        \n",
    "        all_logits.append(logits_next.cpu().detach().numpy())\n",
    "        next_word = logits_next.max(1)[1]\n",
    "        words = [next_word.cpu().numpy()]\n",
    "        for i in range(max_word_count - current_words.shape[0]):\n",
    "            hid_state, logits_next = self.decoder(self.query_level.embeddings(next_word), hid_state, \n",
    "                                                  self.query_level.embeddings, queries_embeddings)\n",
    "            \n",
    "            all_logits.append(logits_next.cpu().detach().numpy())\n",
    "            next_word = logits_next.max(1)[1]\n",
    "            words.append(next_word.cpu().numpy())\n",
    "        \n",
    "        return all_logits, words"
   ]
  },
  {
   "cell_type": "code",
   "execution_count": 23,
   "metadata": {},
   "outputs": [],
   "source": [
    "model = ModelTwoAttention().to(device)"
   ]
  },
  {
   "cell_type": "markdown",
   "metadata": {},
   "source": [
    "Обучаемся."
   ]
  },
  {
   "cell_type": "code",
   "execution_count": 24,
   "metadata": {},
   "outputs": [
    {
     "data": {
      "application/vnd.jupyter.widget-view+json": {
       "model_id": "d53fbedc92ce48e9a84389e21fbe59ad",
       "version_major": 2,
       "version_minor": 0
      },
      "text/plain": [
       "HBox(children=(IntProgress(value=0, max=5000), HTML(value='')))"
      ]
     },
     "metadata": {},
     "output_type": "display_data"
    },
    {
     "name": "stderr",
     "output_type": "stream",
     "text": [
      "/home/shakhrayv/.virtualenvs/lenas_py3.7/lib/python3.7/site-packages/ipykernel_launcher.py:43: UserWarning: Implicit dimension choice for softmax has been deprecated. Change the call to include dim=X as an argument.\n",
      "/home/shakhrayv/.virtualenvs/lenas_py3.7/lib/python3.7/site-packages/ipykernel_launcher.py:30: UserWarning: Implicit dimension choice for softmax has been deprecated. Change the call to include dim=X as an argument.\n"
     ]
    },
    {
     "name": "stdout",
     "output_type": "stream",
     "text": [
      "\n",
      "Epoch 1 (5000 iteration) of 10 took 4771.819s\n",
      "  training loss (in-iteration): \t0.887201\n",
      "  validation loss (in-iteration): \t0.253390\n"
     ]
    },
    {
     "data": {
      "application/vnd.jupyter.widget-view+json": {
       "model_id": "b95c9f248866408682b00a25ac3f1c92",
       "version_major": 2,
       "version_minor": 0
      },
      "text/plain": [
       "HBox(children=(IntProgress(value=0, max=5000), HTML(value='')))"
      ]
     },
     "metadata": {},
     "output_type": "display_data"
    },
    {
     "name": "stdout",
     "output_type": "stream",
     "text": [
      "\n",
      "Epoch 2 (10000 iteration) of 10 took 4770.929s\n",
      "  training loss (in-iteration): \t0.222591\n",
      "  validation loss (in-iteration): \t0.188359\n"
     ]
    },
    {
     "data": {
      "application/vnd.jupyter.widget-view+json": {
       "model_id": "24aa27b86455454d88fc54f425dd576e",
       "version_major": 2,
       "version_minor": 0
      },
      "text/plain": [
       "HBox(children=(IntProgress(value=0, max=5000), HTML(value='')))"
      ]
     },
     "metadata": {},
     "output_type": "display_data"
    },
    {
     "name": "stdout",
     "output_type": "stream",
     "text": [
      "\n",
      "Epoch 3 (15000 iteration) of 10 took 4774.126s\n",
      "  training loss (in-iteration): \t0.159412\n",
      "  validation loss (in-iteration): \t0.123379\n"
     ]
    },
    {
     "data": {
      "application/vnd.jupyter.widget-view+json": {
       "model_id": "2ea0993b72e1453e906e7cbdd38f083c",
       "version_major": 2,
       "version_minor": 0
      },
      "text/plain": [
       "HBox(children=(IntProgress(value=0, max=5000), HTML(value='')))"
      ]
     },
     "metadata": {},
     "output_type": "display_data"
    },
    {
     "name": "stdout",
     "output_type": "stream",
     "text": [
      "\n",
      "Epoch 4 (20000 iteration) of 10 took 4771.100s\n",
      "  training loss (in-iteration): \t0.129754\n",
      "  validation loss (in-iteration): \t0.105433\n"
     ]
    },
    {
     "data": {
      "application/vnd.jupyter.widget-view+json": {
       "model_id": "81db110eb4ba4f66aa7289332830665c",
       "version_major": 2,
       "version_minor": 0
      },
      "text/plain": [
       "HBox(children=(IntProgress(value=0, max=5000), HTML(value='')))"
      ]
     },
     "metadata": {},
     "output_type": "display_data"
    },
    {
     "name": "stderr",
     "output_type": "stream",
     "text": [
      "IOPub message rate exceeded.\n",
      "The notebook server will temporarily stop sending output\n",
      "to the client in order to avoid crashing it.\n",
      "To change this limit, set the config variable\n",
      "`--NotebookApp.iopub_msg_rate_limit`.\n",
      "\n",
      "Current values:\n",
      "NotebookApp.iopub_msg_rate_limit=1000.0 (msgs/sec)\n",
      "NotebookApp.rate_limit_window=3.0 (secs)\n",
      "\n"
     ]
    },
    {
     "name": "stdout",
     "output_type": "stream",
     "text": [
      "\n",
      "Epoch 5 (25000 iteration) of 10 took 4774.012s\n",
      "  training loss (in-iteration): \t0.108788\n",
      "  validation loss (in-iteration): \t0.092166\n"
     ]
    },
    {
     "data": {
      "application/vnd.jupyter.widget-view+json": {
       "model_id": "a17cbc6263e8402292fe1e9cd3974f06",
       "version_major": 2,
       "version_minor": 0
      },
      "text/plain": [
       "HBox(children=(IntProgress(value=0, max=5000), HTML(value='')))"
      ]
     },
     "metadata": {},
     "output_type": "display_data"
    },
    {
     "name": "stdout",
     "output_type": "stream",
     "text": [
      "\n",
      "Epoch 6 (30000 iteration) of 10 took 4778.019s\n",
      "  training loss (in-iteration): \t0.096358\n",
      "  validation loss (in-iteration): \t0.097755\n"
     ]
    },
    {
     "data": {
      "application/vnd.jupyter.widget-view+json": {
       "model_id": "39a279f703894f0db878f63898c0c874",
       "version_major": 2,
       "version_minor": 0
      },
      "text/plain": [
       "HBox(children=(IntProgress(value=0, max=5000), HTML(value='')))"
      ]
     },
     "metadata": {},
     "output_type": "display_data"
    },
    {
     "name": "stderr",
     "output_type": "stream",
     "text": [
      "IOPub message rate exceeded.\n",
      "The notebook server will temporarily stop sending output\n",
      "to the client in order to avoid crashing it.\n",
      "To change this limit, set the config variable\n",
      "`--NotebookApp.iopub_msg_rate_limit`.\n",
      "\n",
      "Current values:\n",
      "NotebookApp.iopub_msg_rate_limit=1000.0 (msgs/sec)\n",
      "NotebookApp.rate_limit_window=3.0 (secs)\n",
      "\n"
     ]
    }
   ],
   "source": [
    "from tqdm import tqdm_notebook\n",
    "import time\n",
    "\n",
    "opt = torch.optim.Adam(model.parameters())\n",
    "\n",
    "epochs = 10\n",
    "steps_per_epoch = 5000\n",
    "\n",
    "train_loss = []\n",
    "val_loss = []\n",
    "\n",
    "\n",
    "batch_generator = get_batch_generator(data_aol, good_last_indeces_for_batch, batch_size=128)\n",
    "\n",
    "for epoch in range(epochs):\n",
    "    start_time = time.time()\n",
    "    for iteration in tqdm_notebook(range(steps_per_epoch)):\n",
    "        \n",
    "        batch_queries = next(batch_generator)\n",
    "        if not len(batch_queries):\n",
    "            continue\n",
    "            \n",
    "        loss = compute_loss(model, batch_queries, return_logits=False)\n",
    "        loss.backward()\n",
    "        opt.step()\n",
    "        opt.zero_grad()\n",
    "        \n",
    "        train_loss.append(loss.cpu().data.numpy())\n",
    "    \n",
    "\n",
    "    val_queries = get_val_batch_generator(data_aol_test, good_last_indeces_for_batch_test[:100000], \n",
    "                                          count_prev_good_indeces_limited_test,\n",
    "                                          batch_size=64, emb_size=300)\n",
    "    \n",
    "    count = 0\n",
    "    for batch_queries in val_queries:\n",
    "        if not len(batch_queries):\n",
    "            continue\n",
    "        loss = compute_loss(model, batch_queries, return_logits=False)\n",
    "        val_loss.append(loss.cpu().data.numpy())\n",
    "        count += 1\n",
    "    \n",
    "    print(\"Epoch {} ({} iteration) of {} took {:.3f}s\".format(\n",
    "        epoch + 1, (epoch + 1) * steps_per_epoch, epochs, time.time() - start_time))\n",
    "    print(\"  training loss (in-iteration): \\t{:.6f}\".format(\n",
    "        np.mean(train_loss[-steps_per_epoch :])))\n",
    "    print(\"  validation loss (in-iteration): \\t{:.6f}\".format(\n",
    "        np.mean(val_loss[-count:])))"
   ]
  },
  {
   "cell_type": "code",
   "execution_count": 25,
   "metadata": {},
   "outputs": [
    {
     "name": "stdout",
     "output_type": "stream",
     "text": [
      "Epoch 8 (40000 iteration) of 10 took 30688.004s\n",
      "  training loss (in-iteration): \t0.083708\n",
      "  validation loss (in-iteration): \t0.081585\n"
     ]
    }
   ],
   "source": [
    "print(\"Epoch {} ({} iteration) of {} took {:.3f}s\".format(\n",
    "    epoch + 1, (epoch + 1) * steps_per_epoch, epochs, time.time() - start_time))\n",
    "print(\"  training loss (in-iteration): \\t{:.6f}\".format(\n",
    "    np.mean(train_loss[-steps_per_epoch :])))\n",
    "print(\"  validation loss (in-iteration): \\t{:.6f}\".format(\n",
    "    np.mean(val_loss[-count:])))"
   ]
  },
  {
   "cell_type": "code",
   "execution_count": 25,
   "metadata": {},
   "outputs": [],
   "source": [
    "torch.save(model, 'trained_model_two_attentions_3.pth')\n",
    "\n",
    "# model = torch.load('trained_model_two_attentions_2.pth')\n",
    "# model.eval()"
   ]
  },
  {
   "cell_type": "code",
   "execution_count": 23,
   "metadata": {},
   "outputs": [
    {
     "data": {
      "application/vnd.jupyter.widget-view+json": {
       "model_id": "8c3bfbbacd7f4232b399d3e9ae9c154f",
       "version_major": 2,
       "version_minor": 0
      },
      "text/plain": [
       "HBox(children=(IntProgress(value=0, max=1000), HTML(value='')))"
      ]
     },
     "metadata": {},
     "output_type": "display_data"
    },
    {
     "name": "stderr",
     "output_type": "stream",
     "text": [
      "/home/shakhrayv/.virtualenvs/lenas_py3.7/lib/python3.7/site-packages/ipykernel_launcher.py:43: UserWarning: Implicit dimension choice for softmax has been deprecated. Change the call to include dim=X as an argument.\n",
      "/home/shakhrayv/.virtualenvs/lenas_py3.7/lib/python3.7/site-packages/ipykernel_launcher.py:30: UserWarning: Implicit dimension choice for softmax has been deprecated. Change the call to include dim=X as an argument.\n"
     ]
    },
    {
     "name": "stdout",
     "output_type": "stream",
     "text": [
      "Epoch 1 (1000 iteration) of 10 took 1029.561s\n",
      "  training loss (in-iteration): \t0.042329\n",
      "  validation loss (in-iteration): \t0.054550\n"
     ]
    },
    {
     "data": {
      "application/vnd.jupyter.widget-view+json": {
       "model_id": "55648556044f4557ab02f67b513aaddf",
       "version_major": 2,
       "version_minor": 0
      },
      "text/plain": [
       "HBox(children=(IntProgress(value=0, max=1000), HTML(value='')))"
      ]
     },
     "metadata": {},
     "output_type": "display_data"
    },
    {
     "name": "stdout",
     "output_type": "stream",
     "text": [
      "Epoch 2 (2000 iteration) of 10 took 1030.224s\n",
      "  training loss (in-iteration): \t0.041920\n",
      "  validation loss (in-iteration): \t0.053441\n"
     ]
    },
    {
     "data": {
      "application/vnd.jupyter.widget-view+json": {
       "model_id": "63e539dd1f4a4128aa79127776771077",
       "version_major": 2,
       "version_minor": 0
      },
      "text/plain": [
       "HBox(children=(IntProgress(value=0, max=1000), HTML(value='')))"
      ]
     },
     "metadata": {},
     "output_type": "display_data"
    },
    {
     "name": "stdout",
     "output_type": "stream",
     "text": [
      "Epoch 3 (3000 iteration) of 10 took 1049.521s\n",
      "  training loss (in-iteration): \t0.040988\n",
      "  validation loss (in-iteration): \t0.056013\n"
     ]
    },
    {
     "data": {
      "application/vnd.jupyter.widget-view+json": {
       "model_id": "409cf2d189794b3bb896a5c4b5e70261",
       "version_major": 2,
       "version_minor": 0
      },
      "text/plain": [
       "HBox(children=(IntProgress(value=0, max=1000), HTML(value='')))"
      ]
     },
     "metadata": {},
     "output_type": "display_data"
    },
    {
     "name": "stdout",
     "output_type": "stream",
     "text": [
      "Epoch 4 (4000 iteration) of 10 took 1030.356s\n",
      "  training loss (in-iteration): \t0.041912\n",
      "  validation loss (in-iteration): \t0.062443\n"
     ]
    },
    {
     "data": {
      "application/vnd.jupyter.widget-view+json": {
       "model_id": "6b656a60451d41fc83ba3ae963b04145",
       "version_major": 2,
       "version_minor": 0
      },
      "text/plain": [
       "HBox(children=(IntProgress(value=0, max=1000), HTML(value='')))"
      ]
     },
     "metadata": {},
     "output_type": "display_data"
    },
    {
     "name": "stdout",
     "output_type": "stream",
     "text": [
      "Epoch 5 (5000 iteration) of 10 took 1026.969s\n",
      "  training loss (in-iteration): \t0.043306\n",
      "  validation loss (in-iteration): \t0.056914\n"
     ]
    },
    {
     "data": {
      "application/vnd.jupyter.widget-view+json": {
       "model_id": "1a499f19b8d04f4ca1fb853d07d7f7aa",
       "version_major": 2,
       "version_minor": 0
      },
      "text/plain": [
       "HBox(children=(IntProgress(value=0, max=1000), HTML(value='')))"
      ]
     },
     "metadata": {},
     "output_type": "display_data"
    },
    {
     "name": "stdout",
     "output_type": "stream",
     "text": [
      "Epoch 6 (6000 iteration) of 10 took 1026.190s\n",
      "  training loss (in-iteration): \t0.041737\n",
      "  validation loss (in-iteration): \t0.055526\n"
     ]
    },
    {
     "data": {
      "application/vnd.jupyter.widget-view+json": {
       "model_id": "2c44298e99f84cc5b2d52d882f540987",
       "version_major": 2,
       "version_minor": 0
      },
      "text/plain": [
       "HBox(children=(IntProgress(value=0, max=1000), HTML(value='')))"
      ]
     },
     "metadata": {},
     "output_type": "display_data"
    },
    {
     "name": "stdout",
     "output_type": "stream",
     "text": [
      "Epoch 7 (7000 iteration) of 10 took 1028.156s\n",
      "  training loss (in-iteration): \t0.041424\n",
      "  validation loss (in-iteration): \t0.053422\n"
     ]
    },
    {
     "data": {
      "application/vnd.jupyter.widget-view+json": {
       "model_id": "1c4958d6f673497aa3c167a9e722f11d",
       "version_major": 2,
       "version_minor": 0
      },
      "text/plain": [
       "HBox(children=(IntProgress(value=0, max=1000), HTML(value='')))"
      ]
     },
     "metadata": {},
     "output_type": "display_data"
    },
    {
     "name": "stdout",
     "output_type": "stream",
     "text": [
      "Epoch 8 (8000 iteration) of 10 took 1030.074s\n",
      "  training loss (in-iteration): \t0.044824\n",
      "  validation loss (in-iteration): \t0.056381\n"
     ]
    },
    {
     "data": {
      "application/vnd.jupyter.widget-view+json": {
       "model_id": "4fac04d1b60042549071466940971cd9",
       "version_major": 2,
       "version_minor": 0
      },
      "text/plain": [
       "HBox(children=(IntProgress(value=0, max=1000), HTML(value='')))"
      ]
     },
     "metadata": {},
     "output_type": "display_data"
    },
    {
     "name": "stdout",
     "output_type": "stream",
     "text": [
      "Epoch 9 (9000 iteration) of 10 took 1029.488s\n",
      "  training loss (in-iteration): \t0.042994\n",
      "  validation loss (in-iteration): \t0.055892\n"
     ]
    },
    {
     "data": {
      "application/vnd.jupyter.widget-view+json": {
       "model_id": "49ececf38af1428db1186eb20416b351",
       "version_major": 2,
       "version_minor": 0
      },
      "text/plain": [
       "HBox(children=(IntProgress(value=0, max=1000), HTML(value='')))"
      ]
     },
     "metadata": {},
     "output_type": "display_data"
    },
    {
     "name": "stdout",
     "output_type": "stream",
     "text": [
      "Epoch 10 (10000 iteration) of 10 took 1028.987s\n",
      "  training loss (in-iteration): \t0.040209\n",
      "  validation loss (in-iteration): \t0.057697\n"
     ]
    }
   ],
   "source": [
    "# epochs = 10\n",
    "steps_per_epoch = 1000\n",
    "\n",
    "batch_generator = get_batch_generator(data_aol, good_last_indeces_for_batch, batch_size=128)\n",
    "\n",
    "for epoch in range(epochs):\n",
    "    start_time = time.time()\n",
    "    for iteration in tqdm_notebook(range(steps_per_epoch)):\n",
    "        \n",
    "        batch_queries = next(batch_generator)\n",
    "        if not len(batch_queries):\n",
    "            continue\n",
    "            \n",
    "        loss = compute_loss(model, batch_queries, return_logits=False)\n",
    "        loss.backward()\n",
    "        opt.step()\n",
    "        opt.zero_grad()\n",
    "        \n",
    "        train_loss.append(loss.cpu().data.numpy())\n",
    "    \n",
    "\n",
    "    val_queries = get_val_batch_generator(data_aol_test, good_last_indeces_for_batch_test[:100000], \n",
    "                                          count_prev_good_indeces_limited_test,\n",
    "                                          batch_size=64, emb_size=300)\n",
    "    \n",
    "    count = 0\n",
    "    for batch_queries in val_queries:\n",
    "        if not len(batch_queries):\n",
    "            continue\n",
    "        loss = compute_loss(model, batch_queries, return_logits=False)\n",
    "        val_loss.append(loss.cpu().data.numpy())\n",
    "        count += 1\n",
    "    \n",
    "    print(\"Epoch {} ({} iteration) of {} took {:.3f}s\".format(\n",
    "        epoch + 1, (epoch + 1) * steps_per_epoch, epochs, time.time() - start_time))\n",
    "    print(\"  training loss (in-iteration): \\t{:.6f}\".format(\n",
    "        np.mean(train_loss[-steps_per_epoch :])))\n",
    "    print(\"  validation loss (in-iteration): \\t{:.6f}\".format(\n",
    "        np.mean(val_loss[-count:])))"
   ]
  },
  {
   "cell_type": "markdown",
   "metadata": {},
   "source": [
    "Лосс на валидации не улучшился, даже стало немного хуже :("
   ]
  },
  {
   "cell_type": "markdown",
   "metadata": {},
   "source": [
    "# BeamSearch"
   ]
  },
  {
   "cell_type": "markdown",
   "metadata": {},
   "source": [
    "Напишем beam-search, который позволит не выбирать жадно наилучшее по вероятности следующее слово, а выбрать несколько наиболее вероятных предложений. Также позже в класс моделек был добавлен метод, позволяющий делать предсказание при помощи beam-search (по сути это небольшая модификация predict_beam_search, написанного здесь)."
   ]
  },
  {
   "cell_type": "code",
   "execution_count": 13,
   "metadata": {},
   "outputs": [],
   "source": [
    "class BeamNode(object):\n",
    "    def __init__(self, parent_node, cur_state, pred_word, cost):\n",
    "        super(BeamNode, self).__init__()\n",
    "        self.pred_word = pred_word\n",
    "        self.parent_node = parent_node # parent Node, None for root\n",
    "        self.cur_state = cur_state # recurrent layer hidden state\n",
    "        self.cum_cost = parent_node.cum_cost + cost if parent_node else cost # e.g. -log(p) of sequence up to current node (including)\n",
    "        self.length = 1 if parent_node is None else parent_node.length + 1\n",
    "        self._sequence = None\n",
    "    \n",
    "    def to_sequence(self):\n",
    "        # Return sequence of nodes from root to current node.\n",
    "        if not self._sequence:\n",
    "            self._sequence = []\n",
    "            current_node = self\n",
    "            while current_node:\n",
    "                self._sequence.append(current_node)\n",
    "                current_node = current_node.parent_node\n",
    "            self._sequence = self._sequence[::-1]\n",
    "        return self._sequence\n",
    "\n",
    "    def to_sequence_of_values(self):\n",
    "        return [int(s.pred_word.cpu().numpy()) for s in self.to_sequence()]\n",
    "    \n",
    "\n",
    "def predict_beam_search(self, previous_queries, current_words, beam_width=4, num_hypotheses=1):\n",
    "    batch_size = previous_queries.shape[0]\n",
    "    count_prev_words = current_words.shape[1]\n",
    "\n",
    "    queries_embeddings = []\n",
    "    for i in range(previous_queries.shape[1]):\n",
    "        queries_embeddings.append(self.query_level(previous_queries[:, i])[:,None])\n",
    "\n",
    "    queries_embeddings = torch.cat(queries_embeddings, dim=1)\n",
    "\n",
    "    session_states = rnn_loop_session(self.session_level, queries_embeddings)\n",
    "    session_last_state = session_states[-1]\n",
    "\n",
    "    hid_state = self.decoder.initial_state(session_last_state)\n",
    "\n",
    "    current_words = current_words.transpose(0,1)\n",
    "\n",
    "    #add bos in the begining\n",
    "    current_words = torch.cat([torch.ones((1, batch_size), dtype=torch.long).to(device) * bos_ix, current_words], dim=0)\n",
    "\n",
    "    all_logits = []\n",
    "    for x_t in current_words[:-1]:\n",
    "        hid_state, logits_next = self.decoder(self.query_level.embeddings(x_t), hid_state, \n",
    "                                              self.query_level.embeddings, queries_embeddings)\n",
    "    \n",
    "    \n",
    "    hypotheses_words = []\n",
    "    hypotheses = []\n",
    "    for i in range(batch_size):\n",
    "        words, nodes = beam_search(self, hid_state[i], current_words[-1,i], \n",
    "                                           queries_embeddings=queries_embeddings[i][None],\n",
    "                                           beam_width=beam_width, \n",
    "                                           num_hypotheses=num_hypotheses, \n",
    "                                           max_length=max_word_count - count_prev_words)\n",
    "        hypotheses_words.append(words)\n",
    "        hypotheses.append(nodes)\n",
    "        \n",
    "    return hypotheses_words, hypotheses\n",
    "\n",
    "\n",
    "def beam_search(self, init_state, init_word, queries_embeddings, beam_width=4, num_hypotheses=1, max_length=9):\n",
    "    next_fringe = [BeamNode(parent_node=None, cur_state=init_state, pred_word=init_word, cost=0.0)]\n",
    "    hypotheses = []\n",
    "    \n",
    "    for _ in range(max_length):\n",
    "\n",
    "        fringe = []\n",
    "        for node in next_fringe:\n",
    "            if node.pred_word == eos_ix:\n",
    "                hypotheses.append(node)\n",
    "            else:\n",
    "                fringe.append(node)\n",
    "\n",
    "        if not fringe:\n",
    "            break\n",
    "        preds_words = torch.cat([node.pred_word[None] for node in fringe], dim=0)\n",
    "\n",
    "        hid_states = torch.stack([node.cur_state for node in fringe], dim=0)\n",
    "        \n",
    "        hid_state, logits_next = self.decoder(self.query_level.embeddings(preds_words), hid_states, \n",
    "                                              self.query_level.embeddings, \n",
    "                                              queries_embeddings.repeat(hid_states.shape[0],1,1))\n",
    "        \n",
    "        log_probs = nn.LogSoftmax()(logits_next)\n",
    "        log_probs_next, words_next = log_probs.topk(beam_width, dim=1, sorted=False)\n",
    "\n",
    "        next_fringe = []\n",
    "\n",
    "        for log_probs_next_n, words_next_n, hid_state_n, node_prev in zip(log_probs_next, words_next, \n",
    "                                                                          hid_state, fringe):\n",
    "\n",
    "            for word, log_prob in zip(words_next_n, log_probs_next_n):\n",
    "                new_node = BeamNode(parent_node=node_prev, cur_state=hid_state_n, \n",
    "                                    pred_word=word, cost=-log_prob)\n",
    "                if new_node.length == max_length + 1:\n",
    "                    hypotheses.append(new_node)\n",
    "                next_fringe.append(new_node)\n",
    "\n",
    "\n",
    "        next_fringe = sorted(next_fringe, key=lambda node: node.cum_cost)[:beam_width] # may move this into loop to save memory\n",
    "\n",
    "    hypotheses.sort(key=lambda node: node.cum_cost)\n",
    "    \n",
    "    return [end_node.to_sequence_of_values() for end_node in hypotheses[:num_hypotheses]], [end_node.to_sequence() for end_node in hypotheses[:num_hypotheses]]"
   ]
  },
  {
   "cell_type": "markdown",
   "metadata": {},
   "source": [
    "**Делаем предсказние с помощью beam-search-а**"
   ]
  },
  {
   "cell_type": "code",
   "execution_count": 20,
   "metadata": {
    "scrolled": true
   },
   "outputs": [
    {
     "name": "stderr",
     "output_type": "stream",
     "text": [
      "/home/shakhrayv/.virtualenvs/lenas_py3.7/lib/python3.7/site-packages/ipykernel_launcher.py:41: UserWarning: Implicit dimension choice for softmax has been deprecated. Change the call to include dim=X as an argument.\n"
     ]
    }
   ],
   "source": [
    "val_queries = get_data_for_prediction(data_aol_test, good_last_indeces_for_batch_test[:10000], \n",
    "                                       count_prev_good_indeces_limited_test, count_words=1, \n",
    "                                       batch_size=32, shuffle=False)\n",
    "\n",
    "prev_queries, next_queries, answers_queries = next(val_queries)\n",
    "prev_queries = torch.LongTensor(prev_queries).to(device)\n",
    "next_queries = torch.LongTensor(next_queries).to(device)\n",
    "hypotheses, hyp_node = predict_beam_search(model, prev_queries, next_queries, beam_width=5, num_hypotheses=5)\n"
   ]
  },
  {
   "cell_type": "code",
   "execution_count": 233,
   "metadata": {},
   "outputs": [
    {
     "name": "stdout",
     "output_type": "stream",
     "text": [
      "['PAD', 'PAD', 'PAD', 'PAD', 'PAD', 'PAD', 'PAD', 'PAD', 'PAD']\n",
      "['PAD', 'PAD', 'PAD', 'PAD', 'PAD', 'PAD', 'PAD', 'PAD', 'PAD']\n",
      "['PAD', 'PAD', 'PAD', 'PAD', 'PAD', 'PAD', 'PAD', 'PAD', 'PAD']\n",
      "['PAD', 'PAD', 'PAD', 'PAD', 'PAD', 'PAD', 'PAD', 'PAD', 'PAD']\n",
      "['fort', 'worth', 'tx', 'irving', 'tx', 'area', 'hotels', 'EOS', 'PAD']\n"
     ]
    }
   ],
   "source": [
    "iii = 33\n",
    "\n",
    "for j in range(5):\n",
    "    print([indeces_to_words[word] for word in prev_queries.cpu().numpy()[iii][j]])"
   ]
  },
  {
   "cell_type": "code",
   "execution_count": 234,
   "metadata": {},
   "outputs": [
    {
     "name": "stdout",
     "output_type": "stream",
     "text": [
      "['fort', 'worth', 'tx', 'irving', 'tx', 'area', 'hotels', 'EOS']\n",
      "['fort', 'new', 'tx', 'irving', 'tx', 'area', 'hotels', 'EOS']\n",
      "['fort', 'tx', 'worth', 'mu@@', 'tx', 'area', 'hotels', 'EOS']\n",
      "['fort', '18@@', 'tx', 'irving', 'tx', 'area', 'hotels', 'EOS']\n",
      "['fort', 'spac@@', 'tx', 'irving', 'tx', 'area', 'hotels', 'EOS']\n",
      "fort worth tx irving tx hotels\n"
     ]
    }
   ],
   "source": [
    "for i in range(5):\n",
    "    print([indeces_to_words[next_queries.cpu().numpy()[iii][0]]] + [indeces_to_words[ind] for ind in np.array(hypotheses)[iii][i]][1:])\n",
    "print(answers_queries[iii])"
   ]
  },
  {
   "cell_type": "markdown",
   "metadata": {},
   "source": [
    "# Итоговая лучшая модель с одним self-attention (без attention-а в декодере)"
   ]
  },
  {
   "cell_type": "markdown",
   "metadata": {},
   "source": [
    "Самой хорошей по качеству оказалась вторая модель."
   ]
  },
  {
   "cell_type": "code",
   "execution_count": 14,
   "metadata": {
    "scrolled": true
   },
   "outputs": [
    {
     "data": {
      "text/plain": [
       "ModelAttention(\n",
       "  (query_level): QueryLevelRNN(\n",
       "    (embeddings): Embedding(40157, 200)\n",
       "    (rnn): GRU(200, 1000)\n",
       "  )\n",
       "  (session_level): SessionLevelRNNCell(\n",
       "    (rnn_cell): GRUCell(1000, 1500)\n",
       "    (linear_attention): Linear(in_features=2500, out_features=500, bias=True)\n",
       "    (v_attention): Linear(in_features=500, out_features=1, bias=False)\n",
       "  )\n",
       "  (decoder): DecoderCell(\n",
       "    (init_transform): Linear(in_features=1500, out_features=1000, bias=True)\n",
       "    (gru_cell): GRUCell(200, 1000)\n",
       "    (transform_state): Linear(in_features=1000, out_features=200, bias=True)\n",
       "    (transform_word): Linear(in_features=200, out_features=200, bias=False)\n",
       "  )\n",
       ")"
      ]
     },
     "execution_count": 14,
     "metadata": {},
     "output_type": "execute_result"
    }
   ],
   "source": [
    "device = torch.device('cuda' if torch.cuda.is_available() else 'cpu')\n",
    "model = ModelAttention()\n",
    "model.load_state_dict(torch.load('trained_model_self_attention_0.025158_dict.pth'))\n",
    "model.to(device)"
   ]
  },
  {
   "cell_type": "markdown",
   "metadata": {},
   "source": [
    "Посмотрим на предсказания данной модели на тестовой выборки. Для этого будем рассматривать минимум 2 предыдущих запроса сессии и пытаться предсказать продолжение текущего запроса, если уже написано ровно 1 слово. "
   ]
  },
  {
   "cell_type": "code",
   "execution_count": 51,
   "metadata": {},
   "outputs": [
    {
     "name": "stderr",
     "output_type": "stream",
     "text": [
      "/home/shakhrayv/.virtualenvs/lenas_py3.7/lib/python3.7/site-packages/ipykernel_launcher.py:41: UserWarning: Implicit dimension choice for softmax has been deprecated. Change the call to include dim=X as an argument.\n",
      "/home/shakhrayv/.virtualenvs/lenas_py3.7/lib/python3.7/site-packages/ipykernel_launcher.py:129: UserWarning: Implicit dimension choice for log_softmax has been deprecated. Change the call to include dim=X as an argument.\n"
     ]
    },
    {
     "name": "stdout",
     "output_type": "stream",
     "text": [
      "CPU times: user 642 ms, sys: 75.7 ms, total: 718 ms\n",
      "Wall time: 716 ms\n"
     ]
    }
   ],
   "source": [
    "%%time\n",
    "\n",
    "# returns generator\n",
    "val_queries = get_data_for_prediction(data_aol_test, good_last_indeces_for_batch_test[:10000], \n",
    "                                       count_prev_good_indeces_limited_test, count_words=1, \n",
    "                                       batch_size=64, shuffle=False, min_count_prev_queries=2)\n",
    "\n",
    "prev_queries, next_queries, answers_queries = next(val_queries)\n",
    "prev_queries = torch.LongTensor(prev_queries).to(device)\n",
    "next_queries = torch.LongTensor(next_queries).to(device)\n",
    "hypotheses, hyp_node = model.predict_beam_search(prev_queries, next_queries, beam_width=5, num_hypotheses=5)\n"
   ]
  },
  {
   "cell_type": "markdown",
   "metadata": {},
   "source": [
    "# Примеры"
   ]
  },
  {
   "cell_type": "markdown",
   "metadata": {},
   "source": [
    "Смотрим на примеры предсказаний. Замечу, что все PREDICTION-ы начинаются на одно и то же слово, так как я предсказываю продолжение запроса, уже имея первой слово. ANSWER - настоящий запрос, который предсказываем. Также замечу, что PREDICTION это целых 5 отранжированных запросов, полученных при помощи beamsearch (можно и не 5 выбрать)."
   ]
  },
  {
   "cell_type": "code",
   "execution_count": 18,
   "metadata": {},
   "outputs": [
    {
     "name": "stdout",
     "output_type": "stream",
     "text": [
      "     PREVIOUS QUERIES:\n",
      "broadway . vera . org \n",
      "broadway . vera . org \n",
      "vera . org \n",
      "\n",
      "     PREDICTION:\n",
      "broadway vera . org\n",
      "broadway vera\n",
      "broadway . org\n",
      "broadway . vera . org\n",
      "broadway pa@@ vera\n",
      "\n",
      "     ANSWER:\n",
      "broadway . vera . org\n"
     ]
    }
   ],
   "source": [
    "iii = 0\n",
    "print('     PREVIOUS QUERIES:')\n",
    "for j in range(5):\n",
    "    if prev_queries.cpu().numpy()[iii][j][0] != pad_ix:\n",
    "        q = np.array([indeces_to_words[word] for word in prev_queries.cpu().numpy()[iii][j]])\n",
    "        q = q[q != 'PAD']\n",
    "        print(' '.join(q)[:-3])\n",
    "    \n",
    "print('\\n     PREDICTION:')\n",
    "for i in range(5):\n",
    "    print(' '.join([indeces_to_words[next_queries.cpu().numpy()[iii][0]]] + [indeces_to_words[ind] for ind in np.array(hypotheses)[iii][i]][1:])[:-3])\n",
    "print(\"\\n     ANSWER:\")\n",
    "print(answers_queries[iii])"
   ]
  },
  {
   "cell_type": "code",
   "execution_count": 48,
   "metadata": {},
   "outputs": [
    {
     "name": "stdout",
     "output_type": "stream",
     "text": [
      "     PREVIOUS QUERIES:\n",
      "bath and body works \n",
      "edible oils \n",
      "edible oils \n",
      "\n",
      "     PREDICTION:\n",
      "body edible oils \n",
      "body oils \n",
      "body measure \n",
      "body oil expenses \n",
      "body and bath \n",
      "\n",
      "     ANSWER:\n",
      "body oils\n"
     ]
    }
   ],
   "source": [
    "iii = 2\n",
    "print('     PREVIOUS QUERIES:')\n",
    "for j in range(5):\n",
    "    if prev_queries.cpu().numpy()[iii][j][0] != pad_ix:\n",
    "        q = np.array([indeces_to_words[word] for word in prev_queries.cpu().numpy()[iii][j]])\n",
    "        q = q[q != 'PAD']\n",
    "        print(' '.join(q)[:-3])\n",
    "    \n",
    "print('\\n     PREDICTION:')\n",
    "for i in range(5):\n",
    "    print(' '.join([indeces_to_words[next_queries.cpu().numpy()[iii][0]]] + [indeces_to_words[ind] for ind in np.array(hypotheses)[iii][i]][1:])[:-3])\n",
    "print(\"\\n     ANSWER:\")\n",
    "print(answers_queries[iii])"
   ]
  },
  {
   "cell_type": "code",
   "execution_count": 37,
   "metadata": {},
   "outputs": [
    {
     "name": "stdout",
     "output_type": "stream",
     "text": [
      "     PREVIOUS QUERIES:\n",
      "free clip art \n",
      "free clip art \n",
      "free clip art \n",
      "sunset pictures \n",
      "sunset pictures \n",
      "\n",
      "     PREDICTION:\n",
      "black sunset pictures \n",
      "black sunset \n",
      "black sunset pics \n",
      "black art \n",
      "black sunset photos \n",
      "\n",
      "     ANSWER:\n",
      "black and white sunset photos\n"
     ]
    }
   ],
   "source": [
    "iii = 4\n",
    "print('     PREVIOUS QUERIES:')\n",
    "for j in range(5):\n",
    "    if prev_queries.cpu().numpy()[iii][j][0] != pad_ix:\n",
    "        q = np.array([indeces_to_words[word] for word in prev_queries.cpu().numpy()[iii][j]])\n",
    "        q = q[q != 'PAD']\n",
    "        print(' '.join(q)[:-3])\n",
    "    \n",
    "print('\\n     PREDICTION:')\n",
    "for i in range(5):\n",
    "    print(' '.join([indeces_to_words[next_queries.cpu().numpy()[iii][0]]] + [indeces_to_words[ind] for ind in np.array(hypotheses)[iii][i]][1:])[:-3])\n",
    "print(\"\\n     ANSWER:\")\n",
    "print(answers_queries[iii])"
   ]
  },
  {
   "cell_type": "code",
   "execution_count": 41,
   "metadata": {},
   "outputs": [
    {
     "name": "stdout",
     "output_type": "stream",
     "text": [
      "     PREVIOUS QUERIES:\n",
      "romantic photos \n",
      "romantic photos \n",
      "\n",
      "     PREDICTION:\n",
      "pictures romantic \n",
      "pictures romantic photos \n",
      "pictures romantic love \n",
      "pictures antonio \n",
      "pictures banks \n",
      "\n",
      "     ANSWER:\n",
      "pictures of fire\n"
     ]
    }
   ],
   "source": [
    "iii = 6\n",
    "print('     PREVIOUS QUERIES:')\n",
    "for j in range(3):\n",
    "    if prev_queries.cpu().numpy()[iii][j][0] != pad_ix:\n",
    "        q = np.array([indeces_to_words[word] for word in prev_queries.cpu().numpy()[iii][j]])\n",
    "        q = q[q != 'PAD']\n",
    "        print(' '.join(q)[:-3])\n",
    "    \n",
    "print('\\n     PREDICTION:')\n",
    "for i in range(5):\n",
    "    print(' '.join([indeces_to_words[next_queries.cpu().numpy()[iii][0]]] + [indeces_to_words[ind] for ind in np.array(hypotheses)[iii][i]][1:])[:-3])\n",
    "print(\"\\n     ANSWER:\")\n",
    "print(answers_queries[iii])"
   ]
  },
  {
   "cell_type": "code",
   "execution_count": 22,
   "metadata": {},
   "outputs": [
    {
     "name": "stdout",
     "output_type": "stream",
     "text": [
      "     PREVIOUS QUERIES:\n",
      "cbc companies \n",
      "cbc companies \n",
      "cbc companies \n",
      "national real estate settlement services \n",
      "national real estate settlement services \n",
      "\n",
      "     PREDICTION:\n",
      "pennsylvania real estate settlement services \n",
      "pennsylvania cbc companies \n",
      "pennsylvania real cbc companies \n",
      "pennsylvania real myspace settlement services\n",
      "pennsylvania real companies \n",
      "\n",
      "     ANSWER:\n",
      "pennsylvania real estate settlement services\n"
     ]
    }
   ],
   "source": [
    "iii = 12\n",
    "print('     PREVIOUS QUERIES:')\n",
    "for j in range(5):\n",
    "    if prev_queries.cpu().numpy()[iii][j][0] != pad_ix:\n",
    "        q = np.array([indeces_to_words[word] for word in prev_queries.cpu().numpy()[iii][j]])\n",
    "        q = q[q != 'PAD']\n",
    "        print(' '.join(q)[:-3])\n",
    "    \n",
    "print('\\n     PREDICTION:')\n",
    "for i in range(5):\n",
    "    print(' '.join([indeces_to_words[next_queries.cpu().numpy()[iii][0]]] + [indeces_to_words[ind] for ind in np.array(hypotheses)[iii][i]][1:])[:-3])\n",
    "print(\"\\n     ANSWER:\")\n",
    "print(answers_queries[iii])"
   ]
  },
  {
   "cell_type": "code",
   "execution_count": 54,
   "metadata": {},
   "outputs": [
    {
     "name": "stdout",
     "output_type": "stream",
     "text": [
      "     PREVIOUS QUERIES:\n",
      "live oak florida \n",
      "live oak florida \n",
      "live oak florida \n",
      "\n",
      "     PREDICTION:\n",
      "university live florida \n",
      "university oak florida \n",
      "university live oak \n",
      "university live oak florida  \n",
      "university murals florida \n",
      "\n",
      "     ANSWER:\n",
      "university of florida\n"
     ]
    }
   ],
   "source": [
    "iii = 21\n",
    "print('     PREVIOUS QUERIES:')\n",
    "for j in range(5):\n",
    "    if prev_queries.cpu().numpy()[iii][j][0] != pad_ix:\n",
    "        q = np.array([indeces_to_words[word] for word in prev_queries.cpu().numpy()[iii][j]])\n",
    "        q = q[q != 'PAD']\n",
    "        print(' '.join(q)[:-3])\n",
    "    \n",
    "print('\\n     PREDICTION:')\n",
    "for i in range(5):\n",
    "    print(' '.join([indeces_to_words[next_queries.cpu().numpy()[iii][0]]] + [indeces_to_words[ind] for ind in np.array(hypotheses)[iii][i]][1:])[:-3])\n",
    "print(\"\\n     ANSWER:\")\n",
    "print(answers_queries[iii])"
   ]
  },
  {
   "cell_type": "code",
   "execution_count": 28,
   "metadata": {},
   "outputs": [
    {
     "name": "stdout",
     "output_type": "stream",
     "text": [
      "     PREVIOUS QUERIES:\n",
      "movie theaters peru il \n",
      "peru illinois cen@@ ima \n",
      "peru illinois cinema \n",
      "\n",
      "     PREDICTION:\n",
      "peru illinois cinema \n",
      "peru illinois cinema phone \n",
      "peru illinois movie theaters \n",
      "peru illinois theaters \n",
      "peru theaters \n",
      "\n",
      "     ANSWER:\n",
      "peru illinois movie theater show@@ ings\n"
     ]
    }
   ],
   "source": [
    "iii = 22\n",
    "print('     PREVIOUS QUERIES:')\n",
    "for j in range(5):\n",
    "    if prev_queries.cpu().numpy()[iii][j][0] != pad_ix:\n",
    "        q = np.array([indeces_to_words[word] for word in prev_queries.cpu().numpy()[iii][j]])\n",
    "        q = q[q != 'PAD']\n",
    "        print(' '.join(q)[:-3])\n",
    "    \n",
    "print('\\n     PREDICTION:')\n",
    "for i in range(5):\n",
    "    print(' '.join([indeces_to_words[next_queries.cpu().numpy()[iii][0]]] + [indeces_to_words[ind] for ind in np.array(hypotheses)[iii][i]][1:])[:-3])\n",
    "print(\"\\n     ANSWER:\")\n",
    "print(answers_queries[iii])"
   ]
  },
  {
   "cell_type": "code",
   "execution_count": 32,
   "metadata": {},
   "outputs": [
    {
     "name": "stdout",
     "output_type": "stream",
     "text": [
      "     PREVIOUS QUERIES:\n",
      "jesse mccartney \n",
      "jesse mccartney \n",
      "\n",
      "     PREDICTION:\n",
      "pop@@ star mccartney \n",
      "pop@@ star jesse mccartney \n",
      "pop@@ mccartney\n",
      "pop@@ jesse mccartney \n",
      "pop@@ spiral mccartney\n",
      "\n",
      "     ANSWER:\n",
      "pop@@ star magazine . com\n"
     ]
    }
   ],
   "source": [
    "iii = 23\n",
    "print('     PREVIOUS QUERIES:')\n",
    "for j in range(2):\n",
    "    if prev_queries.cpu().numpy()[iii][j][0] != pad_ix:\n",
    "        q = np.array([indeces_to_words[word] for word in prev_queries.cpu().numpy()[iii][j]])\n",
    "        q = q[q != 'PAD']\n",
    "        print(' '.join(q)[:-3])\n",
    "    \n",
    "print('\\n     PREDICTION:')\n",
    "for i in range(5):\n",
    "    print(' '.join([indeces_to_words[next_queries.cpu().numpy()[iii][0]]] + [indeces_to_words[ind] for ind in np.array(hypotheses)[iii][i]][1:])[:-3])\n",
    "print(\"\\n     ANSWER:\")\n",
    "print(answers_queries[iii])"
   ]
  },
  {
   "cell_type": "code",
   "execution_count": 56,
   "metadata": {},
   "outputs": [
    {
     "name": "stdout",
     "output_type": "stream",
     "text": [
      "     PREVIOUS QUERIES:\n",
      "dry counties in florida \n",
      "williston florida \n",
      "williston florida \n",
      "nature coast hospital inc swb \n",
      "\n",
      "     PREDICTION:\n",
      "palatka williston florida\n",
      "palatka nature coast\n",
      "palatka nature and inc swb \n",
      "palatka in florida \n",
      "palatka nature coast hospital inc swb \n",
      "\n",
      "     ANSWER:\n",
      "palatka florida\n"
     ]
    }
   ],
   "source": [
    "iii = 26\n",
    "print('     PREVIOUS QUERIES:')\n",
    "for j in range(5):\n",
    "    if prev_queries.cpu().numpy()[iii][j][0] != pad_ix:\n",
    "        q = np.array([indeces_to_words[word] for word in prev_queries.cpu().numpy()[iii][j]])\n",
    "        q = q[q != 'PAD']\n",
    "        print(' '.join(q)[:-3])\n",
    "    \n",
    "print('\\n     PREDICTION:')\n",
    "for i in range(5):\n",
    "    print(' '.join([indeces_to_words[next_queries.cpu().numpy()[iii][0]]] + [indeces_to_words[ind] for ind in np.array(hypotheses)[iii][i]][1:])[:-3])\n",
    "print(\"\\n     ANSWER:\")\n",
    "print(answers_queries[iii])"
   ]
  },
  {
   "cell_type": "code",
   "execution_count": 59,
   "metadata": {},
   "outputs": [
    {
     "name": "stdout",
     "output_type": "stream",
     "text": [
      "     PREVIOUS QUERIES:\n",
      "williston florida \n",
      "williston florida \n",
      "nature coast hospital inc swb \n",
      "palatka florida \n",
      "florida counties map \n",
      "\n",
      "     PREDICTION:\n",
      "lake florida \n",
      "lake florida map \n",
      "lake palatka \n",
      "lake coast \n",
      "lake florida counties map \n",
      "\n",
      "     ANSWER:\n",
      "lake city florida\n"
     ]
    }
   ],
   "source": [
    "iii = 28\n",
    "print('     PREVIOUS QUERIES:')\n",
    "for j in range(5):\n",
    "    if prev_queries.cpu().numpy()[iii][j][0] != pad_ix:\n",
    "        q = np.array([indeces_to_words[word] for word in prev_queries.cpu().numpy()[iii][j]])\n",
    "        q = q[q != 'PAD']\n",
    "        print(' '.join(q)[:-3])\n",
    "    \n",
    "print('\\n     PREDICTION:')\n",
    "for i in range(5):\n",
    "    print(' '.join([indeces_to_words[next_queries.cpu().numpy()[iii][0]]] + [indeces_to_words[ind] for ind in np.array(hypotheses)[iii][i]][1:])[:-3])\n",
    "print(\"\\n     ANSWER:\")\n",
    "print(answers_queries[iii])"
   ]
  },
  {
   "cell_type": "code",
   "execution_count": null,
   "metadata": {},
   "outputs": [],
   "source": []
  },
  {
   "cell_type": "code",
   "execution_count": null,
   "metadata": {},
   "outputs": [],
   "source": []
  },
  {
   "cell_type": "code",
   "execution_count": null,
   "metadata": {},
   "outputs": [],
   "source": []
  },
  {
   "cell_type": "code",
   "execution_count": null,
   "metadata": {},
   "outputs": [],
   "source": []
  },
  {
   "cell_type": "code",
   "execution_count": null,
   "metadata": {},
   "outputs": [],
   "source": []
  },
  {
   "cell_type": "code",
   "execution_count": null,
   "metadata": {},
   "outputs": [],
   "source": []
  },
  {
   "cell_type": "markdown",
   "metadata": {},
   "source": [
    "Посчитаем метрику : перплексию"
   ]
  },
  {
   "cell_type": "code",
   "execution_count": 66,
   "metadata": {},
   "outputs": [],
   "source": [
    "def compute_perplexity(model, queries, vocab_len=len(all_words), return_logits=False, **flags):\n",
    "    targets = torch.LongTensor(queries).to(device)\n",
    "    queries = torch.LongTensor(queries).to(device)\n",
    "    batchs_size, queries_count, time = queries.shape\n",
    "    \n",
    "        \n",
    "    targets = torch.cat((targets, torch.ones(batchs_size, queries_count, 1, dtype=torch.long).to(device) * eos_ix), dim=2)\n",
    "    #delete first query (we won't predict it)\n",
    "    targets = targets[:,1:].contiguous().view(-1,)\n",
    "    logits = model(queries).contiguous().view(-1, vocab_len)\n",
    "    \n",
    "#     log_probs = nn.LogSoftmax()(logits)\n",
    "#     log_probs = log_probs[targets != pad_ix]\n",
    "#     targets = targets[targets != pad_ix]\n",
    "#     arange = torch.arange(log_probs.shape[0])\n",
    "#     perplexity = torch.exp(-torch.mean(log_probs[arange, targets])).cpu().detach().numpy()\n",
    "    return torch.exp(criterion(logits, targets))\n",
    "    "
   ]
  },
  {
   "cell_type": "code",
   "execution_count": 77,
   "metadata": {},
   "outputs": [
    {
     "name": "stderr",
     "output_type": "stream",
     "text": [
      "/home/shakhrayv/.virtualenvs/lenas_py3.7/lib/python3.7/site-packages/ipykernel_launcher.py:41: UserWarning: Implicit dimension choice for softmax has been deprecated. Change the call to include dim=X as an argument.\n"
     ]
    },
    {
     "name": "stdout",
     "output_type": "stream",
     "text": [
      "1.0357462439100795\n"
     ]
    }
   ],
   "source": [
    "val_queries = get_val_batch_generator(data_aol_test, good_last_indeces_for_batch_test, \n",
    "                                          count_prev_good_indeces_limited_test,\n",
    "                                          batch_size=64, emb_size=300)\n",
    "    \n",
    "count = 0\n",
    "mean_perplexity = 0\n",
    "for batch_queries in val_queries:\n",
    "    if not len(batch_queries):\n",
    "        continue\n",
    "    perplexity = compute_perplexity(model, batch_queries, return_logits=False)\n",
    "    mean_perplexity += (perplexity.cpu().data.numpy())\n",
    "    count += 1\n",
    "    \n",
    "print(mean_perplexity / count)"
   ]
  },
  {
   "cell_type": "markdown",
   "metadata": {},
   "source": [
    "Сравним перплексию с обычными n-gram-ыми моделями и n-gram-ой моделью с сглаживанием Кнейзера-Нея."
   ]
  },
  {
   "cell_type": "code",
   "execution_count": 80,
   "metadata": {},
   "outputs": [
    {
     "data": {
      "text/html": [
       "<div>\n",
       "<style scoped>\n",
       "    .dataframe tbody tr th:only-of-type {\n",
       "        vertical-align: middle;\n",
       "    }\n",
       "\n",
       "    .dataframe tbody tr th {\n",
       "        vertical-align: top;\n",
       "    }\n",
       "\n",
       "    .dataframe thead th {\n",
       "        text-align: right;\n",
       "    }\n",
       "</style>\n",
       "<table border=\"1\" class=\"dataframe\">\n",
       "  <thead>\n",
       "    <tr style=\"text-align: right;\">\n",
       "      <th></th>\n",
       "      <th>model</th>\n",
       "      <th>perplexity</th>\n",
       "    </tr>\n",
       "  </thead>\n",
       "  <tbody>\n",
       "    <tr>\n",
       "      <th>0</th>\n",
       "      <td>n = 2</td>\n",
       "      <td>2.327883e+08</td>\n",
       "    </tr>\n",
       "    <tr>\n",
       "      <th>1</th>\n",
       "      <td>n = 3</td>\n",
       "      <td>7.629578e+14</td>\n",
       "    </tr>\n",
       "    <tr>\n",
       "      <th>2</th>\n",
       "      <td>Kneser-Ney smooting, n = 3</td>\n",
       "      <td>1.892584e+05</td>\n",
       "    </tr>\n",
       "    <tr>\n",
       "      <th>3</th>\n",
       "      <td>Neural model with self-attention</td>\n",
       "      <td>1.035746e+00</td>\n",
       "    </tr>\n",
       "  </tbody>\n",
       "</table>\n",
       "</div>"
      ],
      "text/plain": [
       "                              model    perplexity\n",
       "0                             n = 2  2.327883e+08\n",
       "1                             n = 3  7.629578e+14\n",
       "2        Kneser-Ney smooting, n = 3  1.892584e+05\n",
       "3  Neural model with self-attention  1.035746e+00"
      ]
     },
     "execution_count": 80,
     "metadata": {},
     "output_type": "execute_result"
    }
   ],
   "source": [
    "df = pd.DataFrame()\n",
    "df['model'] = ['n = 2', 'n = 3', 'Kneser-Ney smooting, n = 3', 'Neural model with self-attention']\n",
    "df['perplexity'] = [232788250.5037612, 762957792024751.1, 189258.402469, mean_perplexity / count]\n",
    "\n",
    "df.head()"
   ]
  },
  {
   "cell_type": "markdown",
   "metadata": {},
   "source": [
    "# --------------------------------------------------------------------------------------------"
   ]
  },
  {
   "cell_type": "markdown",
   "metadata": {},
   "source": [
    "#### TO-DO \n",
    "Find way to count MRR metric"
   ]
  },
  {
   "cell_type": "code",
   "execution_count": null,
   "metadata": {},
   "outputs": [],
   "source": []
  },
  {
   "cell_type": "code",
   "execution_count": null,
   "metadata": {},
   "outputs": [],
   "source": []
  },
  {
   "cell_type": "code",
   "execution_count": null,
   "metadata": {},
   "outputs": [],
   "source": []
  },
  {
   "cell_type": "code",
   "execution_count": null,
   "metadata": {},
   "outputs": [],
   "source": []
  },
  {
   "cell_type": "code",
   "execution_count": null,
   "metadata": {},
   "outputs": [],
   "source": []
  },
  {
   "cell_type": "code",
   "execution_count": null,
   "metadata": {},
   "outputs": [],
   "source": []
  },
  {
   "cell_type": "code",
   "execution_count": null,
   "metadata": {},
   "outputs": [],
   "source": []
  },
  {
   "cell_type": "code",
   "execution_count": null,
   "metadata": {},
   "outputs": [],
   "source": []
  },
  {
   "cell_type": "code",
   "execution_count": null,
   "metadata": {},
   "outputs": [],
   "source": []
  },
  {
   "cell_type": "code",
   "execution_count": null,
   "metadata": {},
   "outputs": [],
   "source": []
  },
  {
   "cell_type": "code",
   "execution_count": null,
   "metadata": {},
   "outputs": [],
   "source": []
  },
  {
   "cell_type": "code",
   "execution_count": null,
   "metadata": {},
   "outputs": [],
   "source": []
  },
  {
   "cell_type": "code",
   "execution_count": null,
   "metadata": {},
   "outputs": [],
   "source": []
  },
  {
   "cell_type": "code",
   "execution_count": null,
   "metadata": {},
   "outputs": [],
   "source": []
  },
  {
   "cell_type": "code",
   "execution_count": null,
   "metadata": {},
   "outputs": [],
   "source": []
  },
  {
   "cell_type": "code",
   "execution_count": null,
   "metadata": {},
   "outputs": [],
   "source": []
  },
  {
   "cell_type": "code",
   "execution_count": null,
   "metadata": {},
   "outputs": [],
   "source": []
  },
  {
   "cell_type": "code",
   "execution_count": null,
   "metadata": {},
   "outputs": [],
   "source": []
  },
  {
   "cell_type": "code",
   "execution_count": null,
   "metadata": {},
   "outputs": [],
   "source": []
  },
  {
   "cell_type": "code",
   "execution_count": null,
   "metadata": {},
   "outputs": [],
   "source": []
  },
  {
   "cell_type": "code",
   "execution_count": null,
   "metadata": {},
   "outputs": [],
   "source": []
  },
  {
   "cell_type": "markdown",
   "metadata": {},
   "source": [
    "# Model in Tensorflow\n",
    "Попытки написать модель на tensorflow. "
   ]
  },
  {
   "cell_type": "code",
   "execution_count": null,
   "metadata": {},
   "outputs": [],
   "source": [
    "def compute_logits(model, queries, vocab_emb_matrix, **flags):\n",
    "    \"\"\"\n",
    "    :param inp: input tokens matrix, int32[batch, time]\n",
    "    :param out: reference tokens matrix, int32[batch, time]\n",
    "    :returns: logits of shape [batch, time, voc_size]\n",
    "    \n",
    "    * logits must be a linear output of your neural network.\n",
    "    * logits [:, 0, :] should always predic BOS\n",
    "    * logits [:, -1, :] should be probabilities of last token in out\n",
    "    This function should NOT return logits predicted when taking out[:, -1] as y_prev\n",
    "    \"\"\"\n",
    "    batch_size = tf.shape(queries)[0]\n",
    "    \n",
    "    inp = crop(1, 0, max_query_sequence_len - 1)(queries)\n",
    "    out = crop(1, 1, max_query_sequence_len)(queries)\n",
    "\n",
    "    queries_emb = model.encode_query(inp)\n",
    "    \n",
    "    first_decode_state = model.encode_session(queries_emb)\n",
    "#     first_decode_state = L.Reshape(target_shape=(max_query_sequence_len - 1, hid_size_query))(first_decode_state)\n",
    "    \n",
    "    # initial logits: always predict BOS\n",
    "    first_logits = tf.log(tf.one_hot(tf.fill([batch_size], bos_ix), vocab_size) + 1e-30)\n",
    "    output_logits = first_logits\n",
    "    # Decode step\n",
    "\n",
    "    # You can now use tf.scan to run step several times.\n",
    "    # use tf.transpose(out) as elems (to process one time-step at a time)\n",
    "    # docs: https://www.tensorflow.org/api_docs/python/tf/scan\n",
    "    \n",
    "    def step(blob, y_prev):\n",
    "        # Given previous state, obtain next state and next token logits\n",
    "        \n",
    "        prev_state = blob\n",
    "        next_state = model.decode(prev_state, y_prev)\n",
    "\n",
    "#         output_logits = dense_logits(L.Concatenate()([next_state, y_prev]))   # not sure here\n",
    "#         output_logits = tf.tensordot(output_logits, tf.transpose(vocab_emb_matrix), axes=1)\n",
    "#         output_logits = tf.log(tf.one_hot(tf.fill([batch_size], bos_ix), vocab_size) + 1e-30)\n",
    "#         query_logits.append(output_logits)\n",
    "        \n",
    "        return next_state\n",
    "    \n",
    "    all_queries_logits = []\n",
    "    \n",
    "    for i in range(max_query_sequence_len - 1):\n",
    "\n",
    "        first_state = tf.squeeze(crop(1, i, i + 1)(first_decode_state), axis=1)\n",
    "        out_i = tf.transpose(tf.squeeze(crop(1, i, i + 1)(out), axis=1), perm=(1, 0, 2))\n",
    "        states_seq = tf.scan(step,\n",
    "                elems=out_i,\n",
    "               initializer=first_state)\n",
    "\n",
    "        concat_states_queries = tf.concat([states_seq, out_i], axis=-1)\n",
    "        concat_states_queries = tf.transpose(concat_states_queries, perm=(1, 0, 2))\n",
    "        logits = (L.TimeDistributed(model.dense_logits)(concat_states_queries))\n",
    "        \n",
    "        logits = L.Reshape(target_shape=(max_word_count, emb_size))(logits)\n",
    "        layer = L.Lambda(lambda x: tf.tensordot(x, tf.transpose(vocab_emb_matrix), axes=1))\n",
    "        \n",
    "        logits_seq = L.Reshape(target_shape=(max_word_count, vocab_size))(L.TimeDistributed(layer)(logits))\n",
    "        logits_seq = tf.transpose(logits_seq, perm=(1, 0, 2))\n",
    "\n",
    "        logits_seq = tf.concat([first_logits[None], logits_seq], axis=0)[:-1]\n",
    "        logits_seq = tf.transpose(logits_seq, perm=(1, 0, 2))\n",
    "        all_queries_logits.append(L.Reshape(target_shape=(1, max_word_count, vocab_size))(logits_seq))\n",
    "\n",
    "    concat_all_logits = tf.concat(all_queries_logits, axis=1)\n",
    "    return concat_all_logits"
   ]
  },
  {
   "cell_type": "code",
   "execution_count": 16,
   "metadata": {},
   "outputs": [
    {
     "name": "stderr",
     "output_type": "stream",
     "text": [
      "Using TensorFlow backend.\n"
     ]
    }
   ],
   "source": [
    "import tensorflow as tf\n",
    "import keras.layers as L"
   ]
  },
  {
   "cell_type": "code",
   "execution_count": 17,
   "metadata": {},
   "outputs": [],
   "source": [
    "def crop(dimension, start, end):\n",
    "    # Crops (or slices) a Tensor on a given dimension from start to end\n",
    "    # example : to crop tensor x[:, :, 5:10]\n",
    "    # call slice(2, 5, 10) as you want to crop on the second dimension\n",
    "    def func(x):\n",
    "        if dimension == 0:\n",
    "            return x[start: end]\n",
    "        if dimension == 1:\n",
    "            return x[:, start: end]\n",
    "        if dimension == 2:\n",
    "            return x[:, :, start: end]\n",
    "        if dimension == 3:\n",
    "            return x[:, :, :, start: end]\n",
    "        if dimension == 4:\n",
    "            return x[:, :, :, :, start: end]\n",
    "    return L.Lambda(func)"
   ]
  },
  {
   "cell_type": "code",
   "execution_count": 23,
   "metadata": {},
   "outputs": [],
   "source": [
    "class BasicModelNew:\n",
    "    def __init__(self, name='model', emb_size=300, hid_size_query=1000, hid_size_session=1500):\n",
    "        self.emb_size = emb_size\n",
    "        self.hid_size_query = hid_size_query\n",
    "        self.hid_size_session = hid_size_session\n",
    "        \n",
    "        \n",
    "        self.query_level_rnn = L.GRU(hid_size_query)\n",
    "        self.session_level_rnn = L.GRU(hid_size_session, return_state=True, return_sequences=True)\n",
    "        self.decoding_rnn = tf.nn.rnn_cell.GRUCell(hid_size_query)\n",
    "        self.dec_start = L.Dense(hid_size_query, input_shape=(hid_size_session,), activation='tanh')\n",
    "        self.dense_logits = L.Dense(emb_size, input_shape=(self.hid_size_query + emb_size,))\n",
    "        \n",
    "        #input data\n",
    "#         self.input = tf.placeholder('float32', [None, max_query_sequence_len, max_word_count, emb_size])\n",
    "#         self.input_queries = crop(1, 0, max_query_sequence_len - 1)(self.input)\n",
    "#         self.output_queries = crop(1, 1, max_query_sequence_len)(self.input)\n",
    "        \n",
    "#         self.vocab_emb_matrix = tf.placeholder('float32', [vocab_size, emb_size])\n",
    "        \n",
    "# #         self.prev_tokens = tf.placeholder('float32', [None, emb_size])\n",
    "# #         self.prev_decode_state = tf.placeholder('float32', [None, hid_size_query])\n",
    "        \n",
    "#         self.targets = tf.placeholder('float32', [None, max_query_sequence_len - 1,  None, vocab_size])\n",
    "        \n",
    "        \n",
    "#         self.emb_queries = self.encode_query(self.input_queries)\n",
    "#         self.init_decode_states = self.encode_session(self.emb_queries)\n",
    "        \n",
    "# #         self.next_state, self.next_logits = self.decode(self.prev_decode_state, self.prev_tokens)  \n",
    "        \n",
    "        self.weights = tf.get_collection(tf.GraphKeys.TRAINABLE_VARIABLES)\n",
    "        \n",
    "    def encode_query(self, inp_queries):\n",
    "        all_last_states = []\n",
    "        with tf.variable_scope('enc0'):\n",
    "            for i in range(max_query_sequence_len - 1):\n",
    "                sliced_inp = tf.squeeze(crop(1, i, i + 1)(inp_queries), axis=1)\n",
    "                last_state = self.query_level_rnn(sliced_inp)\n",
    "                all_last_states.append(L.Reshape(target_shape=(1, self.hid_size_query))(last_state))\n",
    "                \n",
    "        concat_all_states = L.Concatenate(axis=1)(all_last_states)\n",
    "        return concat_all_states\n",
    "        \n",
    "    def encode_session(self, inp_queries):\n",
    "        seq_states, last_state = self.session_level_rnn(inp_queries)\n",
    "        decode_start_state = L.TimeDistributed(self.dec_start)(seq_states)\n",
    "#         print('decode_start_state', decode_start_state)\n",
    "        return decode_start_state\n",
    "        \n",
    "        \n",
    "    def decode(self, prev_state, prev_tokens):\n",
    "#         with tf.variable_scope('dec0'):\n",
    "#             prev_state_i = tf.squeeze(crop(1, i, i + 1)(prev_state), axis=1)\n",
    "#             prev_tokens_i = tf.squeeze(crop(1, i, i + 1)(prev_tokens), axis=1)\n",
    "#             print('-- ', prev_state_i.shape, prev_tokens_i.shape)\n",
    "        new_dec_out, new_dec_state = self.decoding_rnn(prev_tokens, prev_state)\n",
    "\n",
    "#             output_logits = self.logits(L.Concatenate()([new_dec_out, prev_tokens]))   # not sure here\n",
    "#             output_logits = tf.tensordot(output_logits, tf.transpose(self.vocab_emb_matrix), axes=1)\n",
    "#         output_logits = self.logits(new_dec_state)\n",
    "\n",
    "        return new_dec_state"
   ]
  },
  {
   "cell_type": "code",
   "execution_count": 24,
   "metadata": {},
   "outputs": [],
   "source": [
    "# индекс слова bos - begin of sentence\n",
    "def compute_logits(model, queries, vocab_emb_matrix, **flags):\n",
    "    \"\"\"\n",
    "    :param inp: input tokens matrix, int32[batch, time]\n",
    "    :param out: reference tokens matrix, int32[batch, time]\n",
    "    :returns: logits of shape [batch, time, voc_size]\n",
    "    \n",
    "    * logits must be a linear output of your neural network.\n",
    "    * logits [:, 0, :] should always predic BOS\n",
    "    * logits [:, -1, :] should be probabilities of last token in out\n",
    "    This function should NOT return logits predicted when taking out[:, -1] as y_prev\n",
    "    \"\"\"\n",
    "    batch_size = tf.shape(queries)[0]\n",
    "    \n",
    "    inp = crop(1, 0, max_query_sequence_len - 1)(queries)\n",
    "    out = crop(1, 1, max_query_sequence_len)(queries)\n",
    "\n",
    "    queries_emb = model.encode_query(inp)\n",
    "    \n",
    "    first_decode_state = model.encode_session(queries_emb)\n",
    "#     first_decode_state = L.Reshape(target_shape=(max_query_sequence_len - 1, hid_size_query))(first_decode_state)\n",
    "    \n",
    "    # initial logits: always predict BOS\n",
    "    first_logits = tf.log(tf.one_hot(tf.fill([batch_size], bos_ix), vocab_size) + 1e-30)\n",
    "    output_logits = first_logits\n",
    "    # Decode step\n",
    "\n",
    "    # You can now use tf.scan to run step several times.\n",
    "    # use tf.transpose(out) as elems (to process one time-step at a time)\n",
    "    # docs: https://www.tensorflow.org/api_docs/python/tf/scan\n",
    "    \n",
    "    def step(blob, y_prev):\n",
    "        # Given previous state, obtain next state and next token logits\n",
    "        \n",
    "        prev_state = blob\n",
    "        next_state = model.decode(prev_state, y_prev)\n",
    "\n",
    "#         output_logits = dense_logits(L.Concatenate()([next_state, y_prev]))   # not sure here\n",
    "#         output_logits = tf.tensordot(output_logits, tf.transpose(vocab_emb_matrix), axes=1)\n",
    "#         output_logits = tf.log(tf.one_hot(tf.fill([batch_size], bos_ix), vocab_size) + 1e-30)\n",
    "#         query_logits.append(output_logits)\n",
    "        \n",
    "        return next_state\n",
    "    \n",
    "    all_queries_logits = []\n",
    "    \n",
    "    for i in range(max_query_sequence_len - 1):\n",
    "\n",
    "        first_state = tf.squeeze(crop(1, i, i + 1)(first_decode_state), axis=1)\n",
    "        out_i = tf.transpose(tf.squeeze(crop(1, i, i + 1)(out), axis=1), perm=(1, 0, 2))\n",
    "        states_seq = tf.scan(step,\n",
    "                elems=out_i,\n",
    "               initializer=first_state)\n",
    "\n",
    "        concat_states_queries = tf.concat([states_seq, out_i], axis=-1)\n",
    "        concat_states_queries = tf.transpose(concat_states_queries, perm=(1, 0, 2))\n",
    "        logits = (L.TimeDistributed(model.dense_logits)(concat_states_queries))\n",
    "        \n",
    "        logits = L.Reshape(target_shape=(max_word_count, emb_size))(logits)\n",
    "        layer = L.Lambda(lambda x: tf.tensordot(x, tf.transpose(vocab_emb_matrix), axes=1))\n",
    "        \n",
    "        logits_seq = L.Reshape(target_shape=(max_word_count, vocab_size))(L.TimeDistributed(layer)(logits))\n",
    "        logits_seq = tf.transpose(logits_seq, perm=(1, 0, 2))\n",
    "\n",
    "        logits_seq = tf.concat([first_logits[None], logits_seq], axis=0)[:-1]\n",
    "        logits_seq = tf.transpose(logits_seq, perm=(1, 0, 2))\n",
    "        all_queries_logits.append(L.Reshape(target_shape=(1, max_word_count, vocab_size))(logits_seq))\n",
    "\n",
    "    concat_all_logits = tf.concat(all_queries_logits, axis=1)\n",
    "    return concat_all_logits"
   ]
  },
  {
   "cell_type": "code",
   "execution_count": null,
   "metadata": {},
   "outputs": [],
   "source": []
  },
  {
   "cell_type": "code",
   "execution_count": 564,
   "metadata": {},
   "outputs": [
    {
     "name": "stderr",
     "output_type": "stream",
     "text": [
      "/Users/elkir/.virtualenvs/py/lib/python3.7/site-packages/tensorflow/python/client/session.py:1702: UserWarning: An interactive session is already active. This can cause out-of-memory errors in some cases. You must explicitly call `InteractiveSession.close()` to release resources held by the other session(s).\n",
      "  warnings.warn('An interactive session is already active. This can '\n"
     ]
    }
   ],
   "source": [
    "tf.reset_default_graph()\n",
    "sess = tf.InteractiveSession()\n",
    "\n",
    "model = BasicModelNew()"
   ]
  },
  {
   "cell_type": "code",
   "execution_count": 565,
   "metadata": {
    "scrolled": false
   },
   "outputs": [],
   "source": [
    "dummy_queries = tf.constant(np.ones((15, max_query_sequence_len, max_word_count, emb_size)) * 0.1, dtype='float32')\n",
    "\n",
    "dummy_vocab_emb_matrix = tf.constant(np.ones((445479, 300)) * 0.1, dtype='float32')\n",
    "\n",
    "logits_computed = compute_logits(model, dummy_queries, dummy_vocab_emb_matrix)\n",
    "sess.run(tf.global_variables_initializer())\n",
    "dummy_logits = sess.run(logits_computed)"
   ]
  },
  {
   "cell_type": "code",
   "execution_count": null,
   "metadata": {},
   "outputs": [],
   "source": []
  },
  {
   "cell_type": "code",
   "execution_count": 25,
   "metadata": {},
   "outputs": [],
   "source": [
    "def infer_length(seq, eos_ix, dtype=tf.int32):\n",
    "    \"\"\" Compute length given output indices and eos code \"\"\"\n",
    "    is_eos = tf.cast(tf.equal(seq, eos_ix), dtype)\n",
    "    count_eos = tf.cumsum(is_eos,axis=2, exclusive=True)\n",
    "    lengths = tf.reduce_sum(tf.cast(tf.equal(count_eos, 0), dtype), axis=2)\n",
    "    return lengths\n",
    "\n",
    "\n",
    "def infer_mask(seq, eos_ix, dtype=tf.float32):\n",
    "    lengths = infer_length(seq, eos_ix)\n",
    "    mask = tf.sequence_mask(lengths, maxlen=tf.shape(seq)[2], dtype=dtype)\n",
    "    return mask\n",
    "\n",
    "\n",
    "def select_values_over_last_axis(values, indices):\n",
    "    \"\"\" Auxiliary function to select logits corresponding to chosen tokens.\"\"\"\n",
    "\n",
    "    batch_size, count_out_queries, count_words = tf.shape(indices)[0], tf.shape(indices)[1], tf.shape(indices)[2]\n",
    "    \n",
    "    batch_i = tf.tile(tf.range(0,batch_size)[:, None][:, None],[1,count_out_queries, count_words])\n",
    "    queries_i = tf.tile(tf.range(0, count_out_queries)[:,None][None],[batch_size, 1, count_words])\n",
    "    time_i = tf.tile(tf.range(0, count_words)[None,:][None, :], [batch_size, count_out_queries,1])\n",
    "    indices_nd = tf.stack([batch_i, queries_i, time_i, indices], axis=-1)\n",
    "    return tf.gather_nd(values, indices_nd)"
   ]
  },
  {
   "cell_type": "code",
   "execution_count": 26,
   "metadata": {},
   "outputs": [],
   "source": [
    "def compute_loss(model, queries, vocab_emb_matrix, targets, **flags):\n",
    "    \"\"\" Compute loss (float32 scalar) as in the formula above \"\"\"\n",
    "    targets = crop(1, 1, max_query_sequence_len)(targets)\n",
    "    mask = infer_mask(targets, eos_ix)   \n",
    "    \n",
    "    logits_seq = compute_logits(model, queries, vocab_emb_matrix, **flags)\n",
    "    \n",
    "    probs_out = select_values_over_last_axis(tf.nn.log_softmax(logits_seq, axis=-1), targets)\n",
    "    loss = -tf.reduce_sum(probs_out * mask) / tf.reduce_sum(mask)\n",
    "    \n",
    "    return loss"
   ]
  },
  {
   "cell_type": "code",
   "execution_count": 812,
   "metadata": {},
   "outputs": [],
   "source": [
    "tf.reset_default_graph()\n",
    "sess = tf.InteractiveSession()\n",
    "\n",
    "model = BasicModelNew()\n",
    "\n",
    "dummy_queries = tf.constant(np.ones((15, max_query_sequence_len, max_word_count, emb_size)) * 0.1, dtype='float32')\n",
    "dummy_vocab_emb_matrix = tf.constant(np.ones((445479, 300)) * 0.1, dtype='float32')\n",
    "\n",
    "targets = tf.random.uniform((15, max_query_sequence_len, max_word_count), 0, vocab_size, dtype=tf.dtypes.int32)\n",
    "\n",
    "dummy_loss = compute_loss(model, dummy_queries, dummy_vocab_emb_matrix, targets)"
   ]
  },
  {
   "cell_type": "code",
   "execution_count": 570,
   "metadata": {
    "scrolled": false
   },
   "outputs": [
    {
     "name": "stdout",
     "output_type": "stream",
     "text": [
      "Loss: 19.236992\n"
     ]
    }
   ],
   "source": [
    "sess.run(tf.global_variables_initializer())\n",
    "dummy_loss = sess.run(dummy_loss)\n",
    "print(\"Loss:\", dummy_loss)\n"
   ]
  },
  {
   "cell_type": "code",
   "execution_count": null,
   "metadata": {},
   "outputs": [],
   "source": []
  },
  {
   "cell_type": "code",
   "execution_count": null,
   "metadata": {},
   "outputs": [],
   "source": []
  },
  {
   "cell_type": "markdown",
   "metadata": {},
   "source": [
    "Обучение"
   ]
  },
  {
   "cell_type": "code",
   "execution_count": null,
   "metadata": {},
   "outputs": [],
   "source": [
    "# output_logits = self.logits(L.Concatenate()([new_dec_out, prev_tokens]))   # not sure here\n",
    "#             output_logits = tf.tensordot(output_logits, tf.transpose(self.vocab_emb_matrix), axes=1)"
   ]
  },
  {
   "cell_type": "code",
   "execution_count": 27,
   "metadata": {
    "scrolled": false
   },
   "outputs": [
    {
     "name": "stderr",
     "output_type": "stream",
     "text": [
      "/Users/elkir/.virtualenvs/py/lib/python3.7/site-packages/tensorflow/python/client/session.py:1702: UserWarning: An interactive session is already active. This can cause out-of-memory errors in some cases. You must explicitly call `InteractiveSession.close()` to release resources held by the other session(s).\n",
      "  warnings.warn('An interactive session is already active. This can '\n"
     ]
    },
    {
     "name": "stdout",
     "output_type": "stream",
     "text": [
      "WARNING:tensorflow:From /Users/elkir/.virtualenvs/py/lib/python3.7/site-packages/tensorflow/python/ops/math_ops.py:3066: to_int32 (from tensorflow.python.ops.math_ops) is deprecated and will be removed in a future version.\n",
      "Instructions for updating:\n",
      "Use tf.cast instead.\n"
     ]
    }
   ],
   "source": [
    "tf.reset_default_graph()\n",
    "sess = tf.InteractiveSession()\n",
    "\n",
    "model = BasicModelNew()\n",
    "\n",
    "\n",
    "vocab_matrix = tf.placeholder('float32', [vocab_size, emb_size])\n",
    "queries = tf.placeholder('float32', [None, max_query_sequence_len, max_word_count, emb_size])\n",
    "targets = tf.placeholder('int32', [None, max_query_sequence_len, max_word_count])\n",
    "\n",
    "## need it for testing time\n",
    "prev_tokens = tf.placeholder('float32', [None, model.emb_size])\n",
    "prev_state = tf.placeholder('float32', [None, model.hid_size_query])\n",
    "emb_queries = model.encode_query(crop(1, 0, max_query_sequence_len - 1)(queries))\n",
    "init_decode_states = model.encode_session(emb_queries)\n",
    "next_state = model.decode(prev_state, prev_tokens)  \n",
    "next_logits = model.dense_logits(L.Concatenate()([next_state, prev_tokens]))\n",
    "next_logits = tf.tensordot(next_logits, tf.transpose(vocab_matrix), axes=1)\n",
    "##\n",
    "\n",
    "loss = compute_loss(model, queries, vocab_matrix, targets)\n",
    "logits = compute_logits(model, queries, vocab_matrix)\n",
    "\n",
    "train_step = tf.train.AdamOptimizer().minimize(loss)\n",
    "\n",
    "metrics = {'train_loss': [], 'val_loss': []}\n",
    "\n",
    "sess.run(tf.global_variables_initializer())"
   ]
  },
  {
   "cell_type": "code",
   "execution_count": 36,
   "metadata": {},
   "outputs": [],
   "source": [
    "def print_answer(numbers):\n",
    "    for i in range(len(numbers)):\n",
    "        s = ''\n",
    "        for j in range(len(numbers[i])):\n",
    "            s += ' ' + indeces_to_words[numbers[i][j]]\n",
    "        print(s)"
   ]
  },
  {
   "cell_type": "code",
   "execution_count": 39,
   "metadata": {},
   "outputs": [
    {
     "name": "stdout",
     "output_type": "stream",
     "text": [
      " BOS EOS EOS EOS EOS EOS EOS EOS EOS\n",
      " BOS bmg EOS EOS EOS EOS EOS EOS EOS\n",
      " BOS harlequin EOS EOS EOS EOS EOS EOS EOS\n",
      " BOS myfloridacounty EOS EOS EOS EOS EOS EOS EOS\n",
      " BOS home remedies for hair growth EOS EOS EOS\n",
      " BOS home remedies for hair growth EOS EOS EOS\n"
     ]
    }
   ],
   "source": [
    "print_answer(val_targets[1])"
   ]
  },
  {
   "cell_type": "code",
   "execution_count": 41,
   "metadata": {},
   "outputs": [
    {
     "name": "stdout",
     "output_type": "stream",
     "text": [
      " BOS nsa EOS EOS EOS EOS EOS EOS EOS\n",
      " BOS nsa EOS EOS EOS EOS EOS EOS EOS\n",
      " BOS nsa EOS EOS EOS EOS EOS EOS EOS\n",
      " BOS nsa EOS EOS EOS EOS EOS EOS EOS\n",
      " BOS nsa EOS EOS EOS EOS EOS EOS EOS\n"
     ]
    }
   ],
   "source": [
    "print_answer(np.argmax(all_val_logits[-1][10], axis=-1))"
   ]
  },
  {
   "cell_type": "code",
   "execution_count": 863,
   "metadata": {},
   "outputs": [
    {
     "data": {
      "image/png": "[encoded data removed]",
      "text/plain": [
       "<Figure size 864x288 with 2 Axes>"
      ]
     },
     "metadata": {
      "needs_background": "light"
     },
     "output_type": "display_data"
    },
    {
     "name": "stdout",
     "output_type": "stream",
     "text": [
      "Mean loss=7.501\n"
     ]
    },
    {
     "ename": "KeyboardInterrupt",
     "evalue": "",
     "output_type": "error",
     "traceback": [
      "\u001b[0;31m---------------------------------------------------------------------------\u001b[0m",
      "\u001b[0;31mKeyboardInterrupt\u001b[0m                         Traceback (most recent call last)",
      "\u001b[0;32m<ipython-input-863-46e455f32423>\u001b[0m in \u001b[0;36m<module>\u001b[0;34m\u001b[0m\n\u001b[1;32m     19\u001b[0m                      vocab_matrix: vocab_emb_matrix}\n\u001b[1;32m     20\u001b[0m \u001b[0;34m\u001b[0m\u001b[0m\n\u001b[0;32m---> 21\u001b[0;31m         \u001b[0mloss_train\u001b[0m\u001b[0;34m,\u001b[0m \u001b[0m_\u001b[0m \u001b[0;34m=\u001b[0m \u001b[0msess\u001b[0m\u001b[0;34m.\u001b[0m\u001b[0mrun\u001b[0m\u001b[0;34m(\u001b[0m\u001b[0;34m[\u001b[0m\u001b[0mloss\u001b[0m\u001b[0;34m,\u001b[0m \u001b[0mtrain_step\u001b[0m\u001b[0;34m]\u001b[0m\u001b[0;34m,\u001b[0m \u001b[0mfeed_dict\u001b[0m\u001b[0;34m)\u001b[0m\u001b[0;34m\u001b[0m\u001b[0;34m\u001b[0m\u001b[0m\n\u001b[0m\u001b[1;32m     22\u001b[0m \u001b[0;34m\u001b[0m\u001b[0m\n\u001b[1;32m     23\u001b[0m         \u001b[0mmetrics\u001b[0m\u001b[0;34m[\u001b[0m\u001b[0;34m'train_loss'\u001b[0m\u001b[0;34m]\u001b[0m\u001b[0;34m.\u001b[0m\u001b[0mappend\u001b[0m\u001b[0;34m(\u001b[0m\u001b[0;34m[\u001b[0m\u001b[0mstep\u001b[0m\u001b[0;34m,\u001b[0m \u001b[0mloss_train\u001b[0m\u001b[0;34m]\u001b[0m\u001b[0;34m)\u001b[0m\u001b[0;34m\u001b[0m\u001b[0;34m\u001b[0m\u001b[0m\n",
      "\u001b[0;32m~/.virtualenvs/py/lib/python3.7/site-packages/tensorflow/python/client/session.py\u001b[0m in \u001b[0;36mrun\u001b[0;34m(self, fetches, feed_dict, options, run_metadata)\u001b[0m\n\u001b[1;32m    927\u001b[0m     \u001b[0;32mtry\u001b[0m\u001b[0;34m:\u001b[0m\u001b[0;34m\u001b[0m\u001b[0;34m\u001b[0m\u001b[0m\n\u001b[1;32m    928\u001b[0m       result = self._run(None, fetches, feed_dict, options_ptr,\n\u001b[0;32m--> 929\u001b[0;31m                          run_metadata_ptr)\n\u001b[0m\u001b[1;32m    930\u001b[0m       \u001b[0;32mif\u001b[0m \u001b[0mrun_metadata\u001b[0m\u001b[0;34m:\u001b[0m\u001b[0;34m\u001b[0m\u001b[0;34m\u001b[0m\u001b[0m\n\u001b[1;32m    931\u001b[0m         \u001b[0mproto_data\u001b[0m \u001b[0;34m=\u001b[0m \u001b[0mtf_session\u001b[0m\u001b[0;34m.\u001b[0m\u001b[0mTF_GetBuffer\u001b[0m\u001b[0;34m(\u001b[0m\u001b[0mrun_metadata_ptr\u001b[0m\u001b[0;34m)\u001b[0m\u001b[0;34m\u001b[0m\u001b[0;34m\u001b[0m\u001b[0m\n",
      "\u001b[0;32m~/.virtualenvs/py/lib/python3.7/site-packages/tensorflow/python/client/session.py\u001b[0m in \u001b[0;36m_run\u001b[0;34m(self, handle, fetches, feed_dict, options, run_metadata)\u001b[0m\n\u001b[1;32m   1150\u001b[0m     \u001b[0;32mif\u001b[0m \u001b[0mfinal_fetches\u001b[0m \u001b[0;32mor\u001b[0m \u001b[0mfinal_targets\u001b[0m \u001b[0;32mor\u001b[0m \u001b[0;34m(\u001b[0m\u001b[0mhandle\u001b[0m \u001b[0;32mand\u001b[0m \u001b[0mfeed_dict_tensor\u001b[0m\u001b[0;34m)\u001b[0m\u001b[0;34m:\u001b[0m\u001b[0;34m\u001b[0m\u001b[0;34m\u001b[0m\u001b[0m\n\u001b[1;32m   1151\u001b[0m       results = self._do_run(handle, final_targets, final_fetches,\n\u001b[0;32m-> 1152\u001b[0;31m                              feed_dict_tensor, options, run_metadata)\n\u001b[0m\u001b[1;32m   1153\u001b[0m     \u001b[0;32melse\u001b[0m\u001b[0;34m:\u001b[0m\u001b[0;34m\u001b[0m\u001b[0;34m\u001b[0m\u001b[0m\n\u001b[1;32m   1154\u001b[0m       \u001b[0mresults\u001b[0m \u001b[0;34m=\u001b[0m \u001b[0;34m[\u001b[0m\u001b[0;34m]\u001b[0m\u001b[0;34m\u001b[0m\u001b[0;34m\u001b[0m\u001b[0m\n",
      "\u001b[0;32m~/.virtualenvs/py/lib/python3.7/site-packages/tensorflow/python/client/session.py\u001b[0m in \u001b[0;36m_do_run\u001b[0;34m(self, handle, target_list, fetch_list, feed_dict, options, run_metadata)\u001b[0m\n\u001b[1;32m   1326\u001b[0m     \u001b[0;32mif\u001b[0m \u001b[0mhandle\u001b[0m \u001b[0;32mis\u001b[0m \u001b[0;32mNone\u001b[0m\u001b[0;34m:\u001b[0m\u001b[0;34m\u001b[0m\u001b[0;34m\u001b[0m\u001b[0m\n\u001b[1;32m   1327\u001b[0m       return self._do_call(_run_fn, feeds, fetches, targets, options,\n\u001b[0;32m-> 1328\u001b[0;31m                            run_metadata)\n\u001b[0m\u001b[1;32m   1329\u001b[0m     \u001b[0;32melse\u001b[0m\u001b[0;34m:\u001b[0m\u001b[0;34m\u001b[0m\u001b[0;34m\u001b[0m\u001b[0m\n\u001b[1;32m   1330\u001b[0m       \u001b[0;32mreturn\u001b[0m \u001b[0mself\u001b[0m\u001b[0;34m.\u001b[0m\u001b[0m_do_call\u001b[0m\u001b[0;34m(\u001b[0m\u001b[0m_prun_fn\u001b[0m\u001b[0;34m,\u001b[0m \u001b[0mhandle\u001b[0m\u001b[0;34m,\u001b[0m \u001b[0mfeeds\u001b[0m\u001b[0;34m,\u001b[0m \u001b[0mfetches\u001b[0m\u001b[0;34m)\u001b[0m\u001b[0;34m\u001b[0m\u001b[0;34m\u001b[0m\u001b[0m\n",
      "\u001b[0;32m~/.virtualenvs/py/lib/python3.7/site-packages/tensorflow/python/client/session.py\u001b[0m in \u001b[0;36m_do_call\u001b[0;34m(self, fn, *args)\u001b[0m\n\u001b[1;32m   1332\u001b[0m   \u001b[0;32mdef\u001b[0m \u001b[0m_do_call\u001b[0m\u001b[0;34m(\u001b[0m\u001b[0mself\u001b[0m\u001b[0;34m,\u001b[0m \u001b[0mfn\u001b[0m\u001b[0;34m,\u001b[0m \u001b[0;34m*\u001b[0m\u001b[0margs\u001b[0m\u001b[0;34m)\u001b[0m\u001b[0;34m:\u001b[0m\u001b[0;34m\u001b[0m\u001b[0;34m\u001b[0m\u001b[0m\n\u001b[1;32m   1333\u001b[0m     \u001b[0;32mtry\u001b[0m\u001b[0;34m:\u001b[0m\u001b[0;34m\u001b[0m\u001b[0;34m\u001b[0m\u001b[0m\n\u001b[0;32m-> 1334\u001b[0;31m       \u001b[0;32mreturn\u001b[0m \u001b[0mfn\u001b[0m\u001b[0;34m(\u001b[0m\u001b[0;34m*\u001b[0m\u001b[0margs\u001b[0m\u001b[0;34m)\u001b[0m\u001b[0;34m\u001b[0m\u001b[0;34m\u001b[0m\u001b[0m\n\u001b[0m\u001b[1;32m   1335\u001b[0m     \u001b[0;32mexcept\u001b[0m \u001b[0merrors\u001b[0m\u001b[0;34m.\u001b[0m\u001b[0mOpError\u001b[0m \u001b[0;32mas\u001b[0m \u001b[0me\u001b[0m\u001b[0;34m:\u001b[0m\u001b[0;34m\u001b[0m\u001b[0;34m\u001b[0m\u001b[0m\n\u001b[1;32m   1336\u001b[0m       \u001b[0mmessage\u001b[0m \u001b[0;34m=\u001b[0m \u001b[0mcompat\u001b[0m\u001b[0;34m.\u001b[0m\u001b[0mas_text\u001b[0m\u001b[0;34m(\u001b[0m\u001b[0me\u001b[0m\u001b[0;34m.\u001b[0m\u001b[0mmessage\u001b[0m\u001b[0;34m)\u001b[0m\u001b[0;34m\u001b[0m\u001b[0;34m\u001b[0m\u001b[0m\n",
      "\u001b[0;32m~/.virtualenvs/py/lib/python3.7/site-packages/tensorflow/python/client/session.py\u001b[0m in \u001b[0;36m_run_fn\u001b[0;34m(feed_dict, fetch_list, target_list, options, run_metadata)\u001b[0m\n\u001b[1;32m   1317\u001b[0m       \u001b[0mself\u001b[0m\u001b[0;34m.\u001b[0m\u001b[0m_extend_graph\u001b[0m\u001b[0;34m(\u001b[0m\u001b[0;34m)\u001b[0m\u001b[0;34m\u001b[0m\u001b[0;34m\u001b[0m\u001b[0m\n\u001b[1;32m   1318\u001b[0m       return self._call_tf_sessionrun(\n\u001b[0;32m-> 1319\u001b[0;31m           options, feed_dict, fetch_list, target_list, run_metadata)\n\u001b[0m\u001b[1;32m   1320\u001b[0m \u001b[0;34m\u001b[0m\u001b[0m\n\u001b[1;32m   1321\u001b[0m     \u001b[0;32mdef\u001b[0m \u001b[0m_prun_fn\u001b[0m\u001b[0;34m(\u001b[0m\u001b[0mhandle\u001b[0m\u001b[0;34m,\u001b[0m \u001b[0mfeed_dict\u001b[0m\u001b[0;34m,\u001b[0m \u001b[0mfetch_list\u001b[0m\u001b[0;34m)\u001b[0m\u001b[0;34m:\u001b[0m\u001b[0;34m\u001b[0m\u001b[0;34m\u001b[0m\u001b[0m\n",
      "\u001b[0;32m~/.virtualenvs/py/lib/python3.7/site-packages/tensorflow/python/client/session.py\u001b[0m in \u001b[0;36m_call_tf_sessionrun\u001b[0;34m(self, options, feed_dict, fetch_list, target_list, run_metadata)\u001b[0m\n\u001b[1;32m   1405\u001b[0m     return tf_session.TF_SessionRun_wrapper(\n\u001b[1;32m   1406\u001b[0m         \u001b[0mself\u001b[0m\u001b[0;34m.\u001b[0m\u001b[0m_session\u001b[0m\u001b[0;34m,\u001b[0m \u001b[0moptions\u001b[0m\u001b[0;34m,\u001b[0m \u001b[0mfeed_dict\u001b[0m\u001b[0;34m,\u001b[0m \u001b[0mfetch_list\u001b[0m\u001b[0;34m,\u001b[0m \u001b[0mtarget_list\u001b[0m\u001b[0;34m,\u001b[0m\u001b[0;34m\u001b[0m\u001b[0;34m\u001b[0m\u001b[0m\n\u001b[0;32m-> 1407\u001b[0;31m         run_metadata)\n\u001b[0m\u001b[1;32m   1408\u001b[0m \u001b[0;34m\u001b[0m\u001b[0m\n\u001b[1;32m   1409\u001b[0m   \u001b[0;32mdef\u001b[0m \u001b[0m_call_tf_sessionprun\u001b[0m\u001b[0;34m(\u001b[0m\u001b[0mself\u001b[0m\u001b[0;34m,\u001b[0m \u001b[0mhandle\u001b[0m\u001b[0;34m,\u001b[0m \u001b[0mfeed_dict\u001b[0m\u001b[0;34m,\u001b[0m \u001b[0mfetch_list\u001b[0m\u001b[0;34m)\u001b[0m\u001b[0;34m:\u001b[0m\u001b[0;34m\u001b[0m\u001b[0;34m\u001b[0m\u001b[0m\n",
      "\u001b[0;31mKeyboardInterrupt\u001b[0m: "
     ]
    }
   ],
   "source": [
    "epochs = 5\n",
    "steps_per_epoch = 100\n",
    "\n",
    "batch_generator = get_batch(data_aol, good_last_indeces_for_batch[:10000], batch_size=15)\n",
    "val_queries, val_targets = get_one_batch(data_aol, good_last_indeces_for_batch[10000:11000])\n",
    "\n",
    "feed_dict_validation = {queries: val_queries, \n",
    "                        targets: val_targets, \n",
    "                        vocab_matrix: vocab_emb_matrix}\n",
    "\n",
    "for epoch in range(epochs):\n",
    "    for iteration in range(steps_per_epoch):\n",
    "        step = len(metrics['train_loss']) + 1\n",
    "        \n",
    "        batch_queries, batch_targets = next(batch_generator)\n",
    "        \n",
    "        feed_dict = {queries: batch_queries, \n",
    "                     targets: batch_targets, \n",
    "                     vocab_matrix: vocab_emb_matrix}\n",
    "        \n",
    "        loss_train, _ = sess.run([loss, train_step], feed_dict)\n",
    "        \n",
    "        metrics['train_loss'].append([step, loss_train])\n",
    "        \n",
    "        if step % 10 == 0:\n",
    "            val_loss = sess.run(loss, feed_dict_validation)\n",
    "            metrics['val_loss'].append([step, val_loss])\n",
    "            \n",
    "            clear_output(True)\n",
    "            plt.figure(figsize=(12,4))\n",
    "            for i, (name, history) in enumerate(sorted(metrics.items())):\n",
    "                plt.subplot(1, len(metrics), i + 1)\n",
    "                plt.title(name)\n",
    "                plt.plot(*zip(*history))\n",
    "                plt.grid()\n",
    "            plt.show();\n",
    "            \n",
    "            print(\"Mean loss=%.3f\" % np.mean(metrics['train_loss'][-10:], axis=0)[1], flush=True)"
   ]
  },
  {
   "cell_type": "code",
   "execution_count": 866,
   "metadata": {},
   "outputs": [],
   "source": [
    "def predict(model, test_data):\n",
    "    test_queries = test_queries_to_matrices(test_data)\n",
    "    feed_dict = {queries: test_queries, \n",
    "                 vocab_matrix: vocab_emb_matrix}\n",
    "\n",
    "#     print(test_queries)\n",
    "    predicted_tokens = [[bos_ix for _ in range(len(test_data))]]\n",
    "    \n",
    "    states = sess.run(init_decode_states, feed_dict)\n",
    "    tokens = [np.ones(300) for _ in range(len(test_data))] #BOS words\n",
    "    state = states[:,-1]\n",
    "    \n",
    "    for t in range(max_word_count):\n",
    "        f_dict = {prev_state : state, prev_tokens : tokens, vocab_matrix: vocab_emb_matrix}\n",
    "        state, logits = sess.run([next_state, next_logits], f_dict)\n",
    "#         print('state, logits', state.shape, logits.shape)\n",
    "        \n",
    "        next_number_tokens = np.argmax(logits, axis=-1)\n",
    "        predicted_tokens.append(next_number_tokens)\n",
    "        \n",
    "        tokens = [model_wv[indeces_to_words[id_word]] for id_word in next_number_tokens]\n",
    "        \n",
    "    print(np.array(predicted_tokens).shape)\n",
    "    return predicted_tokens"
   ]
  },
  {
   "cell_type": "code",
   "execution_count": null,
   "metadata": {},
   "outputs": [],
   "source": []
  },
  {
   "cell_type": "code",
   "execution_count": 655,
   "metadata": {
    "scrolled": false
   },
   "outputs": [
    {
     "data": {
      "image/png": "[encoded data removed]",
      "text/plain": [
       "<Figure size 864x288 with 2 Axes>"
      ]
     },
     "metadata": {
      "needs_background": "light"
     },
     "output_type": "display_data"
    },
    {
     "name": "stdout",
     "output_type": "stream",
     "text": [
      "Mean loss=9.942\n"
     ]
    },
    {
     "ename": "KeyboardInterrupt",
     "evalue": "",
     "output_type": "error",
     "traceback": [
      "\u001b[0;31m---------------------------------------------------------------------------\u001b[0m",
      "\u001b[0;31mKeyboardInterrupt\u001b[0m                         Traceback (most recent call last)",
      "\u001b[0;32m<ipython-input-655-46e455f32423>\u001b[0m in \u001b[0;36m<module>\u001b[0;34m\u001b[0m\n\u001b[1;32m     19\u001b[0m                      vocab_matrix: vocab_emb_matrix}\n\u001b[1;32m     20\u001b[0m \u001b[0;34m\u001b[0m\u001b[0m\n\u001b[0;32m---> 21\u001b[0;31m         \u001b[0mloss_train\u001b[0m\u001b[0;34m,\u001b[0m \u001b[0m_\u001b[0m \u001b[0;34m=\u001b[0m \u001b[0msess\u001b[0m\u001b[0;34m.\u001b[0m\u001b[0mrun\u001b[0m\u001b[0;34m(\u001b[0m\u001b[0;34m[\u001b[0m\u001b[0mloss\u001b[0m\u001b[0;34m,\u001b[0m \u001b[0mtrain_step\u001b[0m\u001b[0;34m]\u001b[0m\u001b[0;34m,\u001b[0m \u001b[0mfeed_dict\u001b[0m\u001b[0;34m)\u001b[0m\u001b[0;34m\u001b[0m\u001b[0;34m\u001b[0m\u001b[0m\n\u001b[0m\u001b[1;32m     22\u001b[0m \u001b[0;34m\u001b[0m\u001b[0m\n\u001b[1;32m     23\u001b[0m         \u001b[0mmetrics\u001b[0m\u001b[0;34m[\u001b[0m\u001b[0;34m'train_loss'\u001b[0m\u001b[0;34m]\u001b[0m\u001b[0;34m.\u001b[0m\u001b[0mappend\u001b[0m\u001b[0;34m(\u001b[0m\u001b[0;34m[\u001b[0m\u001b[0mstep\u001b[0m\u001b[0;34m,\u001b[0m \u001b[0mloss_train\u001b[0m\u001b[0;34m]\u001b[0m\u001b[0;34m)\u001b[0m\u001b[0;34m\u001b[0m\u001b[0;34m\u001b[0m\u001b[0m\n",
      "\u001b[0;32m~/.virtualenvs/py/lib/python3.7/site-packages/tensorflow/python/client/session.py\u001b[0m in \u001b[0;36mrun\u001b[0;34m(self, fetches, feed_dict, options, run_metadata)\u001b[0m\n\u001b[1;32m    927\u001b[0m     \u001b[0;32mtry\u001b[0m\u001b[0;34m:\u001b[0m\u001b[0;34m\u001b[0m\u001b[0;34m\u001b[0m\u001b[0m\n\u001b[1;32m    928\u001b[0m       result = self._run(None, fetches, feed_dict, options_ptr,\n\u001b[0;32m--> 929\u001b[0;31m                          run_metadata_ptr)\n\u001b[0m\u001b[1;32m    930\u001b[0m       \u001b[0;32mif\u001b[0m \u001b[0mrun_metadata\u001b[0m\u001b[0;34m:\u001b[0m\u001b[0;34m\u001b[0m\u001b[0;34m\u001b[0m\u001b[0m\n\u001b[1;32m    931\u001b[0m         \u001b[0mproto_data\u001b[0m \u001b[0;34m=\u001b[0m \u001b[0mtf_session\u001b[0m\u001b[0;34m.\u001b[0m\u001b[0mTF_GetBuffer\u001b[0m\u001b[0;34m(\u001b[0m\u001b[0mrun_metadata_ptr\u001b[0m\u001b[0;34m)\u001b[0m\u001b[0;34m\u001b[0m\u001b[0;34m\u001b[0m\u001b[0m\n",
      "\u001b[0;32m~/.virtualenvs/py/lib/python3.7/site-packages/tensorflow/python/client/session.py\u001b[0m in \u001b[0;36m_run\u001b[0;34m(self, handle, fetches, feed_dict, options, run_metadata)\u001b[0m\n\u001b[1;32m   1150\u001b[0m     \u001b[0;32mif\u001b[0m \u001b[0mfinal_fetches\u001b[0m \u001b[0;32mor\u001b[0m \u001b[0mfinal_targets\u001b[0m \u001b[0;32mor\u001b[0m \u001b[0;34m(\u001b[0m\u001b[0mhandle\u001b[0m \u001b[0;32mand\u001b[0m \u001b[0mfeed_dict_tensor\u001b[0m\u001b[0;34m)\u001b[0m\u001b[0;34m:\u001b[0m\u001b[0;34m\u001b[0m\u001b[0;34m\u001b[0m\u001b[0m\n\u001b[1;32m   1151\u001b[0m       results = self._do_run(handle, final_targets, final_fetches,\n\u001b[0;32m-> 1152\u001b[0;31m                              feed_dict_tensor, options, run_metadata)\n\u001b[0m\u001b[1;32m   1153\u001b[0m     \u001b[0;32melse\u001b[0m\u001b[0;34m:\u001b[0m\u001b[0;34m\u001b[0m\u001b[0;34m\u001b[0m\u001b[0m\n\u001b[1;32m   1154\u001b[0m       \u001b[0mresults\u001b[0m \u001b[0;34m=\u001b[0m \u001b[0;34m[\u001b[0m\u001b[0;34m]\u001b[0m\u001b[0;34m\u001b[0m\u001b[0;34m\u001b[0m\u001b[0m\n",
      "\u001b[0;32m~/.virtualenvs/py/lib/python3.7/site-packages/tensorflow/python/client/session.py\u001b[0m in \u001b[0;36m_do_run\u001b[0;34m(self, handle, target_list, fetch_list, feed_dict, options, run_metadata)\u001b[0m\n\u001b[1;32m   1326\u001b[0m     \u001b[0;32mif\u001b[0m \u001b[0mhandle\u001b[0m \u001b[0;32mis\u001b[0m \u001b[0;32mNone\u001b[0m\u001b[0;34m:\u001b[0m\u001b[0;34m\u001b[0m\u001b[0;34m\u001b[0m\u001b[0m\n\u001b[1;32m   1327\u001b[0m       return self._do_call(_run_fn, feeds, fetches, targets, options,\n\u001b[0;32m-> 1328\u001b[0;31m                            run_metadata)\n\u001b[0m\u001b[1;32m   1329\u001b[0m     \u001b[0;32melse\u001b[0m\u001b[0;34m:\u001b[0m\u001b[0;34m\u001b[0m\u001b[0;34m\u001b[0m\u001b[0m\n\u001b[1;32m   1330\u001b[0m       \u001b[0;32mreturn\u001b[0m \u001b[0mself\u001b[0m\u001b[0;34m.\u001b[0m\u001b[0m_do_call\u001b[0m\u001b[0;34m(\u001b[0m\u001b[0m_prun_fn\u001b[0m\u001b[0;34m,\u001b[0m \u001b[0mhandle\u001b[0m\u001b[0;34m,\u001b[0m \u001b[0mfeeds\u001b[0m\u001b[0;34m,\u001b[0m \u001b[0mfetches\u001b[0m\u001b[0;34m)\u001b[0m\u001b[0;34m\u001b[0m\u001b[0;34m\u001b[0m\u001b[0m\n",
      "\u001b[0;32m~/.virtualenvs/py/lib/python3.7/site-packages/tensorflow/python/client/session.py\u001b[0m in \u001b[0;36m_do_call\u001b[0;34m(self, fn, *args)\u001b[0m\n\u001b[1;32m   1332\u001b[0m   \u001b[0;32mdef\u001b[0m \u001b[0m_do_call\u001b[0m\u001b[0;34m(\u001b[0m\u001b[0mself\u001b[0m\u001b[0;34m,\u001b[0m \u001b[0mfn\u001b[0m\u001b[0;34m,\u001b[0m \u001b[0;34m*\u001b[0m\u001b[0margs\u001b[0m\u001b[0;34m)\u001b[0m\u001b[0;34m:\u001b[0m\u001b[0;34m\u001b[0m\u001b[0;34m\u001b[0m\u001b[0m\n\u001b[1;32m   1333\u001b[0m     \u001b[0;32mtry\u001b[0m\u001b[0;34m:\u001b[0m\u001b[0;34m\u001b[0m\u001b[0;34m\u001b[0m\u001b[0m\n\u001b[0;32m-> 1334\u001b[0;31m       \u001b[0;32mreturn\u001b[0m \u001b[0mfn\u001b[0m\u001b[0;34m(\u001b[0m\u001b[0;34m*\u001b[0m\u001b[0margs\u001b[0m\u001b[0;34m)\u001b[0m\u001b[0;34m\u001b[0m\u001b[0;34m\u001b[0m\u001b[0m\n\u001b[0m\u001b[1;32m   1335\u001b[0m     \u001b[0;32mexcept\u001b[0m \u001b[0merrors\u001b[0m\u001b[0;34m.\u001b[0m\u001b[0mOpError\u001b[0m \u001b[0;32mas\u001b[0m \u001b[0me\u001b[0m\u001b[0;34m:\u001b[0m\u001b[0;34m\u001b[0m\u001b[0;34m\u001b[0m\u001b[0m\n\u001b[1;32m   1336\u001b[0m       \u001b[0mmessage\u001b[0m \u001b[0;34m=\u001b[0m \u001b[0mcompat\u001b[0m\u001b[0;34m.\u001b[0m\u001b[0mas_text\u001b[0m\u001b[0;34m(\u001b[0m\u001b[0me\u001b[0m\u001b[0;34m.\u001b[0m\u001b[0mmessage\u001b[0m\u001b[0;34m)\u001b[0m\u001b[0;34m\u001b[0m\u001b[0;34m\u001b[0m\u001b[0m\n",
      "\u001b[0;32m~/.virtualenvs/py/lib/python3.7/site-packages/tensorflow/python/client/session.py\u001b[0m in \u001b[0;36m_run_fn\u001b[0;34m(feed_dict, fetch_list, target_list, options, run_metadata)\u001b[0m\n\u001b[1;32m   1317\u001b[0m       \u001b[0mself\u001b[0m\u001b[0;34m.\u001b[0m\u001b[0m_extend_graph\u001b[0m\u001b[0;34m(\u001b[0m\u001b[0;34m)\u001b[0m\u001b[0;34m\u001b[0m\u001b[0;34m\u001b[0m\u001b[0m\n\u001b[1;32m   1318\u001b[0m       return self._call_tf_sessionrun(\n\u001b[0;32m-> 1319\u001b[0;31m           options, feed_dict, fetch_list, target_list, run_metadata)\n\u001b[0m\u001b[1;32m   1320\u001b[0m \u001b[0;34m\u001b[0m\u001b[0m\n\u001b[1;32m   1321\u001b[0m     \u001b[0;32mdef\u001b[0m \u001b[0m_prun_fn\u001b[0m\u001b[0;34m(\u001b[0m\u001b[0mhandle\u001b[0m\u001b[0;34m,\u001b[0m \u001b[0mfeed_dict\u001b[0m\u001b[0;34m,\u001b[0m \u001b[0mfetch_list\u001b[0m\u001b[0;34m)\u001b[0m\u001b[0;34m:\u001b[0m\u001b[0;34m\u001b[0m\u001b[0;34m\u001b[0m\u001b[0m\n",
      "\u001b[0;32m~/.virtualenvs/py/lib/python3.7/site-packages/tensorflow/python/client/session.py\u001b[0m in \u001b[0;36m_call_tf_sessionrun\u001b[0;34m(self, options, feed_dict, fetch_list, target_list, run_metadata)\u001b[0m\n\u001b[1;32m   1405\u001b[0m     return tf_session.TF_SessionRun_wrapper(\n\u001b[1;32m   1406\u001b[0m         \u001b[0mself\u001b[0m\u001b[0;34m.\u001b[0m\u001b[0m_session\u001b[0m\u001b[0;34m,\u001b[0m \u001b[0moptions\u001b[0m\u001b[0;34m,\u001b[0m \u001b[0mfeed_dict\u001b[0m\u001b[0;34m,\u001b[0m \u001b[0mfetch_list\u001b[0m\u001b[0;34m,\u001b[0m \u001b[0mtarget_list\u001b[0m\u001b[0;34m,\u001b[0m\u001b[0;34m\u001b[0m\u001b[0;34m\u001b[0m\u001b[0m\n\u001b[0;32m-> 1407\u001b[0;31m         run_metadata)\n\u001b[0m\u001b[1;32m   1408\u001b[0m \u001b[0;34m\u001b[0m\u001b[0m\n\u001b[1;32m   1409\u001b[0m   \u001b[0;32mdef\u001b[0m \u001b[0m_call_tf_sessionprun\u001b[0m\u001b[0;34m(\u001b[0m\u001b[0mself\u001b[0m\u001b[0;34m,\u001b[0m \u001b[0mhandle\u001b[0m\u001b[0;34m,\u001b[0m \u001b[0mfeed_dict\u001b[0m\u001b[0;34m,\u001b[0m \u001b[0mfetch_list\u001b[0m\u001b[0;34m)\u001b[0m\u001b[0;34m:\u001b[0m\u001b[0;34m\u001b[0m\u001b[0;34m\u001b[0m\u001b[0m\n",
      "\u001b[0;31mKeyboardInterrupt\u001b[0m: "
     ]
    }
   ],
   "source": [
    "epochs = 5\n",
    "steps_per_epoch = 100\n",
    "\n",
    "batch_generator = get_batch(data_aol, good_last_indeces_for_batch[:10000], batch_size=15)\n",
    "val_queries, val_targets = get_one_batch(data_aol, good_last_indeces_for_batch[10000:11000])\n",
    "\n",
    "feed_dict_validation = {queries: val_queries, \n",
    "                        targets: val_targets, \n",
    "                        vocab_matrix: vocab_emb_matrix}\n",
    "\n",
    "for epoch in range(epochs):\n",
    "    for iteration in range(steps_per_epoch):\n",
    "        step = len(metrics['train_loss']) + 1\n",
    "        \n",
    "        batch_queries, batch_targets = next(batch_generator)\n",
    "        \n",
    "        feed_dict = {queries: batch_queries, \n",
    "                     targets: batch_targets, \n",
    "                     vocab_matrix: vocab_emb_matrix}\n",
    "        \n",
    "        loss_train, _ = sess.run([loss, train_step], feed_dict)\n",
    "        \n",
    "        metrics['train_loss'].append([step, loss_train])\n",
    "        \n",
    "        if step % 10 == 0:\n",
    "            val_loss = sess.run(loss, feed_dict_validation)\n",
    "            metrics['val_loss'].append([step, val_loss])\n",
    "            \n",
    "            clear_output(True)\n",
    "            plt.figure(figsize=(12,4))\n",
    "            for i, (name, history) in enumerate(sorted(metrics.items())):\n",
    "                plt.subplot(1, len(metrics), i + 1)\n",
    "                plt.title(name)\n",
    "                plt.plot(*zip(*history))\n",
    "                plt.grid()\n",
    "            plt.show();\n",
    "            \n",
    "            print(\"Mean loss=%.3f\" % np.mean(metrics['train_loss'][-10:], axis=0)[1], flush=True)"
   ]
  }
 ],
 "metadata": {
  "kernelspec": {
   "display_name": "Python 3",
   "language": "python",
   "name": "python3"
  },
  "language_info": {
   "codemirror_mode": {
    "name": "ipython",
    "version": 3
   },
   "file_extension": ".py",
   "mimetype": "text/x-python",
   "name": "python",
   "nbconvert_exporter": "python",
   "pygments_lexer": "ipython3",
   "version": "3.7.1"
  }
 },
 "nbformat": 4,
 "nbformat_minor": 2
}
